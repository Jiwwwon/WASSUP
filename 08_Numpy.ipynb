{
 "cells": [
  {
   "cell_type": "code",
   "execution_count": 3,
   "id": "361a0343",
   "metadata": {},
   "outputs": [
    {
     "data": {
      "text/plain": [
       "'1.24.3'"
      ]
     },
     "execution_count": 3,
     "metadata": {},
     "output_type": "execute_result"
    }
   ],
   "source": [
    "import numpy as np\n",
    "np.__version__"
   ]
  },
  {
   "cell_type": "code",
   "execution_count": 2,
   "id": "438f8f03",
   "metadata": {},
   "outputs": [
    {
     "data": {
      "text/plain": [
       "['ALLOW_THREADS',\n",
       " 'AxisError',\n",
       " 'BUFSIZE',\n",
       " 'CLIP',\n",
       " 'ComplexWarning',\n",
       " 'DataSource',\n",
       " 'ERR_CALL',\n",
       " 'ERR_DEFAULT',\n",
       " 'ERR_IGNORE',\n",
       " 'ERR_LOG',\n",
       " 'ERR_PRINT',\n",
       " 'ERR_RAISE',\n",
       " 'ERR_WARN',\n",
       " 'FLOATING_POINT_SUPPORT',\n",
       " 'FPE_DIVIDEBYZERO',\n",
       " 'FPE_INVALID',\n",
       " 'FPE_OVERFLOW',\n",
       " 'FPE_UNDERFLOW',\n",
       " 'False_',\n",
       " 'Inf',\n",
       " 'Infinity',\n",
       " 'MAXDIMS',\n",
       " 'MAY_SHARE_BOUNDS',\n",
       " 'MAY_SHARE_EXACT',\n",
       " 'ModuleDeprecationWarning',\n",
       " 'NAN',\n",
       " 'NINF',\n",
       " 'NZERO',\n",
       " 'NaN',\n",
       " 'PINF',\n",
       " 'PZERO',\n",
       " 'RAISE',\n",
       " 'RankWarning',\n",
       " 'SHIFT_DIVIDEBYZERO',\n",
       " 'SHIFT_INVALID',\n",
       " 'SHIFT_OVERFLOW',\n",
       " 'SHIFT_UNDERFLOW',\n",
       " 'ScalarType',\n",
       " 'Tester',\n",
       " 'TooHardError',\n",
       " 'True_',\n",
       " 'UFUNC_BUFSIZE_DEFAULT',\n",
       " 'UFUNC_PYVALS_NAME',\n",
       " 'VisibleDeprecationWarning',\n",
       " 'WRAP',\n",
       " '_CopyMode',\n",
       " '_NoValue',\n",
       " '_UFUNC_API',\n",
       " '__NUMPY_SETUP__',\n",
       " '__all__',\n",
       " '__builtins__',\n",
       " '__cached__',\n",
       " '__config__',\n",
       " '__deprecated_attrs__',\n",
       " '__dir__',\n",
       " '__doc__',\n",
       " '__expired_functions__',\n",
       " '__file__',\n",
       " '__former_attrs__',\n",
       " '__future_scalars__',\n",
       " '__getattr__',\n",
       " '__git_version__',\n",
       " '__loader__',\n",
       " '__mkl_version__',\n",
       " '__name__',\n",
       " '__package__',\n",
       " '__path__',\n",
       " '__spec__',\n",
       " '__version__',\n",
       " '_add_newdoc_ufunc',\n",
       " '_builtins',\n",
       " '_distributor_init',\n",
       " '_financial_names',\n",
       " '_get_promotion_state',\n",
       " '_globals',\n",
       " '_int_extended_msg',\n",
       " '_mat',\n",
       " '_no_nep50_warning',\n",
       " '_pyinstaller_hooks_dir',\n",
       " '_pytesttester',\n",
       " '_set_promotion_state',\n",
       " '_specific_msg',\n",
       " '_version',\n",
       " 'abs',\n",
       " 'absolute',\n",
       " 'add',\n",
       " 'add_docstring',\n",
       " 'add_newdoc',\n",
       " 'add_newdoc_ufunc',\n",
       " 'all',\n",
       " 'allclose',\n",
       " 'alltrue',\n",
       " 'amax',\n",
       " 'amin',\n",
       " 'angle',\n",
       " 'any',\n",
       " 'append',\n",
       " 'apply_along_axis',\n",
       " 'apply_over_axes',\n",
       " 'arange',\n",
       " 'arccos',\n",
       " 'arccosh',\n",
       " 'arcsin',\n",
       " 'arcsinh',\n",
       " 'arctan',\n",
       " 'arctan2',\n",
       " 'arctanh',\n",
       " 'argmax',\n",
       " 'argmin',\n",
       " 'argpartition',\n",
       " 'argsort',\n",
       " 'argwhere',\n",
       " 'around',\n",
       " 'array',\n",
       " 'array2string',\n",
       " 'array_equal',\n",
       " 'array_equiv',\n",
       " 'array_repr',\n",
       " 'array_split',\n",
       " 'array_str',\n",
       " 'asanyarray',\n",
       " 'asarray',\n",
       " 'asarray_chkfinite',\n",
       " 'ascontiguousarray',\n",
       " 'asfarray',\n",
       " 'asfortranarray',\n",
       " 'asmatrix',\n",
       " 'atleast_1d',\n",
       " 'atleast_2d',\n",
       " 'atleast_3d',\n",
       " 'average',\n",
       " 'bartlett',\n",
       " 'base_repr',\n",
       " 'binary_repr',\n",
       " 'bincount',\n",
       " 'bitwise_and',\n",
       " 'bitwise_not',\n",
       " 'bitwise_or',\n",
       " 'bitwise_xor',\n",
       " 'blackman',\n",
       " 'block',\n",
       " 'bmat',\n",
       " 'bool_',\n",
       " 'broadcast',\n",
       " 'broadcast_arrays',\n",
       " 'broadcast_shapes',\n",
       " 'broadcast_to',\n",
       " 'busday_count',\n",
       " 'busday_offset',\n",
       " 'busdaycalendar',\n",
       " 'byte',\n",
       " 'byte_bounds',\n",
       " 'bytes_',\n",
       " 'c_',\n",
       " 'can_cast',\n",
       " 'cast',\n",
       " 'cbrt',\n",
       " 'cdouble',\n",
       " 'ceil',\n",
       " 'cfloat',\n",
       " 'char',\n",
       " 'character',\n",
       " 'chararray',\n",
       " 'choose',\n",
       " 'clip',\n",
       " 'clongdouble',\n",
       " 'clongfloat',\n",
       " 'column_stack',\n",
       " 'common_type',\n",
       " 'compare_chararrays',\n",
       " 'compat',\n",
       " 'complex128',\n",
       " 'complex64',\n",
       " 'complex_',\n",
       " 'complexfloating',\n",
       " 'compress',\n",
       " 'concatenate',\n",
       " 'conj',\n",
       " 'conjugate',\n",
       " 'convolve',\n",
       " 'copy',\n",
       " 'copysign',\n",
       " 'copyto',\n",
       " 'corrcoef',\n",
       " 'correlate',\n",
       " 'cos',\n",
       " 'cosh',\n",
       " 'count_nonzero',\n",
       " 'cov',\n",
       " 'cross',\n",
       " 'csingle',\n",
       " 'ctypeslib',\n",
       " 'cumprod',\n",
       " 'cumproduct',\n",
       " 'cumsum',\n",
       " 'datetime64',\n",
       " 'datetime_as_string',\n",
       " 'datetime_data',\n",
       " 'deg2rad',\n",
       " 'degrees',\n",
       " 'delete',\n",
       " 'deprecate',\n",
       " 'deprecate_with_doc',\n",
       " 'diag',\n",
       " 'diag_indices',\n",
       " 'diag_indices_from',\n",
       " 'diagflat',\n",
       " 'diagonal',\n",
       " 'diff',\n",
       " 'digitize',\n",
       " 'disp',\n",
       " 'divide',\n",
       " 'divmod',\n",
       " 'dot',\n",
       " 'double',\n",
       " 'dsplit',\n",
       " 'dstack',\n",
       " 'dtype',\n",
       " 'e',\n",
       " 'ediff1d',\n",
       " 'einsum',\n",
       " 'einsum_path',\n",
       " 'emath',\n",
       " 'empty',\n",
       " 'empty_like',\n",
       " 'equal',\n",
       " 'errstate',\n",
       " 'euler_gamma',\n",
       " 'exp',\n",
       " 'exp2',\n",
       " 'expand_dims',\n",
       " 'expm1',\n",
       " 'extract',\n",
       " 'eye',\n",
       " 'fabs',\n",
       " 'fastCopyAndTranspose',\n",
       " 'fft',\n",
       " 'fill_diagonal',\n",
       " 'find_common_type',\n",
       " 'finfo',\n",
       " 'fix',\n",
       " 'flatiter',\n",
       " 'flatnonzero',\n",
       " 'flexible',\n",
       " 'flip',\n",
       " 'fliplr',\n",
       " 'flipud',\n",
       " 'float16',\n",
       " 'float32',\n",
       " 'float64',\n",
       " 'float_',\n",
       " 'float_power',\n",
       " 'floating',\n",
       " 'floor',\n",
       " 'floor_divide',\n",
       " 'fmax',\n",
       " 'fmin',\n",
       " 'fmod',\n",
       " 'format_float_positional',\n",
       " 'format_float_scientific',\n",
       " 'format_parser',\n",
       " 'frexp',\n",
       " 'from_dlpack',\n",
       " 'frombuffer',\n",
       " 'fromfile',\n",
       " 'fromfunction',\n",
       " 'fromiter',\n",
       " 'frompyfunc',\n",
       " 'fromregex',\n",
       " 'fromstring',\n",
       " 'full',\n",
       " 'full_like',\n",
       " 'gcd',\n",
       " 'generic',\n",
       " 'genfromtxt',\n",
       " 'geomspace',\n",
       " 'get_array_wrap',\n",
       " 'get_include',\n",
       " 'get_printoptions',\n",
       " 'getbufsize',\n",
       " 'geterr',\n",
       " 'geterrcall',\n",
       " 'geterrobj',\n",
       " 'gradient',\n",
       " 'greater',\n",
       " 'greater_equal',\n",
       " 'half',\n",
       " 'hamming',\n",
       " 'hanning',\n",
       " 'heaviside',\n",
       " 'histogram',\n",
       " 'histogram2d',\n",
       " 'histogram_bin_edges',\n",
       " 'histogramdd',\n",
       " 'hsplit',\n",
       " 'hstack',\n",
       " 'hypot',\n",
       " 'i0',\n",
       " 'identity',\n",
       " 'iinfo',\n",
       " 'imag',\n",
       " 'in1d',\n",
       " 'index_exp',\n",
       " 'indices',\n",
       " 'inexact',\n",
       " 'inf',\n",
       " 'info',\n",
       " 'infty',\n",
       " 'inner',\n",
       " 'insert',\n",
       " 'int16',\n",
       " 'int32',\n",
       " 'int64',\n",
       " 'int8',\n",
       " 'int_',\n",
       " 'intc',\n",
       " 'integer',\n",
       " 'interp',\n",
       " 'intersect1d',\n",
       " 'intp',\n",
       " 'invert',\n",
       " 'is_busday',\n",
       " 'isclose',\n",
       " 'iscomplex',\n",
       " 'iscomplexobj',\n",
       " 'isfinite',\n",
       " 'isfortran',\n",
       " 'isin',\n",
       " 'isinf',\n",
       " 'isnan',\n",
       " 'isnat',\n",
       " 'isneginf',\n",
       " 'isposinf',\n",
       " 'isreal',\n",
       " 'isrealobj',\n",
       " 'isscalar',\n",
       " 'issctype',\n",
       " 'issubclass_',\n",
       " 'issubdtype',\n",
       " 'issubsctype',\n",
       " 'iterable',\n",
       " 'ix_',\n",
       " 'kaiser',\n",
       " 'kron',\n",
       " 'lcm',\n",
       " 'ldexp',\n",
       " 'left_shift',\n",
       " 'less',\n",
       " 'less_equal',\n",
       " 'lexsort',\n",
       " 'lib',\n",
       " 'linalg',\n",
       " 'linspace',\n",
       " 'little_endian',\n",
       " 'load',\n",
       " 'loadtxt',\n",
       " 'log',\n",
       " 'log10',\n",
       " 'log1p',\n",
       " 'log2',\n",
       " 'logaddexp',\n",
       " 'logaddexp2',\n",
       " 'logical_and',\n",
       " 'logical_not',\n",
       " 'logical_or',\n",
       " 'logical_xor',\n",
       " 'logspace',\n",
       " 'longcomplex',\n",
       " 'longdouble',\n",
       " 'longfloat',\n",
       " 'longlong',\n",
       " 'lookfor',\n",
       " 'ma',\n",
       " 'mask_indices',\n",
       " 'mat',\n",
       " 'math',\n",
       " 'matmul',\n",
       " 'matrix',\n",
       " 'max',\n",
       " 'maximum',\n",
       " 'maximum_sctype',\n",
       " 'may_share_memory',\n",
       " 'mean',\n",
       " 'median',\n",
       " 'memmap',\n",
       " 'meshgrid',\n",
       " 'mgrid',\n",
       " 'min',\n",
       " 'min_scalar_type',\n",
       " 'minimum',\n",
       " 'mintypecode',\n",
       " 'mkl',\n",
       " 'mod',\n",
       " 'modf',\n",
       " 'moveaxis',\n",
       " 'msort',\n",
       " 'multiply',\n",
       " 'nan',\n",
       " 'nan_to_num',\n",
       " 'nanargmax',\n",
       " 'nanargmin',\n",
       " 'nancumprod',\n",
       " 'nancumsum',\n",
       " 'nanmax',\n",
       " 'nanmean',\n",
       " 'nanmedian',\n",
       " 'nanmin',\n",
       " 'nanpercentile',\n",
       " 'nanprod',\n",
       " 'nanquantile',\n",
       " 'nanstd',\n",
       " 'nansum',\n",
       " 'nanvar',\n",
       " 'nbytes',\n",
       " 'ndarray',\n",
       " 'ndenumerate',\n",
       " 'ndim',\n",
       " 'ndindex',\n",
       " 'nditer',\n",
       " 'negative',\n",
       " 'nested_iters',\n",
       " 'newaxis',\n",
       " 'nextafter',\n",
       " 'nonzero',\n",
       " 'not_equal',\n",
       " 'numarray',\n",
       " 'number',\n",
       " 'obj2sctype',\n",
       " 'object_',\n",
       " 'ogrid',\n",
       " 'oldnumeric',\n",
       " 'ones',\n",
       " 'ones_like',\n",
       " 'outer',\n",
       " 'packbits',\n",
       " 'pad',\n",
       " 'partition',\n",
       " 'percentile',\n",
       " 'pi',\n",
       " 'piecewise',\n",
       " 'place',\n",
       " 'poly',\n",
       " 'poly1d',\n",
       " 'polyadd',\n",
       " 'polyder',\n",
       " 'polydiv',\n",
       " 'polyfit',\n",
       " 'polyint',\n",
       " 'polymul',\n",
       " 'polynomial',\n",
       " 'polysub',\n",
       " 'polyval',\n",
       " 'positive',\n",
       " 'power',\n",
       " 'printoptions',\n",
       " 'prod',\n",
       " 'product',\n",
       " 'promote_types',\n",
       " 'ptp',\n",
       " 'put',\n",
       " 'put_along_axis',\n",
       " 'putmask',\n",
       " 'quantile',\n",
       " 'r_',\n",
       " 'rad2deg',\n",
       " 'radians',\n",
       " 'random',\n",
       " 'ravel',\n",
       " 'ravel_multi_index',\n",
       " 'real',\n",
       " 'real_if_close',\n",
       " 'rec',\n",
       " 'recarray',\n",
       " 'recfromcsv',\n",
       " 'recfromtxt',\n",
       " 'reciprocal',\n",
       " 'record',\n",
       " 'remainder',\n",
       " 'repeat',\n",
       " 'require',\n",
       " 'reshape',\n",
       " 'resize',\n",
       " 'result_type',\n",
       " 'right_shift',\n",
       " 'rint',\n",
       " 'roll',\n",
       " 'rollaxis',\n",
       " 'roots',\n",
       " 'rot90',\n",
       " 'round',\n",
       " 'round_',\n",
       " 'row_stack',\n",
       " 's_',\n",
       " 'safe_eval',\n",
       " 'save',\n",
       " 'savetxt',\n",
       " 'savez',\n",
       " 'savez_compressed',\n",
       " 'sctype2char',\n",
       " 'sctypeDict',\n",
       " 'sctypes',\n",
       " 'searchsorted',\n",
       " 'select',\n",
       " 'set_numeric_ops',\n",
       " 'set_printoptions',\n",
       " 'set_string_function',\n",
       " 'setbufsize',\n",
       " 'setdiff1d',\n",
       " 'seterr',\n",
       " 'seterrcall',\n",
       " 'seterrobj',\n",
       " 'setxor1d',\n",
       " 'shape',\n",
       " 'shares_memory',\n",
       " 'short',\n",
       " 'show_config',\n",
       " 'show_runtime',\n",
       " 'sign',\n",
       " 'signbit',\n",
       " 'signedinteger',\n",
       " 'sin',\n",
       " 'sinc',\n",
       " 'single',\n",
       " 'singlecomplex',\n",
       " 'sinh',\n",
       " 'size',\n",
       " 'sometrue',\n",
       " 'sort',\n",
       " 'sort_complex',\n",
       " 'source',\n",
       " 'spacing',\n",
       " 'split',\n",
       " 'sqrt',\n",
       " 'square',\n",
       " 'squeeze',\n",
       " 'stack',\n",
       " 'std',\n",
       " 'str_',\n",
       " 'string_',\n",
       " 'subtract',\n",
       " 'sum',\n",
       " 'swapaxes',\n",
       " 'take',\n",
       " 'take_along_axis',\n",
       " 'tan',\n",
       " 'tanh',\n",
       " 'tensordot',\n",
       " 'test',\n",
       " 'testing',\n",
       " 'tile',\n",
       " 'timedelta64',\n",
       " 'trace',\n",
       " 'tracemalloc_domain',\n",
       " 'transpose',\n",
       " 'trapz',\n",
       " 'tri',\n",
       " 'tril',\n",
       " 'tril_indices',\n",
       " 'tril_indices_from',\n",
       " 'trim_zeros',\n",
       " 'triu',\n",
       " 'triu_indices',\n",
       " 'triu_indices_from',\n",
       " 'true_divide',\n",
       " 'trunc',\n",
       " 'typecodes',\n",
       " 'typename',\n",
       " 'ubyte',\n",
       " 'ufunc',\n",
       " 'uint',\n",
       " 'uint16',\n",
       " 'uint32',\n",
       " 'uint64',\n",
       " 'uint8',\n",
       " 'uintc',\n",
       " 'uintp',\n",
       " 'ulonglong',\n",
       " 'unicode_',\n",
       " 'union1d',\n",
       " 'unique',\n",
       " 'unpackbits',\n",
       " 'unravel_index',\n",
       " 'unsignedinteger',\n",
       " 'unwrap',\n",
       " 'use_hugepage',\n",
       " 'ushort',\n",
       " 'vander',\n",
       " 'var',\n",
       " 'vdot',\n",
       " 'vectorize',\n",
       " 'version',\n",
       " 'void',\n",
       " 'vsplit',\n",
       " 'vstack',\n",
       " 'where',\n",
       " 'who',\n",
       " 'zeros',\n",
       " 'zeros_like']"
      ]
     },
     "execution_count": 2,
     "metadata": {},
     "output_type": "execute_result"
    }
   ],
   "source": [
    "# 메소드와 속성\n",
    "dir(np)"
   ]
  },
  {
   "cell_type": "markdown",
   "id": "fe7055ae",
   "metadata": {},
   "source": [
    "# numpy 배열 \n",
    "ndim(dimention, rank) \n",
    "1차원 벡터(x) 2 매트릭스(x 행,y 열) 3 텐서(x 행,y 열,z 깊이)"
   ]
  },
  {
   "cell_type": "code",
   "execution_count": 5,
   "id": "2cc54c53",
   "metadata": {},
   "outputs": [
    {
     "data": {
      "text/plain": [
       "(array(0), 0, numpy.ndarray)"
      ]
     },
     "execution_count": 5,
     "metadata": {},
     "output_type": "execute_result"
    }
   ],
   "source": [
    "a = np.array(0)\n",
    "a, a.ndim, type(a)"
   ]
  },
  {
   "cell_type": "code",
   "execution_count": 6,
   "id": "b0746e43",
   "metadata": {},
   "outputs": [
    {
     "data": {
      "text/plain": [
       "(array([2, 4, 6]), 1, numpy.ndarray)"
      ]
     },
     "execution_count": 6,
     "metadata": {},
     "output_type": "execute_result"
    }
   ],
   "source": [
    "a = np.array([2, 4, 6])\n",
    "a, a.ndim, type(a)"
   ]
  },
  {
   "cell_type": "code",
   "execution_count": 7,
   "id": "dcb28c54",
   "metadata": {},
   "outputs": [
    {
     "data": {
      "text/plain": [
       "(array([[1, 2, 3],\n",
       "        [4, 5, 6]]),\n",
       " 2,\n",
       " numpy.ndarray)"
      ]
     },
     "execution_count": 7,
     "metadata": {},
     "output_type": "execute_result"
    }
   ],
   "source": [
    "a = np.array( [[1,2,3], [4,5,6]] )\n",
    "a, a.ndim, type(a)"
   ]
  },
  {
   "cell_type": "code",
   "execution_count": 8,
   "id": "343b0e86",
   "metadata": {},
   "outputs": [
    {
     "data": {
      "text/plain": [
       "(array([[[1, 2, 3],\n",
       "         [4, 5, 6]],\n",
       " \n",
       "        [[1, 2, 3],\n",
       "         [4, 5, 6]]]),\n",
       " 3,\n",
       " numpy.ndarray)"
      ]
     },
     "execution_count": 8,
     "metadata": {},
     "output_type": "execute_result"
    }
   ],
   "source": [
    "a = np.array( [ [[1,2,3], [4,5,6]], [[1,2,3], [4,5,6]] ] )\n",
    "a, a.ndim, type(a)"
   ]
  },
  {
   "cell_type": "markdown",
   "id": "9a1f7eea",
   "metadata": {},
   "source": [
    "# shape \n",
    "구조shape(4,) / 튜플 타입"
   ]
  },
  {
   "cell_type": "code",
   "execution_count": 10,
   "id": "e2256f0f",
   "metadata": {},
   "outputs": [
    {
     "data": {
      "text/plain": [
       "(array(3), ())"
      ]
     },
     "execution_count": 10,
     "metadata": {},
     "output_type": "execute_result"
    }
   ],
   "source": [
    "a = np.array(3)\n",
    "a, a.shape # 행렬아님"
   ]
  },
  {
   "cell_type": "code",
   "execution_count": 11,
   "id": "494a6151",
   "metadata": {},
   "outputs": [
    {
     "data": {
      "text/plain": [
       "(array([1, 3, 5, 7, 9]), (5,))"
      ]
     },
     "execution_count": 11,
     "metadata": {},
     "output_type": "execute_result"
    }
   ],
   "source": [
    "a = np.array([ 1, 3, 5, 7, 9 ])\n",
    "a, a.shape"
   ]
  },
  {
   "cell_type": "code",
   "execution_count": 12,
   "id": "5bc41a84",
   "metadata": {},
   "outputs": [
    {
     "data": {
      "text/plain": [
       "(array([[1, 2, 3],\n",
       "        [4, 5, 6]]),\n",
       " (2, 3))"
      ]
     },
     "execution_count": 12,
     "metadata": {},
     "output_type": "execute_result"
    }
   ],
   "source": [
    "a = np.array([[1,2,3], [4,5,6]])\n",
    "a, a.shape"
   ]
  },
  {
   "cell_type": "code",
   "execution_count": 13,
   "id": "0af368db",
   "metadata": {},
   "outputs": [
    {
     "data": {
      "text/plain": [
       "(array([[[0, 0, 0, 0],\n",
       "         [0, 0, 0, 0],\n",
       "         [0, 0, 0, 0]],\n",
       " \n",
       "        [[0, 0, 0, 0],\n",
       "         [0, 0, 0, 0],\n",
       "         [0, 0, 0, 0]]]),\n",
       " (2, 3, 4))"
      ]
     },
     "execution_count": 13,
     "metadata": {},
     "output_type": "execute_result"
    }
   ],
   "source": [
    "a = np.array([[[0, 0, 0, 0], [0, 0, 0, 0], [0, 0, 0, 0]], [[0, 0, 0, 0], [0, 0, 0, 0], [0, 0, 0, 0]]])\n",
    "a, a.shape # 2개의 3행 4열"
   ]
  },
  {
   "cell_type": "markdown",
   "id": "56729a49",
   "metadata": {},
   "source": [
    "# size\n",
    "요소의 수/ 길이 \n",
    "shape(2,3)"
   ]
  },
  {
   "cell_type": "code",
   "execution_count": 14,
   "id": "ffd42c3a",
   "metadata": {},
   "outputs": [
    {
     "data": {
      "text/plain": [
       "5"
      ]
     },
     "execution_count": 14,
     "metadata": {},
     "output_type": "execute_result"
    }
   ],
   "source": [
    "a= np.array([1, 3, 5, 7, 9])\n",
    "a.size"
   ]
  },
  {
   "cell_type": "code",
   "execution_count": 15,
   "id": "8a36c262",
   "metadata": {},
   "outputs": [
    {
     "data": {
      "text/plain": [
       "6"
      ]
     },
     "execution_count": 15,
     "metadata": {},
     "output_type": "execute_result"
    }
   ],
   "source": [
    "a = np.array([[1,2,3], [4,5,6]])\n",
    "a.size"
   ]
  },
  {
   "cell_type": "markdown",
   "id": "cb8a9e1d",
   "metadata": {},
   "source": [
    "# 넘파이 배열"
   ]
  },
  {
   "cell_type": "code",
   "execution_count": 16,
   "id": "da71d66a",
   "metadata": {},
   "outputs": [
    {
     "name": "stdout",
     "output_type": "stream",
     "text": [
      "[10, 56, 77, 23, 44] <class 'list'> 5\n"
     ]
    }
   ],
   "source": [
    "# 1차원 리스트 객체(이터러블)\n",
    "myList = [10, 56, 77, 23, 44]\n",
    "print(myList, type(myList), len(myList))"
   ]
  },
  {
   "cell_type": "code",
   "execution_count": 17,
   "id": "d1bf2ba8",
   "metadata": {},
   "outputs": [
    {
     "name": "stdout",
     "output_type": "stream",
     "text": [
      "[10 56 77 23 44] <class 'numpy.ndarray'> 5\n",
      "차원=1, 구조=(5,) 구조타입=<class 'tuple'>, size=5\n"
     ]
    }
   ],
   "source": [
    "myArr = np.array(myList)\n",
    "print(myArr, type(myArr), len(myArr))\n",
    "print(f'차원={myArr.ndim}, 구조={myArr.shape} 구조타입={type(myArr.shape)}, size={myArr.size}')"
   ]
  },
  {
   "cell_type": "code",
   "execution_count": 18,
   "id": "d2c433b4",
   "metadata": {},
   "outputs": [
    {
     "data": {
      "text/plain": [
       "array([10, 56, 77, 23, 44])"
      ]
     },
     "execution_count": 18,
     "metadata": {},
     "output_type": "execute_result"
    }
   ],
   "source": [
    "myArr"
   ]
  },
  {
   "cell_type": "code",
   "execution_count": 1,
   "id": "f9c155fe",
   "metadata": {},
   "outputs": [
    {
     "data": {
      "text/plain": [
       "([[1, 2, 3], [10, 20, 30], [100, 200, 300]], 3)"
      ]
     },
     "execution_count": 1,
     "metadata": {},
     "output_type": "execute_result"
    }
   ],
   "source": [
    "# 2차원 리스트 객체(이터러블)\n",
    "myList2 = [[1,2,3 ],[10,20,30],[100,200,300]] #대괗호가 3개\n",
    "myList2, len(myList2)"
   ]
  },
  {
   "cell_type": "code",
   "execution_count": 20,
   "id": "91191557",
   "metadata": {},
   "outputs": [
    {
     "name": "stdout",
     "output_type": "stream",
     "text": [
      "[[  1   2   3]\n",
      " [ 10  20  30]\n",
      " [100 200 300]] <class 'numpy.ndarray'> 3\n",
      "차원= 2, 구조 = (3, 3) 구조타입 = <class 'tuple'>, size = 9\n"
     ]
    }
   ],
   "source": [
    "myArr2 = np.array(myList2)\n",
    "print(myArr2, type(myArr2), len(myArr2))\n",
    "print(f'차원= {myArr2.ndim}, 구조 = {myArr2.shape} 구조타입 = {type(myArr2.shape)}, size = {myArr2.size}')"
   ]
  },
  {
   "cell_type": "code",
   "execution_count": 21,
   "id": "d134ba84",
   "metadata": {},
   "outputs": [
    {
     "name": "stdout",
     "output_type": "stream",
     "text": [
      "[[1, 2, 3, 4], [10, 20, 30, 40, 50], [100, 200]] <class 'list'> 3\n"
     ]
    }
   ],
   "source": [
    "# 2차원 리스트에서 각 행의 수가 다를 경우\n",
    "myList21 = [ [1,2,3,4 ],[10,20 ,30,40,50],[100,200,]]\n",
    "print(myList21, type(myList21), len(myList21))"
   ]
  },
  {
   "cell_type": "code",
   "execution_count": 22,
   "id": "f6b518cb",
   "metadata": {},
   "outputs": [
    {
     "ename": "ValueError",
     "evalue": "setting an array element with a sequence. The requested array has an inhomogeneous shape after 1 dimensions. The detected shape was (3,) + inhomogeneous part.",
     "output_type": "error",
     "traceback": [
      "\u001b[1;31m------------------------------------------------------------\u001b[0m",
      "\u001b[1;31mValueError\u001b[0m                 Traceback (most recent call last)",
      "Cell \u001b[1;32mIn[22], line 2\u001b[0m\n\u001b[0;32m      1\u001b[0m \u001b[38;5;66;03m# 길이가 달라서 에러 \u001b[39;00m\n\u001b[1;32m----> 2\u001b[0m myArr21 \u001b[38;5;241m=\u001b[39m np\u001b[38;5;241m.\u001b[39marray(myList21)\n\u001b[0;32m      3\u001b[0m \u001b[38;5;28mprint\u001b[39m(myArr21, \u001b[38;5;28mtype\u001b[39m(myArr21), \u001b[38;5;28mlen\u001b[39m(myArr21))\n\u001b[0;32m      4\u001b[0m \u001b[38;5;28mprint\u001b[39m(\u001b[38;5;124mf\u001b[39m\u001b[38;5;124m'\u001b[39m\u001b[38;5;124m차원= \u001b[39m\u001b[38;5;132;01m{\u001b[39;00mmyArr21\u001b[38;5;241m.\u001b[39mndim\u001b[38;5;132;01m}\u001b[39;00m\u001b[38;5;124m, 구조 = \u001b[39m\u001b[38;5;132;01m{\u001b[39;00mmyArr21\u001b[38;5;241m.\u001b[39mshape\u001b[38;5;132;01m}\u001b[39;00m\u001b[38;5;124m 구조타입 = \u001b[39m\u001b[38;5;132;01m{\u001b[39;00m\u001b[38;5;28mtype\u001b[39m(myArr21\u001b[38;5;241m.\u001b[39mshape)\u001b[38;5;132;01m}\u001b[39;00m\u001b[38;5;124m, size = \u001b[39m\u001b[38;5;132;01m{\u001b[39;00mmyArr21\u001b[38;5;241m.\u001b[39msize\u001b[38;5;132;01m}\u001b[39;00m\u001b[38;5;124m'\u001b[39m)\n",
      "\u001b[1;31mValueError\u001b[0m: setting an array element with a sequence. The requested array has an inhomogeneous shape after 1 dimensions. The detected shape was (3,) + inhomogeneous part."
     ]
    }
   ],
   "source": [
    "# 길이가 달라서 에러 \n",
    "myArr21 = np.array(myList21)\n",
    "print(myArr21, type(myArr21), len(myArr21))\n",
    "print(f'차원= {myArr21.ndim}, 구조 = {myArr21.shape} 구조타입 = {type(myArr21.shape)}, size = {myArr21.size}')"
   ]
  },
  {
   "cell_type": "markdown",
   "id": "137eb545",
   "metadata": {},
   "source": [
    "# 넘파이 배열과 리스트와의 차이점\n",
    "배열간의 연산 가능 \"브로드캐스팅\", 요소별 연산(element-wise)\n",
    " \n",
    " 넘파이 메서드 사용 가능 : 평균, 상관계수, 분산, 표준편차 등\n",
    " \n",
    " 리스트는 자료형 혼합 가능, 넘파이배열은 하나의 자료형만 가능"
   ]
  },
  {
   "cell_type": "code",
   "execution_count": 23,
   "id": "915499a9",
   "metadata": {},
   "outputs": [
    {
     "name": "stdout",
     "output_type": "stream",
     "text": [
      "[10, 30, 50, 1, 2, 3]\n"
     ]
    },
    {
     "ename": "TypeError",
     "evalue": "can only concatenate list (not \"int\") to list",
     "output_type": "error",
     "traceback": [
      "\u001b[1;31m------------------------------------------------------------\u001b[0m",
      "\u001b[1;31mTypeError\u001b[0m                  Traceback (most recent call last)",
      "Cell \u001b[1;32mIn[23], line 5\u001b[0m\n\u001b[0;32m      3\u001b[0m listB \u001b[38;5;241m=\u001b[39m [\u001b[38;5;241m1\u001b[39m, \u001b[38;5;241m2\u001b[39m, \u001b[38;5;241m3\u001b[39m]\n\u001b[0;32m      4\u001b[0m \u001b[38;5;28mprint\u001b[39m(listA \u001b[38;5;241m+\u001b[39m listB) \u001b[38;5;66;03m# 리스트의 + 연산자는 조인역할\u001b[39;00m\n\u001b[1;32m----> 5\u001b[0m \u001b[38;5;28mprint\u001b[39m(listA \u001b[38;5;241m+\u001b[39m \u001b[38;5;241m2\u001b[39m)\n",
      "\u001b[1;31mTypeError\u001b[0m: can only concatenate list (not \"int\") to list"
     ]
    }
   ],
   "source": [
    "# 리스트의 산술연산자 +, * \n",
    "listA = [10, 30, 50]\n",
    "listB = [1, 2, 3]\n",
    "print(listA + listB) # 리스트의 + 연산자는 조인역할\n",
    "print(listA + 2) # 불가"
   ]
  },
  {
   "cell_type": "code",
   "execution_count": 25,
   "id": "f8dd74ba",
   "metadata": {},
   "outputs": [
    {
     "name": "stdout",
     "output_type": "stream",
     "text": [
      "[10, 30, 50, 10, 30, 50]\n"
     ]
    },
    {
     "ename": "TypeError",
     "evalue": "can't multiply sequence by non-int of type 'list'",
     "output_type": "error",
     "traceback": [
      "\u001b[1;31m------------------------------------------------------------\u001b[0m",
      "\u001b[1;31mTypeError\u001b[0m                  Traceback (most recent call last)",
      "Cell \u001b[1;32mIn[25], line 2\u001b[0m\n\u001b[0;32m      1\u001b[0m \u001b[38;5;28mprint\u001b[39m(listA \u001b[38;5;241m*\u001b[39m \u001b[38;5;241m2\u001b[39m) \u001b[38;5;66;03m# 해당 리스트의 반복\u001b[39;00m\n\u001b[1;32m----> 2\u001b[0m \u001b[38;5;28mprint\u001b[39m(listA \u001b[38;5;241m*\u001b[39m listB)\n",
      "\u001b[1;31mTypeError\u001b[0m: can't multiply sequence by non-int of type 'list'"
     ]
    }
   ],
   "source": [
    "print(listA * 2) # 해당 리스트의 반복\n",
    "print(listA * listB) # 불가"
   ]
  },
  {
   "cell_type": "code",
   "execution_count": 26,
   "id": "66ec7961",
   "metadata": {},
   "outputs": [
    {
     "name": "stdout",
     "output_type": "stream",
     "text": [
      "[3 4 5]\n",
      "[2 4 6]\n"
     ]
    }
   ],
   "source": [
    "# 넘파이의 산술연산\n",
    "arrA = np.array([1, 2, 3])\n",
    "print(arrA + 2)\n",
    "print(arrA * 2)"
   ]
  },
  {
   "cell_type": "code",
   "execution_count": 27,
   "id": "af69f400",
   "metadata": {},
   "outputs": [
    {
     "name": "stdout",
     "output_type": "stream",
     "text": [
      "[5 7 9]\n",
      "[ 4 10 18]\n",
      "[0.25 0.4  0.5 ]\n",
      "[0 0 0]\n",
      "[1 2 3]\n"
     ]
    }
   ],
   "source": [
    "arrB = np.array([4, 5, 6])\n",
    "print(arrA + arrB)\n",
    "print(arrA * arrB)\n",
    "print(arrA / arrB)\n",
    "print(arrA // arrB) # 몫\n",
    "print(arrA % arrB) # 나머지"
   ]
  },
  {
   "attachments": {
    "image.png": {
     "image/png": "[encoded data removed]"
    }
   },
   "cell_type": "markdown",
   "id": "9c2ea6ce",
   "metadata": {},
   "source": [
    "# dtype  \n",
    "int가 더 세밀해짐\n",
    "![image.png](attachment:image.png)"
   ]
  },
  {
   "cell_type": "code",
   "execution_count": 4,
   "id": "e37183de",
   "metadata": {},
   "outputs": [
    {
     "name": "stdout",
     "output_type": "stream",
     "text": [
      "['안녕', 100, 3.14, True, False]\n"
     ]
    }
   ],
   "source": [
    "myList_c = ['안녕', 100, 3.14, True, False] # 리스트는 혼합된 형 그대로 유지\n",
    "print(myList_c)"
   ]
  },
  {
   "cell_type": "code",
   "execution_count": 7,
   "id": "b61dca3f",
   "metadata": {},
   "outputs": [
    {
     "name": "stdout",
     "output_type": "stream",
     "text": [
      "['안녕' '100' '3.14' 'True' 'False'] <class 'numpy.ndarray'> <U32\n"
     ]
    }
   ],
   "source": [
    "myArr_c = np.array(myList_c) # 넘파이배열은 '문자열'로 통일 자동형변환\n",
    "print(myArr_c, type(myArr_c), myArr_c.dtype)"
   ]
  },
  {
   "cell_type": "code",
   "execution_count": 8,
   "id": "95b5d59e",
   "metadata": {},
   "outputs": [
    {
     "name": "stdout",
     "output_type": "stream",
     "text": [
      "[100.     3.14  23.5    0.  ] <class 'numpy.ndarray'> float64\n"
     ]
    }
   ],
   "source": [
    "myArr_d = np.array([100, 3.14, 23.5, 0])\n",
    "print(myArr_d, type(myArr_d), myArr_d.dtype) # 타입 혼합시, 더 큰 실수형으로 통일 자동형변환"
   ]
  },
  {
   "cell_type": "markdown",
   "id": "edf698d7",
   "metadata": {},
   "source": [
    "# Inf와 NaN \n",
    "무한대를 표현하기 위한 np.inf(infinity)와 정의할 수 없는 숫자를 나타내는 np.nan(not a number)"
   ]
  },
  {
   "cell_type": "code",
   "execution_count": 10,
   "id": "730fc072",
   "metadata": {},
   "outputs": [
    {
     "name": "stderr",
     "output_type": "stream",
     "text": [
      "C:\\Users\\lg\\AppData\\Local\\Temp\\ipykernel_1752\\2068585620.py:1: RuntimeWarning: divide by zero encountered in divide\n",
      "  np.array([0, 1, -1, 0]) / np.array([1, 0, 0, 0])\n",
      "C:\\Users\\lg\\AppData\\Local\\Temp\\ipykernel_1752\\2068585620.py:1: RuntimeWarning: invalid value encountered in divide\n",
      "  np.array([0, 1, -1, 0]) / np.array([1, 0, 0, 0])\n"
     ]
    },
    {
     "data": {
      "text/plain": [
       "array([  0.,  inf, -inf,  nan])"
      ]
     },
     "execution_count": 10,
     "metadata": {},
     "output_type": "execute_result"
    }
   ],
   "source": [
    "np.array([0, 1, -1, 0]) / np.array([1, 0, 0, 0])"
   ]
  },
  {
   "cell_type": "code",
   "execution_count": 11,
   "id": "4feb38ca",
   "metadata": {},
   "outputs": [
    {
     "name": "stderr",
     "output_type": "stream",
     "text": [
      "C:\\Users\\lg\\AppData\\Local\\Temp\\ipykernel_1752\\2933082444.py:1: RuntimeWarning: divide by zero encountered in log\n",
      "  np.log(0)\n"
     ]
    },
    {
     "data": {
      "text/plain": [
       "-inf"
      ]
     },
     "execution_count": 11,
     "metadata": {},
     "output_type": "execute_result"
    }
   ],
   "source": [
    "np.log(0)"
   ]
  },
  {
   "cell_type": "code",
   "execution_count": 12,
   "id": "fcc23b3e",
   "metadata": {},
   "outputs": [
    {
     "data": {
      "text/plain": [
       "0.0"
      ]
     },
     "execution_count": 12,
     "metadata": {},
     "output_type": "execute_result"
    }
   ],
   "source": [
    "np.exp(-np.inf)"
   ]
  },
  {
   "cell_type": "code",
   "execution_count": 13,
   "id": "9b6a64e0",
   "metadata": {},
   "outputs": [],
   "source": [
    "# 기술통계"
   ]
  },
  {
   "cell_type": "code",
   "execution_count": 14,
   "id": "bbedd707",
   "metadata": {},
   "outputs": [],
   "source": [
    "x = np.array([18,   5,  10,  23,  19,  -8,  10,   0,   0,   5,   2,  15,   8,\n",
    "              2,   5,   4,  15,  -1,   4,  -7, -24,   7,   9,  -6,  23, -13])"
   ]
  },
  {
   "cell_type": "code",
   "execution_count": 15,
   "id": "166162e3",
   "metadata": {},
   "outputs": [
    {
     "data": {
      "text/plain": [
       "4.8076923076923075"
      ]
     },
     "execution_count": 15,
     "metadata": {},
     "output_type": "execute_result"
    }
   ],
   "source": [
    "np.mean(x)  # 평균"
   ]
  },
  {
   "cell_type": "code",
   "execution_count": 16,
   "id": "00d588c0",
   "metadata": {},
   "outputs": [
    {
     "data": {
      "text/plain": [
       "115.23224852071006"
      ]
     },
     "execution_count": 16,
     "metadata": {},
     "output_type": "execute_result"
    }
   ],
   "source": [
    "np.var(x)  # 분산"
   ]
  },
  {
   "cell_type": "code",
   "execution_count": 17,
   "id": "ad4e8dc6",
   "metadata": {},
   "outputs": [
    {
     "data": {
      "text/plain": [
       "10.734628476137871"
      ]
     },
     "execution_count": 17,
     "metadata": {},
     "output_type": "execute_result"
    }
   ],
   "source": [
    "np.std(x)  # 표준 편차"
   ]
  },
  {
   "cell_type": "code",
   "execution_count": 18,
   "id": "15fedcc9",
   "metadata": {},
   "outputs": [
    {
     "data": {
      "text/plain": [
       "23"
      ]
     },
     "execution_count": 18,
     "metadata": {},
     "output_type": "execute_result"
    }
   ],
   "source": [
    "np.max(x)  # 최댓값"
   ]
  },
  {
   "cell_type": "code",
   "execution_count": 19,
   "id": "8c68758f",
   "metadata": {},
   "outputs": [
    {
     "data": {
      "text/plain": [
       "-24"
      ]
     },
     "execution_count": 19,
     "metadata": {},
     "output_type": "execute_result"
    }
   ],
   "source": [
    "np.min(x)  # 최소값"
   ]
  },
  {
   "cell_type": "code",
   "execution_count": 20,
   "id": "35d36ce6",
   "metadata": {},
   "outputs": [
    {
     "data": {
      "text/plain": [
       "5.0"
      ]
     },
     "execution_count": 20,
     "metadata": {},
     "output_type": "execute_result"
    }
   ],
   "source": [
    "np.median(x)  # 중앙값"
   ]
  },
  {
   "cell_type": "markdown",
   "id": "ecbb05cb",
   "metadata": {},
   "source": [
    "# 사분위수 \n",
    "사분위수(quartile)는 데이터를 가장 작은 수부터 가장 큰 수까지 크기가 커지는 순서대로 정렬하였을 때 1/4, 2/4, 3/4 위치에 있는 수 \n",
    " \n",
    " 1~3사분위 가장 숫자가 많이 몰려 있는 부분 \n",
    " \n",
    "IQR BOX"
   ]
  },
  {
   "cell_type": "code",
   "execution_count": 22,
   "id": "f70b3145",
   "metadata": {},
   "outputs": [
    {
     "data": {
      "text/plain": [
       "-24.0"
      ]
     },
     "execution_count": 22,
     "metadata": {},
     "output_type": "execute_result"
    }
   ],
   "source": [
    "np.percentile(x, 0)  # 최소값"
   ]
  },
  {
   "cell_type": "code",
   "execution_count": 23,
   "id": "42d7c683",
   "metadata": {},
   "outputs": [
    {
     "data": {
      "text/plain": [
       "0.0"
      ]
     },
     "execution_count": 23,
     "metadata": {},
     "output_type": "execute_result"
    }
   ],
   "source": [
    "np.percentile(x, 25)  # 1사분위 수"
   ]
  },
  {
   "cell_type": "code",
   "execution_count": 24,
   "id": "b8b2035d",
   "metadata": {},
   "outputs": [
    {
     "data": {
      "text/plain": [
       "5.0"
      ]
     },
     "execution_count": 24,
     "metadata": {},
     "output_type": "execute_result"
    }
   ],
   "source": [
    "np.percentile(x, 50)  # 2사분위 수"
   ]
  },
  {
   "cell_type": "code",
   "execution_count": 25,
   "id": "cd436fa6",
   "metadata": {},
   "outputs": [
    {
     "data": {
      "text/plain": [
       "10.0"
      ]
     },
     "execution_count": 25,
     "metadata": {},
     "output_type": "execute_result"
    }
   ],
   "source": [
    "np.percentile(x, 75)  # 3사분위 수"
   ]
  },
  {
   "cell_type": "code",
   "execution_count": 28,
   "id": "9ff2429d",
   "metadata": {},
   "outputs": [
    {
     "data": {
      "text/plain": [
       "23.0"
      ]
     },
     "execution_count": 28,
     "metadata": {},
     "output_type": "execute_result"
    }
   ],
   "source": [
    "np.percentile(x, 100)  # 최댓값"
   ]
  },
  {
   "cell_type": "markdown",
   "id": "e1df1f37",
   "metadata": {},
   "source": [
    "# 넘파이 함수로 배열 만들기\n",
    "np.ones(n) , np.ones((x, y))\n",
    " \n",
    " np.zeros(n) , np.zeros((x, y))\n",
    " \n",
    " np.empty(n) , np.empty((x, y))\n",
    " \n",
    " np.aranges(start, end step)\n",
    "\n",
    " \n",
    " reshape(x, y) # 차원 확대\n",
    " \n",
    " flatten(x, y) # 차원 축소"
   ]
  },
  {
   "cell_type": "code",
   "execution_count": 29,
   "id": "a81108d6",
   "metadata": {},
   "outputs": [
    {
     "name": "stdout",
     "output_type": "stream",
     "text": [
      "[1. 1. 1. 1. 1. 1. 1. 1. 1. 1.] float64\n"
     ]
    }
   ],
   "source": [
    "# 넘파이 함수로 배열을 만들때에는 디폴트가 실수형\n",
    "print(np.ones(10), np.ones(10).dtype) "
   ]
  },
  {
   "cell_type": "code",
   "execution_count": 30,
   "id": "43127e92",
   "metadata": {},
   "outputs": [
    {
     "name": "stdout",
     "output_type": "stream",
     "text": [
      "[[1. 1. 1. 1.]\n",
      " [1. 1. 1. 1.]] float64\n"
     ]
    }
   ],
   "source": [
    "print(np.ones((2,4)), np.ones((2,4)).dtype) # 2행 4열"
   ]
  },
  {
   "cell_type": "code",
   "execution_count": 33,
   "id": "852c6e92",
   "metadata": {},
   "outputs": [
    {
     "name": "stdout",
     "output_type": "stream",
     "text": [
      "[1 1 1 1 1 1 1 1 1 1] int32\n"
     ]
    }
   ],
   "source": [
    "print(np.ones(10, dtype = int), np.ones(10, dtype = int).dtype)"
   ]
  },
  {
   "cell_type": "code",
   "execution_count": 34,
   "id": "34bffa80",
   "metadata": {},
   "outputs": [
    {
     "name": "stdout",
     "output_type": "stream",
     "text": [
      "[0. 0. 0. 0. 0. 0. 0. 0. 0. 0.] float64\n"
     ]
    }
   ],
   "source": [
    "print(np.zeros(10), np.zeros(10).dtype) # 무의미한 공간을 채울때"
   ]
  },
  {
   "cell_type": "code",
   "execution_count": 35,
   "id": "4a61f655",
   "metadata": {},
   "outputs": [
    {
     "name": "stdout",
     "output_type": "stream",
     "text": [
      "[0. 0. 0. 0. 0. 0. 0. 0. 0. 0.] float64\n"
     ]
    }
   ],
   "source": [
    "print(np.empty(10), np.empty(10).dtype) # 메모리 영역을 채우지 않음 / 메모리 영역 차지 ->메모리 초기화시키지 않음"
   ]
  },
  {
   "cell_type": "code",
   "execution_count": 36,
   "id": "6130ac6c",
   "metadata": {},
   "outputs": [
    {
     "name": "stdout",
     "output_type": "stream",
     "text": [
      "[[4.67296746e-307 1.69121096e-306 6.23055651e-307]\n",
      " [2.22526399e-307 6.23053614e-307 7.56592338e-307]\n",
      " [9.34588061e-307 3.62651150e-317 0.00000000e+000]] float64\n"
     ]
    }
   ],
   "source": [
    "print(np.empty((3,3)), np.empty((3,3)).dtype)"
   ]
  },
  {
   "cell_type": "code",
   "execution_count": 37,
   "id": "b289ac85",
   "metadata": {},
   "outputs": [
    {
     "name": "stdout",
     "output_type": "stream",
     "text": [
      "[[4.67296746e-307 1.69121096e-306 6.23055651e-307]\n",
      " [2.22526399e-307 6.23053614e-307 7.56592338e-307]\n",
      " [9.34588061e-307 3.62651150e-317 0.00000000e+000]]\n"
     ]
    }
   ],
   "source": [
    "print(np.empty((3,3)))"
   ]
  },
  {
   "cell_type": "code",
   "execution_count": 38,
   "id": "ae8395dc",
   "metadata": {},
   "outputs": [
    {
     "name": "stdout",
     "output_type": "stream",
     "text": [
      "[[   4128860    6029375    3801155]\n",
      " [   5570652    6619251    7536754]\n",
      " [   7077980        103 -250347052]]\n"
     ]
    }
   ],
   "source": [
    "print(np.empty((3,3), dtype=int))"
   ]
  },
  {
   "cell_type": "code",
   "execution_count": 39,
   "id": "decc0f57",
   "metadata": {},
   "outputs": [
    {
     "name": "stdout",
     "output_type": "stream",
     "text": [
      "[1, 2, 3, 4, 5, 6, 7, 8, 9, 10, 11, 12, 13, 14, 15, 16, 17, 18, 19, 20] <class 'list'>\n"
     ]
    }
   ],
   "source": [
    "# 리스트+레인지\n",
    "print( list(range(1,21)), type(list(range(1,21))) )"
   ]
  },
  {
   "cell_type": "code",
   "execution_count": 40,
   "id": "832c0b73",
   "metadata": {},
   "outputs": [
    {
     "name": "stdout",
     "output_type": "stream",
     "text": [
      "[ 0  1  2  3  4  5  6  7  8  9 10 11 12 13 14 15 16 17 18 19] <class 'numpy.ndarray'>\n",
      "[ 1  2  3  4  5  6  7  8  9 10 11 12 13 14 15 16 17 18 19] <class 'numpy.ndarray'>\n",
      "[ 1  3  5  7  9 11 13 15 17 19] <class 'numpy.ndarray'>\n"
     ]
    }
   ],
   "source": [
    "# 1~20으로 구성된 4행 5열의 넘파이 배열print(np.array(list(range(1,21))), type(list(range(1,21))))\n",
    "print(np.arange(20), type(np.arange(20)))\n",
    "print(np.arange(1, 20), type(np.arange(1, 20)))\n",
    "print(np.arange(1, 20, 2), type(np.arange(1, 20,2))) # (start,end,step)"
   ]
  },
  {
   "cell_type": "code",
   "execution_count": 41,
   "id": "41b6c1ac",
   "metadata": {},
   "outputs": [
    {
     "name": "stdout",
     "output_type": "stream",
     "text": [
      "[ 0  1  2  3  4  5  6  7  8  9 10 11 12 13 14 15 16 17 18 19 20 21 22 23\n",
      " 24 25 26 27 28 29 30 31 32 33 34 35 36 37 38 39 40 41 42 43 44 45 46 47\n",
      " 48 49] 50 50\n"
     ]
    }
   ],
   "source": [
    "arr = np.arange(50)\n",
    "print(arr, len(arr), arr.size)  # 1차원"
   ]
  },
  {
   "cell_type": "code",
   "execution_count": 42,
   "id": "e7fafe33",
   "metadata": {},
   "outputs": [
    {
     "data": {
      "text/plain": [
       "array([  0.,  25.,  50.,  75., 100.])"
      ]
     },
     "execution_count": 42,
     "metadata": {},
     "output_type": "execute_result"
    }
   ],
   "source": [
    "# linspace 명령이나 logspace 명령은 선형 구간 혹은 로그 구간을 지정한 구간의 수만큼 분할\n",
    "np.linspace(0, 100, 5)  # 시작, 끝(포함), 갯수 ->step 아님 주의!"
   ]
  },
  {
   "cell_type": "code",
   "execution_count": 47,
   "id": "d3c9458e",
   "metadata": {},
   "outputs": [
    {
     "data": {
      "text/plain": [
       "array([ 1.25892541,  1.58489319,  1.99526231,  2.51188643,  3.16227766,\n",
       "        3.98107171,  5.01187234,  6.30957344,  7.94328235, 10.        ])"
      ]
     },
     "execution_count": 47,
     "metadata": {},
     "output_type": "execute_result"
    }
   ],
   "source": [
    "np.logspace(0.1, 1, 10) # 실수에서 10개의 값을 만들어줌"
   ]
  },
  {
   "cell_type": "markdown",
   "id": "41fe4e8f",
   "metadata": {},
   "source": [
    "# reshape 구조의 재배열 (중요)"
   ]
  },
  {
   "cell_type": "code",
   "execution_count": 49,
   "id": "e8e4c7b5",
   "metadata": {},
   "outputs": [
    {
     "data": {
      "text/plain": [
       "(array([ 0,  1,  2,  3,  4,  5,  6,  7,  8,  9, 10, 11, 12, 13, 14, 15, 16,\n",
       "        17, 18, 19, 20, 21, 22, 23, 24, 25, 26, 27, 28, 29, 30, 31, 32, 33,\n",
       "        34, 35, 36, 37, 38, 39, 40, 41, 42, 43, 44, 45, 46, 47, 48, 49]),\n",
       " 1,\n",
       " (50,))"
      ]
     },
     "execution_count": 49,
     "metadata": {},
     "output_type": "execute_result"
    }
   ],
   "source": [
    "arr, arr.ndim, arr.shape"
   ]
  },
  {
   "cell_type": "code",
   "execution_count": 50,
   "id": "d0f2d5ce",
   "metadata": {},
   "outputs": [
    {
     "data": {
      "text/plain": [
       "(array([[ 0,  1,  2,  3,  4],\n",
       "        [ 5,  6,  7,  8,  9],\n",
       "        [10, 11, 12, 13, 14],\n",
       "        [15, 16, 17, 18, 19],\n",
       "        [20, 21, 22, 23, 24],\n",
       "        [25, 26, 27, 28, 29],\n",
       "        [30, 31, 32, 33, 34],\n",
       "        [35, 36, 37, 38, 39],\n",
       "        [40, 41, 42, 43, 44],\n",
       "        [45, 46, 47, 48, 49]]),\n",
       " 2,\n",
       " (10, 5))"
      ]
     },
     "execution_count": 50,
     "metadata": {},
     "output_type": "execute_result"
    }
   ],
   "source": [
    "arr = arr.reshape(10,5)\n",
    "arr, arr.ndim, arr.shape"
   ]
  },
  {
   "cell_type": "code",
   "execution_count": 51,
   "id": "a24ee29e",
   "metadata": {},
   "outputs": [
    {
     "data": {
      "text/plain": [
       "(array([[ 0,  1,  2,  3,  4,  5,  6,  7,  8,  9],\n",
       "        [10, 11, 12, 13, 14, 15, 16, 17, 18, 19],\n",
       "        [20, 21, 22, 23, 24, 25, 26, 27, 28, 29],\n",
       "        [30, 31, 32, 33, 34, 35, 36, 37, 38, 39],\n",
       "        [40, 41, 42, 43, 44, 45, 46, 47, 48, 49]]),\n",
       " 2,\n",
       " (5, 10))"
      ]
     },
     "execution_count": 51,
     "metadata": {},
     "output_type": "execute_result"
    }
   ],
   "source": [
    "arr2 = arr.reshape(5,10)\n",
    "arr2, arr2.ndim, arr2.shape"
   ]
  },
  {
   "cell_type": "code",
   "execution_count": 53,
   "id": "59fafb0c",
   "metadata": {},
   "outputs": [
    {
     "data": {
      "text/plain": [
       "(array([ 0,  1,  2,  3,  4,  5,  6,  7,  8,  9, 10, 11, 12, 13, 14, 15, 16,\n",
       "        17, 18, 19, 20, 21, 22, 23, 24, 25, 26, 27, 28, 29, 30, 31, 32, 33,\n",
       "        34, 35, 36, 37, 38, 39, 40, 41, 42, 43, 44, 45, 46, 47, 48, 49]),\n",
       " (50,),\n",
       " 1)"
      ]
     },
     "execution_count": 53,
     "metadata": {},
     "output_type": "execute_result"
    }
   ],
   "source": [
    "# 2차원 -> 1차원\n",
    "arr3 = arr2.flatten()\n",
    "arr3, arr3.shape, arr3.ndim"
   ]
  },
  {
   "cell_type": "code",
   "execution_count": 54,
   "id": "aa185307",
   "metadata": {},
   "outputs": [
    {
     "data": {
      "text/plain": [
       "array([  2,   4,   6,   8,  10,  12,  14,  16,  18,  20,  22,  24,  26,\n",
       "        28,  30,  32,  34,  36,  38,  40,  42,  44,  46,  48,  50,  52,\n",
       "        54,  56,  58,  60,  62,  64,  66,  68,  70,  72,  74,  76,  78,\n",
       "        80,  82,  84,  86,  88,  90,  92,  94,  96,  98, 100])"
      ]
     },
     "execution_count": 54,
     "metadata": {},
     "output_type": "execute_result"
    }
   ],
   "source": [
    "# 1~100 사이의 짝수로 된 넘파이 배열 생성\n",
    "np.arange(2,101,2)"
   ]
  },
  {
   "cell_type": "code",
   "execution_count": 55,
   "id": "8d0361ac",
   "metadata": {},
   "outputs": [
    {
     "name": "stdout",
     "output_type": "stream",
     "text": [
      "[[  2   4   6   8  10  12  14  16  18  20]\n",
      " [ 22  24  26  28  30  32  34  36  38  40]\n",
      " [ 42  44  46  48  50  52  54  56  58  60]\n",
      " [ 62  64  66  68  70  72  74  76  78  80]\n",
      " [ 82  84  86  88  90  92  94  96  98 100]]\n"
     ]
    }
   ],
   "source": [
    "print(np.arange(2,101,2).reshape(5,10))"
   ]
  },
  {
   "cell_type": "code",
   "execution_count": 56,
   "id": "fb91e017",
   "metadata": {},
   "outputs": [
    {
     "data": {
      "text/plain": [
       "(array([[ 1],\n",
       "        [ 2],\n",
       "        [ 3],\n",
       "        [ 4],\n",
       "        [ 5],\n",
       "        [ 6],\n",
       "        [ 7],\n",
       "        [ 8],\n",
       "        [ 9],\n",
       "        [10],\n",
       "        [11],\n",
       "        [12],\n",
       "        [13],\n",
       "        [14],\n",
       "        [15],\n",
       "        [16],\n",
       "        [17],\n",
       "        [18],\n",
       "        [19],\n",
       "        [20],\n",
       "        [21],\n",
       "        [22],\n",
       "        [23],\n",
       "        [24],\n",
       "        [25],\n",
       "        [26],\n",
       "        [27],\n",
       "        [28],\n",
       "        [29],\n",
       "        [30]]),\n",
       " 2,\n",
       " (30, 1))"
      ]
     },
     "execution_count": 56,
     "metadata": {},
     "output_type": "execute_result"
    }
   ],
   "source": [
    "arr4 = np.arange(1, 31).reshape(-1, 1)\n",
    "arr4, arr4.ndim, arr4.shape"
   ]
  },
  {
   "cell_type": "code",
   "execution_count": 60,
   "id": "6a54b9c8",
   "metadata": {},
   "outputs": [
    {
     "data": {
      "text/plain": [
       "(array([[ 1,  2,  3,  4],\n",
       "        [ 5,  6,  7,  8],\n",
       "        [ 9, 10, 11, 12],\n",
       "        [13, 14, 15, 16],\n",
       "        [17, 18, 19, 20]]),\n",
       " 2,\n",
       " (30, 1))"
      ]
     },
     "execution_count": 60,
     "metadata": {},
     "output_type": "execute_result"
    }
   ],
   "source": [
    "arr5= np.arange(1, 21).reshape(5, 4)\n",
    "arr5, arr5.ndim, arr4.shape"
   ]
  },
  {
   "cell_type": "code",
   "execution_count": 61,
   "id": "3274a027",
   "metadata": {},
   "outputs": [
    {
     "data": {
      "text/plain": [
       "array([[ 1,  2,  3,  4,  5],\n",
       "       [ 6,  7,  8,  9, 10],\n",
       "       [11, 12, 13, 14, 15],\n",
       "       [16, 17, 18, 19, 20]])"
      ]
     },
     "execution_count": 61,
     "metadata": {},
     "output_type": "execute_result"
    }
   ],
   "source": [
    "arr5.reshape(-1, 5)"
   ]
  },
  {
   "cell_type": "code",
   "execution_count": 59,
   "id": "256a7df5",
   "metadata": {},
   "outputs": [
    {
     "data": {
      "text/plain": [
       "(array([[ 1,  2,  3,  4,  5],\n",
       "        [ 6,  7,  8,  9, 10],\n",
       "        [11, 12, 13, 14, 15],\n",
       "        [16, 17, 18, 19, 20]]),\n",
       " 2,\n",
       " (30, 1))"
      ]
     },
     "execution_count": 59,
     "metadata": {},
     "output_type": "execute_result"
    }
   ],
   "source": [
    "arr5= np.arange(1, 21).reshape(-1, 5)\n",
    "arr5, arr5.ndim, arr4.shape"
   ]
  },
  {
   "cell_type": "code",
   "execution_count": 62,
   "id": "73afbf07",
   "metadata": {},
   "outputs": [
    {
     "data": {
      "text/plain": [
       "(array([ 0,  1,  2,  3,  4,  5,  6,  7,  8,  9, 10, 11]), (12,))"
      ]
     },
     "execution_count": 62,
     "metadata": {},
     "output_type": "execute_result"
    }
   ],
   "source": [
    "a = np.arange(12)\n",
    "a, a.shape"
   ]
  },
  {
   "cell_type": "code",
   "execution_count": 63,
   "id": "13cc3d89",
   "metadata": {},
   "outputs": [
    {
     "data": {
      "text/plain": [
       "(array([[ 0,  1,  2,  3,  4,  5],\n",
       "        [ 6,  7,  8,  9, 10, 11]]),\n",
       " (2, 6))"
      ]
     },
     "execution_count": 63,
     "metadata": {},
     "output_type": "execute_result"
    }
   ],
   "source": [
    "a.shape = 2, -1\n",
    "a, a.shape"
   ]
  },
  {
   "cell_type": "code",
   "execution_count": 64,
   "id": "e83acb75",
   "metadata": {},
   "outputs": [
    {
     "data": {
      "text/plain": [
       "(array([[ 0,  1,  2,  3],\n",
       "        [ 4,  5,  6,  7],\n",
       "        [ 8,  9, 10, 11]]),\n",
       " (3, 4))"
      ]
     },
     "execution_count": 64,
     "metadata": {},
     "output_type": "execute_result"
    }
   ],
   "source": [
    "a.shape = 3, -1\n",
    "a, a.shape"
   ]
  },
  {
   "cell_type": "code",
   "execution_count": 66,
   "id": "d277fa17",
   "metadata": {},
   "outputs": [
    {
     "data": {
      "text/plain": [
       "(array([[ 0],\n",
       "        [ 1],\n",
       "        [ 2],\n",
       "        [ 3],\n",
       "        [ 4],\n",
       "        [ 5],\n",
       "        [ 6],\n",
       "        [ 7],\n",
       "        [ 8],\n",
       "        [ 9],\n",
       "        [10],\n",
       "        [11]]),\n",
       " (12, 1))"
      ]
     },
     "execution_count": 66,
     "metadata": {},
     "output_type": "execute_result"
    }
   ],
   "source": [
    "a.shape = -1, 1\n",
    "a, a.shape"
   ]
  },
  {
   "cell_type": "code",
   "execution_count": 67,
   "id": "d3f35f92",
   "metadata": {},
   "outputs": [
    {
     "data": {
      "text/plain": [
       "(array([[ 0,  1],\n",
       "        [ 2,  3],\n",
       "        [ 4,  5],\n",
       "        [ 6,  7],\n",
       "        [ 8,  9],\n",
       "        [10, 11]]),\n",
       " (6, 2))"
      ]
     },
     "execution_count": 67,
     "metadata": {},
     "output_type": "execute_result"
    }
   ],
   "source": [
    "a.shape = -1, 2\n",
    "a, a.shape"
   ]
  },
  {
   "cell_type": "code",
   "execution_count": 68,
   "id": "0746dd1a",
   "metadata": {},
   "outputs": [
    {
     "data": {
      "text/plain": [
       "(array([[ 0,  1,  2],\n",
       "        [ 3,  4,  5],\n",
       "        [ 6,  7,  8],\n",
       "        [ 9, 10, 11]]),\n",
       " (4, 3))"
      ]
     },
     "execution_count": 68,
     "metadata": {},
     "output_type": "execute_result"
    }
   ],
   "source": [
    "a.shape = -1, 3\n",
    "a, a.shape"
   ]
  },
  {
   "cell_type": "code",
   "execution_count": 69,
   "id": "eb9787e0",
   "metadata": {},
   "outputs": [
    {
     "data": {
      "text/plain": [
       "(array([ 0,  1,  2,  3,  4,  5,  6,  7,  8,  9, 10, 11]), (12,))"
      ]
     },
     "execution_count": 69,
     "metadata": {},
     "output_type": "execute_result"
    }
   ],
   "source": [
    "a.shape = -1 # 사이즈가 맞지 않을 경우, flatten\n",
    "a, a.shape"
   ]
  },
  {
   "cell_type": "markdown",
   "id": "d510a0cc",
   "metadata": {},
   "source": [
    "# 넘파이배열의 자료형 형변환\n",
    "배열명2 = 배열명1.astype(자료형)\n",
    " \n",
    " \n",
    "자료형 = np.float64, np.int32"
   ]
  },
  {
   "cell_type": "code",
   "execution_count": 71,
   "id": "b9018679",
   "metadata": {},
   "outputs": [
    {
     "data": {
      "text/plain": [
       "(array([1, 2, 3, 4, 5, 6, 7, 8, 9]), dtype('int32'))"
      ]
     },
     "execution_count": 71,
     "metadata": {},
     "output_type": "execute_result"
    }
   ],
   "source": [
    "matrix1 = np.arange(1, 10)\n",
    "matrix1, matrix1.dtype"
   ]
  },
  {
   "cell_type": "code",
   "execution_count": 72,
   "id": "77c05cb4",
   "metadata": {},
   "outputs": [
    {
     "data": {
      "text/plain": [
       "(array([[1, 2, 3],\n",
       "        [4, 5, 6],\n",
       "        [7, 8, 9]]),\n",
       " dtype('int32'))"
      ]
     },
     "execution_count": 72,
     "metadata": {},
     "output_type": "execute_result"
    }
   ],
   "source": [
    "matrix = np.arange(1, 10).reshape(3,3)\n",
    "matrix, matrix.dtype"
   ]
  },
  {
   "cell_type": "code",
   "execution_count": 76,
   "id": "085aec17",
   "metadata": {},
   "outputs": [
    {
     "data": {
      "text/plain": [
       "(array([[1., 2., 3.],\n",
       "        [4., 5., 6.],\n",
       "        [7., 8., 9.]]),\n",
       " dtype('float64'))"
      ]
     },
     "execution_count": 76,
     "metadata": {},
     "output_type": "execute_result"
    }
   ],
   "source": [
    "matrix = np.arange(1, 10, dtype=float).reshape(3,3)\n",
    "matrix, matrix.dtype"
   ]
  },
  {
   "cell_type": "code",
   "execution_count": 74,
   "id": "b858021e",
   "metadata": {},
   "outputs": [
    {
     "ename": "TypeError",
     "evalue": "arange() not supported for inputs with DType <class 'numpy.dtype[str_]'>.",
     "output_type": "error",
     "traceback": [
      "\u001b[1;31m-------------------------------------------------\u001b[0m",
      "\u001b[1;31mTypeError\u001b[0m       Traceback (most recent call last)",
      "Cell \u001b[1;32mIn[74], line 1\u001b[0m\n\u001b[1;32m----> 1\u001b[0m matrix \u001b[38;5;241m=\u001b[39m np\u001b[38;5;241m.\u001b[39marange(\u001b[38;5;241m1\u001b[39m, \u001b[38;5;241m10\u001b[39m, dtype\u001b[38;5;241m=\u001b[39m\u001b[38;5;124m'\u001b[39m\u001b[38;5;124mstr\u001b[39m\u001b[38;5;124m'\u001b[39m)\u001b[38;5;241m.\u001b[39mreshape(\u001b[38;5;241m3\u001b[39m,\u001b[38;5;241m3\u001b[39m)\n\u001b[0;32m      2\u001b[0m matrix, matrix\u001b[38;5;241m.\u001b[39mdtype\n",
      "\u001b[1;31mTypeError\u001b[0m: arange() not supported for inputs with DType <class 'numpy.dtype[str_]'>."
     ]
    }
   ],
   "source": [
    "matrix = np.arange(1, 10, dtype='str').reshape(3,3)\n",
    "matrix, matrix.dtype"
   ]
  },
  {
   "cell_type": "code",
   "execution_count": 77,
   "id": "f24c0e27",
   "metadata": {},
   "outputs": [
    {
     "data": {
      "text/plain": [
       "array([['1.0', '2.0', '3.0'],\n",
       "       ['4.0', '5.0', '6.0'],\n",
       "       ['7.0', '8.0', '9.0']], dtype='<U5')"
      ]
     },
     "execution_count": 77,
     "metadata": {},
     "output_type": "execute_result"
    }
   ],
   "source": [
    "# 정수형 => 문자열\n",
    "matrix.astype('<U5')"
   ]
  },
  {
   "cell_type": "code",
   "execution_count": 78,
   "id": "19179cf4",
   "metadata": {},
   "outputs": [
    {
     "data": {
      "text/plain": [
       "(array([ True, False,  True,  True]), dtype('bool'))"
      ]
     },
     "execution_count": 78,
     "metadata": {},
     "output_type": "execute_result"
    }
   ],
   "source": [
    "matrix2 = np.array([True, False, True, True])\n",
    "matrix2, matrix2.dtype"
   ]
  },
  {
   "cell_type": "code",
   "execution_count": 80,
   "id": "c6094321",
   "metadata": {},
   "outputs": [
    {
     "data": {
      "text/plain": [
       "(array(['3.14', '5.5', '0.78'], dtype='<U4'), dtype('<U4'))"
      ]
     },
     "execution_count": 80,
     "metadata": {},
     "output_type": "execute_result"
    }
   ],
   "source": [
    "matrix3 = np.array(['3.14', '5.5', '0.78'])\n",
    "matrix3, matrix3.dtype"
   ]
  },
  {
   "cell_type": "code",
   "execution_count": 81,
   "id": "85dbbae7",
   "metadata": {},
   "outputs": [
    {
     "name": "stdout",
     "output_type": "stream",
     "text": [
      "[3.14 5.5  0.78]\n"
     ]
    },
    {
     "ename": "ValueError",
     "evalue": "invalid literal for int() with base 10: '3.14'",
     "output_type": "error",
     "traceback": [
      "\u001b[1;31m-------------------------------------------------\u001b[0m",
      "\u001b[1;31mValueError\u001b[0m      Traceback (most recent call last)",
      "Cell \u001b[1;32mIn[81], line 3\u001b[0m\n\u001b[0;32m      1\u001b[0m \u001b[38;5;28mprint\u001b[39m(matrix3\u001b[38;5;241m.\u001b[39mastype(\u001b[38;5;28mfloat\u001b[39m))\n\u001b[1;32m----> 3\u001b[0m \u001b[38;5;28mprint\u001b[39m(matrix3\u001b[38;5;241m.\u001b[39mastype(\u001b[38;5;28mint\u001b[39m)) \u001b[38;5;66;03m# 불가\u001b[39;00m\n\u001b[0;32m      4\u001b[0m \u001b[38;5;28mprint\u001b[39m(matrix3\u001b[38;5;241m.\u001b[39mastype(\u001b[38;5;28mbool\u001b[39m))\n",
      "\u001b[1;31mValueError\u001b[0m: invalid literal for int() with base 10: '3.14'"
     ]
    }
   ],
   "source": [
    "print(matrix3.astype(float)) # 실수가 정수보다 더 크기때문에 가능\n",
    "\n",
    "print(matrix3.astype(int)) # 불가\n",
    "print(matrix3.astype(bool)) # 불가"
   ]
  },
  {
   "cell_type": "markdown",
   "id": "882e388d",
   "metadata": {},
   "source": [
    "# 넘파이 배열의 인덱싱\n",
    "넘파이배열[index] 넘파이배열[i, j], 넘파이배열[i][j] : i행 j 열"
   ]
  },
  {
   "cell_type": "markdown",
   "id": "39009ee1",
   "metadata": {},
   "source": [
    "# 1D array"
   ]
  },
  {
   "cell_type": "code",
   "execution_count": 91,
   "id": "dc0b6a33",
   "metadata": {},
   "outputs": [
    {
     "data": {
      "text/plain": [
       "(array([1, 3, 5, 7, 9]), 1, (5,), 5)"
      ]
     },
     "execution_count": 91,
     "metadata": {},
     "output_type": "execute_result"
    }
   ],
   "source": [
    "a = np.array([1, 3, 5, 7, 9])\n",
    "a, a.ndim, a.shape, a.size"
   ]
  },
  {
   "cell_type": "code",
   "execution_count": 85,
   "id": "a4cba2e7",
   "metadata": {},
   "outputs": [
    {
     "data": {
      "text/plain": [
       "1"
      ]
     },
     "execution_count": 85,
     "metadata": {},
     "output_type": "execute_result"
    }
   ],
   "source": [
    "a[0]"
   ]
  },
  {
   "cell_type": "code",
   "execution_count": 86,
   "id": "154482ea",
   "metadata": {},
   "outputs": [
    {
     "data": {
      "text/plain": [
       "9"
      ]
     },
     "execution_count": 86,
     "metadata": {},
     "output_type": "execute_result"
    }
   ],
   "source": [
    "a[4]"
   ]
  },
  {
   "cell_type": "code",
   "execution_count": 87,
   "id": "f182ce2a",
   "metadata": {},
   "outputs": [
    {
     "data": {
      "text/plain": [
       "9"
      ]
     },
     "execution_count": 87,
     "metadata": {},
     "output_type": "execute_result"
    }
   ],
   "source": [
    "a[-1]"
   ]
  },
  {
   "cell_type": "code",
   "execution_count": 88,
   "id": "14792fde",
   "metadata": {},
   "outputs": [
    {
     "data": {
      "text/plain": [
       "1"
      ]
     },
     "execution_count": 88,
     "metadata": {},
     "output_type": "execute_result"
    }
   ],
   "source": [
    "a[-5]"
   ]
  },
  {
   "cell_type": "code",
   "execution_count": 89,
   "id": "2748215b",
   "metadata": {},
   "outputs": [
    {
     "data": {
      "text/plain": [
       "array([1, 5, 9])"
      ]
     },
     "execution_count": 89,
     "metadata": {},
     "output_type": "execute_result"
    }
   ],
   "source": [
    "a[[0, 2, 4]]"
   ]
  },
  {
   "cell_type": "code",
   "execution_count": 90,
   "id": "920366cb",
   "metadata": {},
   "outputs": [
    {
     "data": {
      "text/plain": [
       "array([[1, 3],\n",
       "       [4, 2]])"
      ]
     },
     "execution_count": 90,
     "metadata": {},
     "output_type": "execute_result"
    }
   ],
   "source": [
    "i = np.array([[1,3], [4,2]])\n",
    "i"
   ]
  },
  {
   "cell_type": "code",
   "execution_count": 92,
   "id": "91ce033a",
   "metadata": {},
   "outputs": [
    {
     "data": {
      "text/plain": [
       "array([[3, 7],\n",
       "       [9, 5]])"
      ]
     },
     "execution_count": 92,
     "metadata": {},
     "output_type": "execute_result"
    }
   ],
   "source": [
    "a[i] # 우리가 넣은 값을 인덱싱 값으로 인식. "
   ]
  },
  {
   "cell_type": "code",
   "execution_count": 93,
   "id": "32d1caa3",
   "metadata": {},
   "outputs": [
    {
     "data": {
      "text/plain": [
       "array([1, 3, 0, 7, 9])"
      ]
     },
     "execution_count": 93,
     "metadata": {},
     "output_type": "execute_result"
    }
   ],
   "source": [
    "a[2] = 0\n",
    "a"
   ]
  },
  {
   "cell_type": "code",
   "execution_count": 94,
   "id": "6025a893",
   "metadata": {},
   "outputs": [
    {
     "data": {
      "text/plain": [
       "array([1, 5, 0, 7, 9])"
      ]
     },
     "execution_count": 94,
     "metadata": {},
     "output_type": "execute_result"
    }
   ],
   "source": [
    "a[1] += 2\n",
    "a"
   ]
  },
  {
   "cell_type": "code",
   "execution_count": 95,
   "id": "6bb0e32c",
   "metadata": {},
   "outputs": [
    {
     "data": {
      "text/plain": [
       "array([6, 5, 0, 7, 9])"
      ]
     },
     "execution_count": 95,
     "metadata": {},
     "output_type": "execute_result"
    }
   ],
   "source": [
    "a[0] *= 6\n",
    "a"
   ]
  },
  {
   "cell_type": "markdown",
   "id": "57377360",
   "metadata": {},
   "source": [
    "# 2D array"
   ]
  },
  {
   "cell_type": "code",
   "execution_count": 97,
   "id": "b79482cb",
   "metadata": {},
   "outputs": [
    {
     "data": {
      "text/plain": [
       "(array([[ 0,  1,  2,  3,  4],\n",
       "        [ 5,  6,  7,  8,  9],\n",
       "        [10, 11, 12, 13, 14]]),\n",
       " 2,\n",
       " (3, 5),\n",
       " 15)"
      ]
     },
     "execution_count": 97,
     "metadata": {},
     "output_type": "execute_result"
    }
   ],
   "source": [
    "a = np.arange(15).reshape(3, 5)\n",
    "a, a.ndim, a.shape, a.size"
   ]
  },
  {
   "cell_type": "code",
   "execution_count": 98,
   "id": "254a3190",
   "metadata": {},
   "outputs": [
    {
     "data": {
      "text/plain": [
       "array([0, 1, 2, 3, 4])"
      ]
     },
     "execution_count": 98,
     "metadata": {},
     "output_type": "execute_result"
    }
   ],
   "source": [
    "a[0] #2차원 인덱싱할 때, 값을 하나만 넣으면 행인덱싱"
   ]
  },
  {
   "cell_type": "code",
   "execution_count": 99,
   "id": "3b21145d",
   "metadata": {},
   "outputs": [
    {
     "data": {
      "text/plain": [
       "array([5, 6, 7, 8, 9])"
      ]
     },
     "execution_count": 99,
     "metadata": {},
     "output_type": "execute_result"
    }
   ],
   "source": [
    "a[1]"
   ]
  },
  {
   "cell_type": "code",
   "execution_count": 100,
   "id": "57984032",
   "metadata": {},
   "outputs": [
    {
     "data": {
      "text/plain": [
       "array([10, 11, 12, 13, 14])"
      ]
     },
     "execution_count": 100,
     "metadata": {},
     "output_type": "execute_result"
    }
   ],
   "source": [
    "a[2]"
   ]
  },
  {
   "cell_type": "code",
   "execution_count": 101,
   "id": "edc00308",
   "metadata": {},
   "outputs": [
    {
     "data": {
      "text/plain": [
       "array([10, 11, 12, 13, 14])"
      ]
     },
     "execution_count": 101,
     "metadata": {},
     "output_type": "execute_result"
    }
   ],
   "source": [
    "a[-1]"
   ]
  },
  {
   "cell_type": "code",
   "execution_count": 102,
   "id": "f35bcaf0",
   "metadata": {},
   "outputs": [
    {
     "data": {
      "text/plain": [
       "array([5, 6, 7, 8, 9])"
      ]
     },
     "execution_count": 102,
     "metadata": {},
     "output_type": "execute_result"
    }
   ],
   "source": [
    "a[-2]"
   ]
  },
  {
   "cell_type": "code",
   "execution_count": 103,
   "id": "cda8fa7a",
   "metadata": {},
   "outputs": [
    {
     "data": {
      "text/plain": [
       "array([[ 0,  1,  2,  3,  4],\n",
       "       [ 5,  6,  7,  8,  9],\n",
       "       [10, 11, 12, 13, 14]])"
      ]
     },
     "execution_count": 103,
     "metadata": {},
     "output_type": "execute_result"
    }
   ],
   "source": [
    "a"
   ]
  },
  {
   "cell_type": "code",
   "execution_count": 104,
   "id": "dfa4ffcb",
   "metadata": {},
   "outputs": [
    {
     "data": {
      "text/plain": [
       "0"
      ]
     },
     "execution_count": 104,
     "metadata": {},
     "output_type": "execute_result"
    }
   ],
   "source": [
    "a[0][0]"
   ]
  },
  {
   "cell_type": "code",
   "execution_count": 108,
   "id": "ccee9093",
   "metadata": {},
   "outputs": [
    {
     "data": {
      "text/plain": [
       "1"
      ]
     },
     "execution_count": 108,
     "metadata": {},
     "output_type": "execute_result"
    }
   ],
   "source": [
    "a[0][1]"
   ]
  },
  {
   "cell_type": "code",
   "execution_count": 111,
   "id": "15a67aca",
   "metadata": {},
   "outputs": [
    {
     "data": {
      "text/plain": [
       "5"
      ]
     },
     "execution_count": 111,
     "metadata": {},
     "output_type": "execute_result"
    }
   ],
   "source": [
    "a[1][0]"
   ]
  },
  {
   "cell_type": "code",
   "execution_count": 112,
   "id": "866b9275",
   "metadata": {},
   "outputs": [
    {
     "data": {
      "text/plain": [
       "7"
      ]
     },
     "execution_count": 112,
     "metadata": {},
     "output_type": "execute_result"
    }
   ],
   "source": [
    "a[1][2]"
   ]
  },
  {
   "cell_type": "code",
   "execution_count": 113,
   "id": "296db99b",
   "metadata": {},
   "outputs": [
    {
     "data": {
      "text/plain": [
       "10"
      ]
     },
     "execution_count": 113,
     "metadata": {},
     "output_type": "execute_result"
    }
   ],
   "source": [
    "a[-1][0]"
   ]
  },
  {
   "cell_type": "code",
   "execution_count": 114,
   "id": "3cb7dff9",
   "metadata": {},
   "outputs": [
    {
     "data": {
      "text/plain": [
       "12"
      ]
     },
     "execution_count": 114,
     "metadata": {},
     "output_type": "execute_result"
    }
   ],
   "source": [
    "a[-1][2]"
   ]
  },
  {
   "cell_type": "code",
   "execution_count": 115,
   "id": "d942b50a",
   "metadata": {},
   "outputs": [
    {
     "data": {
      "text/plain": [
       "array([[ 0,  1,  2,  3,  4],\n",
       "       [ 5,  6,  7,  8,  9],\n",
       "       [10, 11, 12, 13, 14]])"
      ]
     },
     "execution_count": 115,
     "metadata": {},
     "output_type": "execute_result"
    }
   ],
   "source": [
    "a"
   ]
  },
  {
   "cell_type": "code",
   "execution_count": 116,
   "id": "905ded1e",
   "metadata": {},
   "outputs": [],
   "source": [
    "a[1]=[1,3,5,7,9]"
   ]
  },
  {
   "cell_type": "code",
   "execution_count": 117,
   "id": "8b47c2bb",
   "metadata": {},
   "outputs": [
    {
     "data": {
      "text/plain": [
       "array([[ 0,  1,  2,  3,  4],\n",
       "       [ 1,  3,  5,  7,  9],\n",
       "       [10, 11, 12, 13, 14]])"
      ]
     },
     "execution_count": 117,
     "metadata": {},
     "output_type": "execute_result"
    }
   ],
   "source": [
    "a"
   ]
  },
  {
   "cell_type": "code",
   "execution_count": 121,
   "id": "765a9c7d",
   "metadata": {},
   "outputs": [
    {
     "data": {
      "text/plain": [
       "array([[ 0,  1,  2,  3,  4],\n",
       "       [ 1,  3,  5,  7,  9],\n",
       "       [10, 10, 10, 10, 10]])"
      ]
     },
     "execution_count": 121,
     "metadata": {},
     "output_type": "execute_result"
    }
   ],
   "source": [
    "a[-1]=[10] # 값을 하나만 넣어도 길이만큼 입력\n",
    "a"
   ]
  },
  {
   "cell_type": "code",
   "execution_count": 122,
   "id": "f55aa37d",
   "metadata": {},
   "outputs": [],
   "source": [
    "a[0] += 1, 2, 3, 4, 5"
   ]
  },
  {
   "cell_type": "code",
   "execution_count": 123,
   "id": "10301bfd",
   "metadata": {},
   "outputs": [
    {
     "data": {
      "text/plain": [
       "array([[ 1,  3,  5,  7,  9],\n",
       "       [ 1,  3,  5,  7,  9],\n",
       "       [10, 10, 10, 10, 10]])"
      ]
     },
     "execution_count": 123,
     "metadata": {},
     "output_type": "execute_result"
    }
   ],
   "source": [
    "a"
   ]
  },
  {
   "cell_type": "code",
   "execution_count": 124,
   "id": "d4c8acd9",
   "metadata": {},
   "outputs": [
    {
     "data": {
      "text/plain": [
       "(array([0, 1, 2, 3, 4, 5, 6, 7, 8, 9]),\n",
       " array([[ 0,  1,  2,  3],\n",
       "        [ 4,  5,  6,  7],\n",
       "        [ 8,  9, 10, 11]]))"
      ]
     },
     "execution_count": 124,
     "metadata": {},
     "output_type": "execute_result"
    }
   ],
   "source": [
    "matrix_a = np.arange(10)\n",
    "matrix_b = np.arange(12).reshape(3,4)\n",
    "\n",
    "matrix_a, matrix_b"
   ]
  },
  {
   "cell_type": "code",
   "execution_count": 125,
   "id": "c7648752",
   "metadata": {},
   "outputs": [
    {
     "data": {
      "text/plain": [
       "11"
      ]
     },
     "execution_count": 125,
     "metadata": {},
     "output_type": "execute_result"
    }
   ],
   "source": [
    "matrix_b[-1,-1]"
   ]
  },
  {
   "cell_type": "code",
   "execution_count": 126,
   "id": "426b6ca1",
   "metadata": {},
   "outputs": [],
   "source": [
    "matrix_b[2,0]=100"
   ]
  },
  {
   "cell_type": "code",
   "execution_count": 127,
   "id": "0780fd3a",
   "metadata": {},
   "outputs": [
    {
     "data": {
      "text/plain": [
       "array([[  0,   1,   2,   3],\n",
       "       [  4,   5,   6,   7],\n",
       "       [100,   9,  10,  11]])"
      ]
     },
     "execution_count": 127,
     "metadata": {},
     "output_type": "execute_result"
    }
   ],
   "source": [
    "matrix_b"
   ]
  },
  {
   "cell_type": "markdown",
   "id": "899e0d63",
   "metadata": {},
   "source": [
    "# 넘파이배열 슬라이싱\n",
    "1차원\n",
    "넘파이배열[:end]\n",
    " \n",
    " 넘파이배열[start:]\n",
    " \n",
    " 넘파이배열[start:end]\n",
    " \n",
    " 넘파이배열[start:end:step]\n",
    " \n",
    "  \n",
    "  2차원\n",
    " \n",
    " 넘파이배열[행, 열] = [start:end:step, start2:end2:step2]"
   ]
  },
  {
   "cell_type": "markdown",
   "id": "d9adcef1",
   "metadata": {},
   "source": [
    "# 1D array"
   ]
  },
  {
   "cell_type": "code",
   "execution_count": 130,
   "id": "26dc91d9",
   "metadata": {},
   "outputs": [
    {
     "data": {
      "text/plain": [
       "(array([1, 3, 5, 7, 9]), 1, (5,), 5)"
      ]
     },
     "execution_count": 130,
     "metadata": {},
     "output_type": "execute_result"
    }
   ],
   "source": [
    "a = np.array([1, 3, 5, 7, 9])\n",
    "a, a.ndim, a.shape, a.size"
   ]
  },
  {
   "cell_type": "code",
   "execution_count": 131,
   "id": "49d3b740",
   "metadata": {},
   "outputs": [
    {
     "data": {
      "text/plain": [
       "array([1, 3, 5, 7, 9])"
      ]
     },
     "execution_count": 131,
     "metadata": {},
     "output_type": "execute_result"
    }
   ],
   "source": [
    "a[:] # 전부"
   ]
  },
  {
   "cell_type": "code",
   "execution_count": 132,
   "id": "ab8ea036",
   "metadata": {},
   "outputs": [
    {
     "data": {
      "text/plain": [
       "array([9])"
      ]
     },
     "execution_count": 132,
     "metadata": {},
     "output_type": "execute_result"
    }
   ],
   "source": [
    "a[-1:] # 맨 뒤만"
   ]
  },
  {
   "cell_type": "code",
   "execution_count": 133,
   "id": "1e9d3a10",
   "metadata": {},
   "outputs": [
    {
     "data": {
      "text/plain": [
       "array([3, 5, 7])"
      ]
     },
     "execution_count": 133,
     "metadata": {},
     "output_type": "execute_result"
    }
   ],
   "source": [
    "a[1:-1] # 맨 마지막 전까지 "
   ]
  },
  {
   "cell_type": "code",
   "execution_count": 137,
   "id": "5e8445d4",
   "metadata": {},
   "outputs": [
    {
     "data": {
      "text/plain": [
       "array([0, 1, 2, 3, 4, 5, 6, 7, 8, 9])"
      ]
     },
     "execution_count": 137,
     "metadata": {},
     "output_type": "execute_result"
    }
   ],
   "source": [
    "a = np.arange(10)\n",
    "a"
   ]
  },
  {
   "cell_type": "code",
   "execution_count": 138,
   "id": "4c38bca4",
   "metadata": {},
   "outputs": [
    {
     "data": {
      "text/plain": [
       "array([0, 2, 4, 6, 8])"
      ]
     },
     "execution_count": 138,
     "metadata": {},
     "output_type": "execute_result"
    }
   ],
   "source": [
    "a[::2]"
   ]
  },
  {
   "cell_type": "code",
   "execution_count": 139,
   "id": "e1734c7a",
   "metadata": {},
   "outputs": [
    {
     "data": {
      "text/plain": [
       "array([0, 5])"
      ]
     },
     "execution_count": 139,
     "metadata": {},
     "output_type": "execute_result"
    }
   ],
   "source": [
    "a[::5]"
   ]
  },
  {
   "cell_type": "code",
   "execution_count": 141,
   "id": "122d7eed",
   "metadata": {},
   "outputs": [
    {
     "data": {
      "text/plain": [
       "array([0, 2, 4, 6])"
      ]
     },
     "execution_count": 141,
     "metadata": {},
     "output_type": "execute_result"
    }
   ],
   "source": [
    "a[:-2:2]"
   ]
  },
  {
   "cell_type": "code",
   "execution_count": 142,
   "id": "0a9a70db",
   "metadata": {},
   "outputs": [],
   "source": [
    "# 2D array"
   ]
  },
  {
   "cell_type": "code",
   "execution_count": 144,
   "id": "e1c1221d",
   "metadata": {},
   "outputs": [
    {
     "data": {
      "text/plain": [
       "(array([[10, 11, 12, 13, 14],\n",
       "        [15, 16, 17, 18, 19],\n",
       "        [20, 21, 22, 23, 24]]),\n",
       " 2,\n",
       " (3, 5),\n",
       " 15)"
      ]
     },
     "execution_count": 144,
     "metadata": {},
     "output_type": "execute_result"
    }
   ],
   "source": [
    "a = np.arange(10, 25).reshape(3, 5)\n",
    "a, a.ndim, a.shape, a.size"
   ]
  },
  {
   "cell_type": "code",
   "execution_count": 145,
   "id": "c6787db5",
   "metadata": {},
   "outputs": [
    {
     "data": {
      "text/plain": [
       "array([[10, 11, 12, 13, 14],\n",
       "       [15, 16, 17, 18, 19],\n",
       "       [20, 21, 22, 23, 24]])"
      ]
     },
     "execution_count": 145,
     "metadata": {},
     "output_type": "execute_result"
    }
   ],
   "source": [
    "a[:]"
   ]
  },
  {
   "cell_type": "code",
   "execution_count": 146,
   "id": "bfc3c481",
   "metadata": {},
   "outputs": [
    {
     "data": {
      "text/plain": [
       "array([[15, 16, 17, 18, 19],\n",
       "       [20, 21, 22, 23, 24]])"
      ]
     },
     "execution_count": 146,
     "metadata": {},
     "output_type": "execute_result"
    }
   ],
   "source": [
    "a[1:]"
   ]
  },
  {
   "cell_type": "code",
   "execution_count": 147,
   "id": "94454077",
   "metadata": {},
   "outputs": [
    {
     "data": {
      "text/plain": [
       "array([], shape=(0, 5), dtype=int32)"
      ]
     },
     "execution_count": 147,
     "metadata": {},
     "output_type": "execute_result"
    }
   ],
   "source": [
    "a[3:]"
   ]
  },
  {
   "cell_type": "code",
   "execution_count": 148,
   "id": "3fe62c33",
   "metadata": {},
   "outputs": [
    {
     "data": {
      "text/plain": [
       "array([[20, 21, 22, 23, 24]])"
      ]
     },
     "execution_count": 148,
     "metadata": {},
     "output_type": "execute_result"
    }
   ],
   "source": [
    "a[-1:]"
   ]
  },
  {
   "cell_type": "code",
   "execution_count": 149,
   "id": "392a9d9c",
   "metadata": {},
   "outputs": [
    {
     "data": {
      "text/plain": [
       "array([[10, 11, 12, 13, 14],\n",
       "       [15, 16, 17, 18, 19],\n",
       "       [20, 21, 22, 23, 24]])"
      ]
     },
     "execution_count": 149,
     "metadata": {},
     "output_type": "execute_result"
    }
   ],
   "source": [
    "a[-3:]"
   ]
  },
  {
   "cell_type": "code",
   "execution_count": 150,
   "id": "4f1f47d7",
   "metadata": {},
   "outputs": [
    {
     "ename": "ValueError",
     "evalue": "slice step cannot be zero",
     "output_type": "error",
     "traceback": [
      "\u001b[1;31m-------------------------------------------------\u001b[0m",
      "\u001b[1;31mValueError\u001b[0m      Traceback (most recent call last)",
      "Cell \u001b[1;32mIn[150], line 1\u001b[0m\n\u001b[1;32m----> 1\u001b[0m a[::\u001b[38;5;241m0\u001b[39m]\n",
      "\u001b[1;31mValueError\u001b[0m: slice step cannot be zero"
     ]
    }
   ],
   "source": [
    "a[::0] # end-1을 해야하는데 값이 없음으로 오류발생"
   ]
  },
  {
   "cell_type": "code",
   "execution_count": 151,
   "id": "8640cd32",
   "metadata": {},
   "outputs": [
    {
     "data": {
      "text/plain": [
       "array([[15, 16, 17, 18, 19]])"
      ]
     },
     "execution_count": 151,
     "metadata": {},
     "output_type": "execute_result"
    }
   ],
   "source": [
    "a[1:-1]"
   ]
  },
  {
   "cell_type": "code",
   "execution_count": 152,
   "id": "a5982161",
   "metadata": {},
   "outputs": [
    {
     "data": {
      "text/plain": [
       "array([[10, 11, 12, 13, 14],\n",
       "       [15, 16, 17, 18, 19],\n",
       "       [20, 21, 22, 23, 24]])"
      ]
     },
     "execution_count": 152,
     "metadata": {},
     "output_type": "execute_result"
    }
   ],
   "source": [
    "a[:, :]"
   ]
  },
  {
   "cell_type": "code",
   "execution_count": 153,
   "id": "e913280f",
   "metadata": {},
   "outputs": [
    {
     "data": {
      "text/plain": [
       "array([[11, 12, 13, 14],\n",
       "       [16, 17, 18, 19],\n",
       "       [21, 22, 23, 24]])"
      ]
     },
     "execution_count": 153,
     "metadata": {},
     "output_type": "execute_result"
    }
   ],
   "source": [
    "a[:, 1:]"
   ]
  },
  {
   "cell_type": "code",
   "execution_count": 154,
   "id": "4081eeeb",
   "metadata": {},
   "outputs": [
    {
     "data": {
      "text/plain": [
       "array([[14],\n",
       "       [19],\n",
       "       [24]])"
      ]
     },
     "execution_count": 154,
     "metadata": {},
     "output_type": "execute_result"
    }
   ],
   "source": [
    "a[:, -1:]"
   ]
  },
  {
   "cell_type": "code",
   "execution_count": 155,
   "id": "e30e47d9",
   "metadata": {},
   "outputs": [
    {
     "data": {
      "text/plain": [
       "array([[11, 12, 13, 14],\n",
       "       [16, 17, 18, 19],\n",
       "       [21, 22, 23, 24]])"
      ]
     },
     "execution_count": 155,
     "metadata": {},
     "output_type": "execute_result"
    }
   ],
   "source": [
    "a[:, -4:]"
   ]
  },
  {
   "cell_type": "code",
   "execution_count": 156,
   "id": "53f77089",
   "metadata": {},
   "outputs": [
    {
     "data": {
      "text/plain": [
       "array([[10],\n",
       "       [15],\n",
       "       [20]])"
      ]
     },
     "execution_count": 156,
     "metadata": {},
     "output_type": "execute_result"
    }
   ],
   "source": [
    "a[:, :1]"
   ]
  },
  {
   "cell_type": "code",
   "execution_count": 157,
   "id": "67fa8d23",
   "metadata": {},
   "outputs": [
    {
     "data": {
      "text/plain": [
       "array([[10],\n",
       "       [15],\n",
       "       [20]])"
      ]
     },
     "execution_count": 157,
     "metadata": {},
     "output_type": "execute_result"
    }
   ],
   "source": [
    "a[:, 0:1] # 0번 인덱스만"
   ]
  },
  {
   "cell_type": "code",
   "execution_count": 158,
   "id": "e0e44e36",
   "metadata": {},
   "outputs": [
    {
     "data": {
      "text/plain": [
       "array([[10, 11, 12, 13, 14, 15, 16, 17, 18, 19],\n",
       "       [20, 21, 22, 23, 24, 25, 26, 27, 28, 29],\n",
       "       [30, 31, 32, 33, 34, 35, 36, 37, 38, 39],\n",
       "       [40, 41, 42, 43, 44, 45, 46, 47, 48, 49],\n",
       "       [50, 51, 52, 53, 54, 55, 56, 57, 58, 59],\n",
       "       [60, 61, 62, 63, 64, 65, 66, 67, 68, 69],\n",
       "       [70, 71, 72, 73, 74, 75, 76, 77, 78, 79],\n",
       "       [80, 81, 82, 83, 84, 85, 86, 87, 88, 89],\n",
       "       [90, 91, 92, 93, 94, 95, 96, 97, 98, 99]])"
      ]
     },
     "execution_count": 158,
     "metadata": {},
     "output_type": "execute_result"
    }
   ],
   "source": [
    "a = np.arange(10, 100).reshape(9, 10)\n",
    "a"
   ]
  },
  {
   "cell_type": "code",
   "execution_count": 159,
   "id": "9d6dd843",
   "metadata": {},
   "outputs": [
    {
     "data": {
      "text/plain": [
       "array([[30, 31, 32, 33, 34, 35, 36, 37, 38, 39],\n",
       "       [40, 41, 42, 43, 44, 45, 46, 47, 48, 49],\n",
       "       [50, 51, 52, 53, 54, 55, 56, 57, 58, 59]])"
      ]
     },
     "execution_count": 159,
     "metadata": {},
     "output_type": "execute_result"
    }
   ],
   "source": [
    "a[2:5, :]"
   ]
  },
  {
   "cell_type": "code",
   "execution_count": 160,
   "id": "1d02d0b8",
   "metadata": {},
   "outputs": [
    {
     "data": {
      "text/plain": [
       "array([[12, 13, 14],\n",
       "       [22, 23, 24],\n",
       "       [32, 33, 34],\n",
       "       [42, 43, 44],\n",
       "       [52, 53, 54],\n",
       "       [62, 63, 64],\n",
       "       [72, 73, 74],\n",
       "       [82, 83, 84],\n",
       "       [92, 93, 94]])"
      ]
     },
     "execution_count": 160,
     "metadata": {},
     "output_type": "execute_result"
    }
   ],
   "source": [
    "a[:, 2:5]"
   ]
  },
  {
   "cell_type": "code",
   "execution_count": 161,
   "id": "02ca4c1d",
   "metadata": {},
   "outputs": [
    {
     "data": {
      "text/plain": [
       "array([[32, 33, 34],\n",
       "       [42, 43, 44],\n",
       "       [52, 53, 54]])"
      ]
     },
     "execution_count": 161,
     "metadata": {},
     "output_type": "execute_result"
    }
   ],
   "source": [
    "a[2:5, 2:5]"
   ]
  },
  {
   "cell_type": "code",
   "execution_count": 163,
   "id": "4199dd44",
   "metadata": {},
   "outputs": [
    {
     "data": {
      "text/plain": [
       "(array([[ 1,  2,  3,  4,  5],\n",
       "        [ 6,  7,  8,  9, 10],\n",
       "        [11, 12, 13, 14, 15],\n",
       "        [16, 17, 18, 19, 20],\n",
       "        [21, 22, 23, 24, 25]]),\n",
       " numpy.ndarray,\n",
       " 2)"
      ]
     },
     "execution_count": 163,
     "metadata": {},
     "output_type": "execute_result"
    }
   ],
   "source": [
    "matrix_c = np.arange(1, 26).reshape(5,5)\n",
    "matrix_c, type(matrix_c), matrix_c.ndim"
   ]
  },
  {
   "cell_type": "code",
   "execution_count": 164,
   "id": "8a52b0ee",
   "metadata": {},
   "outputs": [
    {
     "name": "stdout",
     "output_type": "stream",
     "text": [
      "[[21 22 23 24 25]\n",
      " [16 17 18 19 20]\n",
      " [11 12 13 14 15]\n",
      " [ 6  7  8  9 10]\n",
      " [ 1  2  3  4  5]]\n",
      "[[ 5  4  3  2  1]\n",
      " [10  9  8  7  6]\n",
      " [15 14 13 12 11]\n",
      " [20 19 18 17 16]\n",
      " [25 24 23 22 21]]\n"
     ]
    }
   ],
   "source": [
    "# 리버스 인덱싱\n",
    "print(matrix_c[::-1, ::]) # 행 뒤집기\n",
    "print(matrix_c[::, ::-1]) # 열 뒤집기"
   ]
  },
  {
   "attachments": {
    "image.png": {
     "image/png": "[encoded data removed]"
    }
   },
   "cell_type": "markdown",
   "id": "b1142634",
   "metadata": {},
   "source": [
    "# 전치행렬 \n",
    "![image.png](attachment:image.png)\n",
    "넘파이배열.T : 행과 열 구조 변경 "
   ]
  },
  {
   "cell_type": "code",
   "execution_count": 166,
   "id": "f7f8de5a",
   "metadata": {},
   "outputs": [
    {
     "data": {
      "text/plain": [
       "array([[1, 2],\n",
       "       [3, 4],\n",
       "       [5, 6]])"
      ]
     },
     "execution_count": 166,
     "metadata": {},
     "output_type": "execute_result"
    }
   ],
   "source": [
    "# 3행 2열\n",
    "matrix_d = np.arange(1,7).reshape(3,2)\n",
    "matrix_d"
   ]
  },
  {
   "cell_type": "code",
   "execution_count": 167,
   "id": "4a30bded",
   "metadata": {},
   "outputs": [
    {
     "name": "stdout",
     "output_type": "stream",
     "text": [
      "[[1 3 5]\n",
      " [2 4 6]]\n"
     ]
    }
   ],
   "source": [
    "# 2행 3열로 변환\n",
    "print(matrix_d.T)"
   ]
  },
  {
   "cell_type": "code",
   "execution_count": 168,
   "id": "2ebb1799",
   "metadata": {},
   "outputs": [
    {
     "name": "stdout",
     "output_type": "stream",
     "text": [
      "[[1 2 3]\n",
      " [4 5 6]]\n"
     ]
    }
   ],
   "source": [
    "# reshape과 transpose은 값이 다름을 유의\n",
    "print(matrix_d.reshape(2,3)) "
   ]
  },
  {
   "cell_type": "markdown",
   "id": "bc70cf0b",
   "metadata": {},
   "source": [
    "# 난수로 구성된 넘파이 배열\n",
    "np.random.randint(start, end, n) : 정수 난수\n",
    " \n",
    " np.random.randint(start, end, (i, j))"
   ]
  },
  {
   "cell_type": "code",
   "execution_count": 172,
   "id": "0a388890",
   "metadata": {},
   "outputs": [
    {
     "data": {
      "text/plain": [
       "array([26, 20, 27, 44, 33,  4])"
      ]
     },
     "execution_count": 172,
     "metadata": {},
     "output_type": "execute_result"
    }
   ],
   "source": [
    "# 1~10 사이의 숫자중에서 10개 출력\n",
    "np.random.randint(1, 45,6)"
   ]
  },
  {
   "cell_type": "markdown",
   "id": "143822c0",
   "metadata": {},
   "source": [
    "# 섞기\n",
    "np.random.shuffle(넘파이배열) 원본에 바로 적용"
   ]
  },
  {
   "cell_type": "code",
   "execution_count": 174,
   "id": "e9d5611d",
   "metadata": {},
   "outputs": [
    {
     "data": {
      "text/plain": [
       "array([ 1,  7, 13, 19, 25, 31, 37, 43])"
      ]
     },
     "execution_count": 174,
     "metadata": {},
     "output_type": "execute_result"
    }
   ],
   "source": [
    "# 10개 무작위 값 만들기\n",
    "matrix_e = np.arange(1,46,6)\n",
    "matrix_e"
   ]
  },
  {
   "cell_type": "code",
   "execution_count": 175,
   "id": "19f64074",
   "metadata": {},
   "outputs": [
    {
     "data": {
      "text/plain": [
       "array([27, 40, 11, 21, 24, 44])"
      ]
     },
     "execution_count": 175,
     "metadata": {},
     "output_type": "execute_result"
    }
   ],
   "source": [
    "num= np.arange(1,47)\n",
    "np.random.shuffle(num)\n",
    "num[:6]"
   ]
  },
  {
   "cell_type": "markdown",
   "id": "4d2a8daa",
   "metadata": {},
   "source": [
    "# 실수 난수\n",
    "np.random.randn(n) np.random.randn(i, j)"
   ]
  },
  {
   "cell_type": "code",
   "execution_count": 177,
   "id": "00b4e3d3",
   "metadata": {},
   "outputs": [
    {
     "data": {
      "text/plain": [
       "array([-1.52207124, -0.93891299, -0.31803133,  1.40412957, -0.17349086,\n",
       "        1.70377068, -0.87062219, -0.88431252,  0.511651  , -0.06127025])"
      ]
     },
     "execution_count": 177,
     "metadata": {},
     "output_type": "execute_result"
    }
   ],
   "source": [
    "matrix1 = np.random.randn(10) # 표준정규분포 0 ~ 분산1\n",
    "matrix1"
   ]
  },
  {
   "cell_type": "code",
   "execution_count": 178,
   "id": "04cf1dac",
   "metadata": {},
   "outputs": [
    {
     "data": {
      "text/plain": [
       "array([[ 1.88267711, -0.00240959, -1.01776881,  0.96643737],\n",
       "       [-0.17854798,  0.4273684 , -1.34468861, -0.60815114],\n",
       "       [ 0.35575275,  1.66275325, -2.14276511,  0.51871081],\n",
       "       [-0.21347711,  0.08879645, -0.45364187, -0.25589388]])"
      ]
     },
     "execution_count": 178,
     "metadata": {},
     "output_type": "execute_result"
    }
   ],
   "source": [
    "matrix2 = np.random.randn(4, 4)\n",
    "matrix2"
   ]
  },
  {
   "cell_type": "code",
   "execution_count": 179,
   "id": "692b58f6",
   "metadata": {},
   "outputs": [
    {
     "data": {
      "text/plain": [
       "(1.7037706848174252, -1.5220712392537725)"
      ]
     },
     "execution_count": 179,
     "metadata": {},
     "output_type": "execute_result"
    }
   ],
   "source": [
    "matrix1.max(), matrix1.min()"
   ]
  },
  {
   "cell_type": "markdown",
   "id": "8cc097c5",
   "metadata": {},
   "source": [
    "# 집계함수에서의 축\n",
    "- 2차원에서의 집계합수(sum, mean)\n",
    "- axis = 0, 1\n",
    "- np.sum(넘파이배열, axis=0/1)\n",
    "- np.mean(넘파이배열, axis=0/1)\n",
    "- np.sort(넘파이배열, axis=0/1)"
   ]
  },
  {
   "cell_type": "code",
   "execution_count": 181,
   "id": "edf0eb92",
   "metadata": {},
   "outputs": [
    {
     "data": {
      "text/plain": [
       "array([[39, 34, 24, 28, 11],\n",
       "       [13,  1, 39, 40, 31],\n",
       "       [31, 31, 44, 27, 16],\n",
       "       [42, 11, 26,  6, 10],\n",
       "       [34, 41, 34,  6, 46]])"
      ]
     },
     "execution_count": 181,
     "metadata": {},
     "output_type": "execute_result"
    }
   ],
   "source": [
    "m1 = np.random.randint(1, 50, (5,5)) # 축의 방향을 지정해줘야함\n",
    "m1"
   ]
  },
  {
   "cell_type": "code",
   "execution_count": 182,
   "id": "158fff22",
   "metadata": {},
   "outputs": [
    {
     "data": {
      "text/plain": [
       "array([159, 118, 167, 107, 114])"
      ]
     },
     "execution_count": 182,
     "metadata": {},
     "output_type": "execute_result"
    }
   ],
   "source": [
    "np.sum(m1, axis=0) # (x)행 합계"
   ]
  },
  {
   "cell_type": "code",
   "execution_count": 183,
   "id": "3a99a811",
   "metadata": {},
   "outputs": [
    {
     "data": {
      "text/plain": [
       "array([136, 124, 149,  95, 161])"
      ]
     },
     "execution_count": 183,
     "metadata": {},
     "output_type": "execute_result"
    }
   ],
   "source": [
    "np.sum(m1, axis=1) # 1 인덱스"
   ]
  },
  {
   "cell_type": "code",
   "execution_count": 184,
   "id": "c3235778",
   "metadata": {},
   "outputs": [
    {
     "data": {
      "text/plain": [
       "array([159, 118, 167, 107, 114])"
      ]
     },
     "execution_count": 184,
     "metadata": {},
     "output_type": "execute_result"
    }
   ],
   "source": [
    "np.sum(m1[0:], axis=0) #1행 합계"
   ]
  },
  {
   "cell_type": "markdown",
   "id": "d0410d49",
   "metadata": {},
   "source": [
    "# np.sort()"
   ]
  },
  {
   "cell_type": "code",
   "execution_count": 196,
   "id": "172c85c7",
   "metadata": {},
   "outputs": [
    {
     "data": {
      "text/plain": [
       "array([[17, 38, 23],\n",
       "       [31, 10, 45],\n",
       "       [ 6, 10, 27],\n",
       "       [10, 32,  3]])"
      ]
     },
     "execution_count": 196,
     "metadata": {},
     "output_type": "execute_result"
    }
   ],
   "source": [
    "# 정수 난수로 구성된 4x3\n",
    "m2 = np.random.randint(1, 50,(4,3))\n",
    "m2"
   ]
  },
  {
   "cell_type": "code",
   "execution_count": 187,
   "id": "fe1f2efc",
   "metadata": {},
   "outputs": [],
   "source": [
    "np.sort? # 축의 방향을 가지고 있음"
   ]
  },
  {
   "cell_type": "code",
   "execution_count": 189,
   "id": "54cc7af0",
   "metadata": {},
   "outputs": [
    {
     "data": {
      "text/plain": [
       "array([[ 7, 21, 39],\n",
       "       [ 8, 25, 45],\n",
       "       [14, 39, 44],\n",
       "       [19, 29, 49]])"
      ]
     },
     "execution_count": 189,
     "metadata": {},
     "output_type": "execute_result"
    }
   ],
   "source": [
    "np.sort(m2) # 행 방향으로 오름차순 정렬"
   ]
  },
  {
   "cell_type": "code",
   "execution_count": 194,
   "id": "3fc5de3f",
   "metadata": {},
   "outputs": [
    {
     "data": {
      "text/plain": [
       "array([[10, 17, 18],\n",
       "       [14, 26, 30],\n",
       "       [24, 33, 36],\n",
       "       [28, 46, 42]])"
      ]
     },
     "execution_count": 194,
     "metadata": {},
     "output_type": "execute_result"
    }
   ],
   "source": [
    "np.sort(m2, axis=0) # 행방향 오름차순 정렬(요소별)"
   ]
  },
  {
   "cell_type": "code",
   "execution_count": 192,
   "id": "b4d2294e",
   "metadata": {},
   "outputs": [
    {
     "data": {
      "text/plain": [
       "array([[29, 19, 49],\n",
       "       [14, 44, 39],\n",
       "       [45, 25,  8],\n",
       "       [39,  7, 21]])"
      ]
     },
     "execution_count": 192,
     "metadata": {},
     "output_type": "execute_result"
    }
   ],
   "source": [
    "m2[::-1, ::] # 행전체가 역순"
   ]
  },
  {
   "cell_type": "code",
   "execution_count": 197,
   "id": "a3d0590a",
   "metadata": {},
   "outputs": [
    {
     "data": {
      "text/plain": [
       "array([[17, 23, 38],\n",
       "       [10, 31, 45],\n",
       "       [ 6, 10, 27],\n",
       "       [ 3, 10, 32]])"
      ]
     },
     "execution_count": 197,
     "metadata": {},
     "output_type": "execute_result"
    }
   ],
   "source": [
    "np.sort(m2, axis=1) # 열방향 오름차순 /axis 열방향으로 요소 이동"
   ]
  },
  {
   "cell_type": "markdown",
   "id": "5f63fb71",
   "metadata": {},
   "source": [
    "# 인덱스 소팅 \n",
    "np.argsort(넘파이배열, axis=0,1)\n",
    "\n",
    " \n",
    " 정렬값을 인덱스로 반환 (np.sort()를 인덱스로)"
   ]
  },
  {
   "cell_type": "code",
   "execution_count": 201,
   "id": "9f27272f",
   "metadata": {},
   "outputs": [
    {
     "data": {
      "text/plain": [
       "array([2, 1, 0], dtype=int64)"
      ]
     },
     "execution_count": 201,
     "metadata": {},
     "output_type": "execute_result"
    }
   ],
   "source": [
    "x = np.array([9,5,4])\n",
    "np.argsort(x) # 오름차순 정렬 4 5 9 의 인덱스 값 "
   ]
  },
  {
   "cell_type": "code",
   "execution_count": 202,
   "id": "6d97b823",
   "metadata": {},
   "outputs": [
    {
     "data": {
      "text/plain": [
       "array([4, 5, 9])"
      ]
     },
     "execution_count": 202,
     "metadata": {},
     "output_type": "execute_result"
    }
   ],
   "source": [
    "x[np.argsort(x)] # 인덱스값으로 실제 값 출력"
   ]
  },
  {
   "cell_type": "markdown",
   "id": "3603bbb6",
   "metadata": {},
   "source": [
    "# 넘파이 배열 요소 추가와 삭제"
   ]
  },
  {
   "cell_type": "code",
   "execution_count": 4,
   "id": "645df4b1",
   "metadata": {},
   "outputs": [
    {
     "data": {
      "text/plain": [
       "array([ 1,  2,  3,  4,  5,  6,  7,  8,  9, 10])"
      ]
     },
     "execution_count": 4,
     "metadata": {},
     "output_type": "execute_result"
    }
   ],
   "source": [
    "m3 = np.arange(1,11)\n",
    "m3"
   ]
  },
  {
   "cell_type": "code",
   "execution_count": 6,
   "id": "fbd5015b",
   "metadata": {},
   "outputs": [
    {
     "data": {
      "text/plain": [
       "array([100,   1,   2,   3,   4,   5,   6,   7,   8,   9,  10])"
      ]
     },
     "execution_count": 6,
     "metadata": {},
     "output_type": "execute_result"
    }
   ],
   "source": [
    "np.insert(m3, 0, 100)"
   ]
  },
  {
   "cell_type": "code",
   "execution_count": 7,
   "id": "ba9f5af8",
   "metadata": {},
   "outputs": [
    {
     "data": {
      "text/plain": [
       "10"
      ]
     },
     "execution_count": 7,
     "metadata": {},
     "output_type": "execute_result"
    }
   ],
   "source": [
    "m3[-1]"
   ]
  },
  {
   "cell_type": "code",
   "execution_count": 8,
   "id": "5c2f0a30",
   "metadata": {},
   "outputs": [
    {
     "data": {
      "text/plain": [
       "array([  1,   2,   3,   4,   5,   6,   7,   8,   9, 500,  10])"
      ]
     },
     "execution_count": 8,
     "metadata": {},
     "output_type": "execute_result"
    }
   ],
   "source": [
    "np.insert(m3, -1, 500)  "
   ]
  },
  {
   "cell_type": "code",
   "execution_count": 9,
   "id": "282c071a",
   "metadata": {},
   "outputs": [
    {
     "data": {
      "text/plain": [
       "array([  1,   2,   3,   4,   5,   6,   7,   8,   9,  10, 500])"
      ]
     },
     "execution_count": 9,
     "metadata": {},
     "output_type": "execute_result"
    }
   ],
   "source": [
    "np.insert(m3, len(m3), 500) "
   ]
  },
  {
   "cell_type": "code",
   "execution_count": 10,
   "id": "dd9835f5",
   "metadata": {},
   "outputs": [
    {
     "data": {
      "text/plain": [
       "array([[1, 2, 3],\n",
       "       [4, 5, 6],\n",
       "       [7, 8, 9]])"
      ]
     },
     "execution_count": 10,
     "metadata": {},
     "output_type": "execute_result"
    }
   ],
   "source": [
    "m4 = np.arange(1,10).reshape(3,3)\n",
    "m4"
   ]
  },
  {
   "cell_type": "code",
   "execution_count": 13,
   "id": "8aa52282",
   "metadata": {},
   "outputs": [
    {
     "data": {
      "text/plain": [
       "array([100,   1,   2,   3,   4,   5,   6,   7,   8,   9])"
      ]
     },
     "execution_count": 13,
     "metadata": {},
     "output_type": "execute_result"
    }
   ],
   "source": [
    "np.insert(m4, 0, 100)  # flatten"
   ]
  },
  {
   "cell_type": "code",
   "execution_count": 12,
   "id": "96d23478",
   "metadata": {},
   "outputs": [
    {
     "data": {
      "text/plain": [
       "array([[100,   1,   2,   3],\n",
       "       [100,   4,   5,   6],\n",
       "       [100,   7,   8,   9]])"
      ]
     },
     "execution_count": 12,
     "metadata": {},
     "output_type": "execute_result"
    }
   ],
   "source": [
    "np.insert(m4, 0, 100, axis=1) # axis 열방향"
   ]
  },
  {
   "cell_type": "code",
   "execution_count": 14,
   "id": "49cdb551",
   "metadata": {},
   "outputs": [
    {
     "data": {
      "text/plain": [
       "array([[100,   1,   2,   3],\n",
       "       [200,   4,   5,   6],\n",
       "       [300,   7,   8,   9]])"
      ]
     },
     "execution_count": 14,
     "metadata": {},
     "output_type": "execute_result"
    }
   ],
   "source": [
    "# 리스트로 삽입\n",
    "np.insert(m4, 0, [100,200,300], axis=1)"
   ]
  },
  {
   "cell_type": "code",
   "execution_count": 15,
   "id": "ab39ce02",
   "metadata": {},
   "outputs": [
    {
     "data": {
      "text/plain": [
       "((3, 3), 3, 3)"
      ]
     },
     "execution_count": 15,
     "metadata": {},
     "output_type": "execute_result"
    }
   ],
   "source": [
    "m4.shape, m4.shape[1], len(m4)"
   ]
  },
  {
   "cell_type": "code",
   "execution_count": 16,
   "id": "2a14ecaf",
   "metadata": {},
   "outputs": [
    {
     "data": {
      "text/plain": [
       "(3, 3)"
      ]
     },
     "execution_count": 16,
     "metadata": {},
     "output_type": "execute_result"
    }
   ],
   "source": [
    "m4.shape"
   ]
  },
  {
   "cell_type": "code",
   "execution_count": 17,
   "id": "735e4c97",
   "metadata": {},
   "outputs": [
    {
     "data": {
      "text/plain": [
       "array([[  1,   2,   3, 100],\n",
       "       [  4,   5,   6, 200],\n",
       "       [  7,   8,   9, 300]])"
      ]
     },
     "execution_count": 17,
     "metadata": {},
     "output_type": "execute_result"
    }
   ],
   "source": [
    "np.insert(m4, m4.shape[1], [100,200,300], axis=1)"
   ]
  },
  {
   "cell_type": "code",
   "execution_count": 18,
   "id": "972d9c7a",
   "metadata": {},
   "outputs": [
    {
     "data": {
      "text/plain": [
       "array([[  1,   2,   3],\n",
       "       [  4,   5,   6],\n",
       "       [  7,   8,   9],\n",
       "       [100, 200, 300]])"
      ]
     },
     "execution_count": 18,
     "metadata": {},
     "output_type": "execute_result"
    }
   ],
   "source": [
    "np.insert(m4, m4.shape[0], [100,200,300], axis=0)"
   ]
  },
  {
   "cell_type": "code",
   "execution_count": 20,
   "id": "b237ec74",
   "metadata": {},
   "outputs": [
    {
     "data": {
      "text/plain": [
       "array([[4, 5, 6],\n",
       "       [7, 8, 9]])"
      ]
     },
     "execution_count": 20,
     "metadata": {},
     "output_type": "execute_result"
    }
   ],
   "source": [
    "np.delete(m4, 0, axis=0)"
   ]
  },
  {
   "cell_type": "markdown",
   "id": "c44dff7d",
   "metadata": {},
   "source": [
    "# 배열 합치기\n",
    "np.vstack((배열1,배열2....)) : 세로 합치기\n",
    " \n",
    "np.hstack((배열1,배열2....)) : 가로 합치기\n",
    " \n",
    "np.concatenate((배열1, 배열2), axis=0/1 ) 2차원만 가능"
   ]
  },
  {
   "cell_type": "code",
   "execution_count": 22,
   "id": "3f12296c",
   "metadata": {},
   "outputs": [
    {
     "data": {
      "text/plain": [
       "array([[1, 2, 3],\n",
       "       [4, 5, 6]])"
      ]
     },
     "execution_count": 22,
     "metadata": {},
     "output_type": "execute_result"
    }
   ],
   "source": [
    "a = np.array([1,2,3])\n",
    "b = np.array([4,5,6])\n",
    "np.vstack((a,b))"
   ]
  },
  {
   "cell_type": "code",
   "execution_count": 23,
   "id": "9434532b",
   "metadata": {},
   "outputs": [
    {
     "data": {
      "text/plain": [
       "array([1, 2, 3, 4, 5, 6])"
      ]
     },
     "execution_count": 23,
     "metadata": {},
     "output_type": "execute_result"
    }
   ],
   "source": [
    "np.hstack((a,b))"
   ]
  },
  {
   "cell_type": "code",
   "execution_count": 25,
   "id": "5cb471e1",
   "metadata": {},
   "outputs": [
    {
     "data": {
      "text/plain": [
       "(array([[1, 2, 3]]), 2, (1, 3))"
      ]
     },
     "execution_count": 25,
     "metadata": {},
     "output_type": "execute_result"
    }
   ],
   "source": [
    "c = np.array([[1,2,3]]) # 2차원\n",
    "c, c.ndim, c.shape"
   ]
  },
  {
   "cell_type": "code",
   "execution_count": 26,
   "id": "a656dae6",
   "metadata": {},
   "outputs": [
    {
     "data": {
      "text/plain": [
       "(array([[4, 5, 6]]), 2, (1, 3))"
      ]
     },
     "execution_count": 26,
     "metadata": {},
     "output_type": "execute_result"
    }
   ],
   "source": [
    "d = np.array([[4,5,6]]) \n",
    "d, d.ndim, d.shape"
   ]
  },
  {
   "cell_type": "code",
   "execution_count": 27,
   "id": "ef102159",
   "metadata": {},
   "outputs": [
    {
     "data": {
      "text/plain": [
       "(array([[1, 2, 3],\n",
       "        [4, 5, 6]]),\n",
       " 2,\n",
       " (2, 3))"
      ]
     },
     "execution_count": 27,
     "metadata": {},
     "output_type": "execute_result"
    }
   ],
   "source": [
    "f = np.concatenate((c,d), axis=0) # 2차원만 가능\n",
    "f, f.ndim, f.shape"
   ]
  },
  {
   "cell_type": "code",
   "execution_count": 28,
   "id": "5d0a9d06",
   "metadata": {},
   "outputs": [
    {
     "data": {
      "text/plain": [
       "(array([[1, 2, 3, 4, 5, 6]]), 2, (1, 6))"
      ]
     },
     "execution_count": 28,
     "metadata": {},
     "output_type": "execute_result"
    }
   ],
   "source": [
    "f = np.concatenate((c,d), axis=1) \n",
    "f, f.ndim, f.shape"
   ]
  },
  {
   "cell_type": "code",
   "execution_count": 29,
   "id": "fe560629",
   "metadata": {},
   "outputs": [],
   "source": [
    "# boolean indexing, mask"
   ]
  },
  {
   "cell_type": "code",
   "execution_count": 30,
   "id": "b7c8928e",
   "metadata": {},
   "outputs": [
    {
     "data": {
      "text/plain": [
       "array([ 1,  2,  3,  4,  5,  6,  7,  8,  9, 10, 11, 12, 13, 14, 15, 16, 17,\n",
       "       18, 19, 20])"
      ]
     },
     "execution_count": 30,
     "metadata": {},
     "output_type": "execute_result"
    }
   ],
   "source": [
    "matrix = np.arange(1, 21)\n",
    "matrix"
   ]
  },
  {
   "cell_type": "code",
   "execution_count": 31,
   "id": "95eb0de0",
   "metadata": {},
   "outputs": [
    {
     "data": {
      "text/plain": [
       "array([False, False, False, False, False, False, False, False, False,\n",
       "       False,  True,  True,  True,  True,  True,  True,  True,  True,\n",
       "        True,  True])"
      ]
     },
     "execution_count": 31,
     "metadata": {},
     "output_type": "execute_result"
    }
   ],
   "source": [
    "matrix > 10"
   ]
  },
  {
   "cell_type": "code",
   "execution_count": 32,
   "id": "dc9a362b",
   "metadata": {},
   "outputs": [
    {
     "data": {
      "text/plain": [
       "array([11, 12, 13, 14, 15, 16, 17, 18, 19, 20])"
      ]
     },
     "execution_count": 32,
     "metadata": {},
     "output_type": "execute_result"
    }
   ],
   "source": [
    "matrix[matrix > 10]"
   ]
  },
  {
   "cell_type": "code",
   "execution_count": 33,
   "id": "6a9890c6",
   "metadata": {},
   "outputs": [
    {
     "data": {
      "text/plain": [
       "10"
      ]
     },
     "execution_count": 33,
     "metadata": {},
     "output_type": "execute_result"
    }
   ],
   "source": [
    "(matrix > 10).sum()"
   ]
  },
  {
   "cell_type": "markdown",
   "id": "099ece92",
   "metadata": {},
   "source": [
    "# Quiz : 1~100사이 난수 30개를 추출하여 넘파이 배열을 생성하고, 30보다 크거나 70보다 작은 수를 출력하라"
   ]
  },
  {
   "cell_type": "code",
   "execution_count": 37,
   "id": "3617eb9a",
   "metadata": {},
   "outputs": [
    {
     "data": {
      "text/plain": [
       "array([63, 58, 32, 43, 60, 37, 40, 54])"
      ]
     },
     "execution_count": 37,
     "metadata": {},
     "output_type": "execute_result"
    }
   ],
   "source": [
    "matrix = np.random.randint(1, 101,30) \n",
    "matrix[(matrix > 30) & (matrix < 70)]"
   ]
  },
  {
   "cell_type": "code",
   "execution_count": 40,
   "id": "2d70d2bb",
   "metadata": {},
   "outputs": [
    {
     "data": {
      "text/plain": [
       "array([20,  8, 13, 27,  9, 15, 27, 11, 23, 27,  4])"
      ]
     },
     "execution_count": 40,
     "metadata": {},
     "output_type": "execute_result"
    }
   ],
   "source": [
    "# ~ 은 reverse를 의미\n",
    "matrix[~(matrix > 30) & (matrix < 70)]"
   ]
  },
  {
   "cell_type": "code",
   "execution_count": 41,
   "id": "f5bfd9e1",
   "metadata": {},
   "outputs": [
    {
     "data": {
      "text/plain": [
       "array([ 8,  9, 92, 92,  4])"
      ]
     },
     "execution_count": 41,
     "metadata": {},
     "output_type": "execute_result"
    }
   ],
   "source": [
    "# 10보다 작거나 90보다 큰 수,\n",
    "matrix[(matrix < 10) | (matrix > 90)]"
   ]
  },
  {
   "cell_type": "markdown",
   "id": "ef299fa1",
   "metadata": {},
   "source": [
    "# fancy indexing(filtering) \n",
    "넘파이 배열에 배열로 인덱싱하면 인덱스 번호로 인식"
   ]
  },
  {
   "cell_type": "code",
   "execution_count": 43,
   "id": "13f773a0",
   "metadata": {},
   "outputs": [
    {
     "data": {
      "text/plain": [
       "(array([28, 57, 17, 14, 78, 70, 98, 53, 99, 93, 52, 36, 33, 30, 11, 75, 68,\n",
       "        90, 13, 10, 82, 60, 33, 56, 26, 22, 66,  1, 41, 97]),\n",
       " array([28, 17, 14, 52, 82]))"
      ]
     },
     "execution_count": 43,
     "metadata": {},
     "output_type": "execute_result"
    }
   ],
   "source": [
    "n = np.random.randint(1,100,30)\n",
    "i = np.array([0, 2, 3, 10, 20])\n",
    "n, n[i]"
   ]
  },
  {
   "cell_type": "markdown",
   "id": "9fa90050",
   "metadata": {},
   "source": [
    "# np.where()를 이용한 필터링(중요)"
   ]
  },
  {
   "cell_type": "code",
   "execution_count": 45,
   "id": "cfb357ae",
   "metadata": {},
   "outputs": [
    {
     "data": {
      "text/plain": [
       "(array([0, 1, 2, 3, 4, 5, 6, 7, 8, 9]),\n",
       " array([ 0,  1,  2,  3,  4, 50, 60, 70, 80, 90]))"
      ]
     },
     "execution_count": 45,
     "metadata": {},
     "output_type": "execute_result"
    }
   ],
   "source": [
    "a = np.arange(10)\n",
    "a, np.where(a < 5, a, 10*a) # a가 5보다 작으면 a를, 아니면 10을 곱하여 출력"
   ]
  },
  {
   "cell_type": "code",
   "execution_count": 46,
   "id": "8d40972b",
   "metadata": {},
   "outputs": [
    {
     "data": {
      "text/plain": [
       "(array([20, 21, 22, 23, 24, 25, 26, 27, 28, 29, 30]),\n",
       " (array([0, 1, 2, 3, 4], dtype=int64),))"
      ]
     },
     "execution_count": 46,
     "metadata": {},
     "output_type": "execute_result"
    }
   ],
   "source": [
    "b = np.arange(20, 31)\n",
    "b, np.where(b<25) # 조건을 하나만 주면 인덱스를 반환함"
   ]
  },
  {
   "cell_type": "code",
   "execution_count": null,
   "id": "5b53a5d1",
   "metadata": {},
   "outputs": [],
   "source": []
  }
 ],
 "metadata": {
  "kernelspec": {
   "display_name": "Python 3 (ipykernel)",
   "language": "python",
   "name": "python3"
  },
  "language_info": {
   "codemirror_mode": {
    "name": "ipython",
    "version": 3
   },
   "file_extension": ".py",
   "mimetype": "text/x-python",
   "name": "python",
   "nbconvert_exporter": "python",
   "pygments_lexer": "ipython3",
   "version": "3.11.5"
  }
 },
 "nbformat": 4,
 "nbformat_minor": 5
}
