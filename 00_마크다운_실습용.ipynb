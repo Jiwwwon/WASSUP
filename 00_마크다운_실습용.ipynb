{
 "cells": [
  {
   "cell_type": "markdown",
   "id": "6eb3a399",
   "metadata": {},
   "source": [
    "[공통] 마크다운 markdown 작성법\n",
    "======================"
   ]
  },
  {
   "cell_type": "markdown",
   "id": "7418f77b",
   "metadata": {},
   "source": [
    "> 영어지만, 조금 더 상세하게 마크다운 사용법을 안내하고 있는    \n",
    "> \"Markdown Guide (https://www.markdownguide.org/)\" 를 보시는 것을 추천합니다. ^^\n",
    "\n",
    "> 아, 그리고 마크다운만으로 표현이 부족하다고 느끼신다면, HTML 태그를 활용하시는 것도 좋습니다."
   ]
  },
  {
   "cell_type": "markdown",
   "id": "b91cc751",
   "metadata": {},
   "source": [
    "# 마크다운에 관하여\n",
    "## 마크다운이란?\n",
    "[**Markdown**](https://www.markdownguide.org/getting-started/)은 텍스트 기반의 마크업언어로 2004년 존그루버에 의해 만들어졌으며 쉽게 쓰고 읽을 수 있으며 HTML로 변환이 가능하다. 특수기호와 문자를 이용한 매우 간단한 구조의 문법을 사용하여 웹에서도 보다 빠르게 컨텐츠를 작성하고 보다 직관적으로 인식할 수 있다.\n",
    "마크다운이 최근 각광받기 시작한 이유는 깃헙([https://github.com](https://github.com)) 덕분이다. 깃헙의 저장소Repository에 관한 정보를 기록하는 README.md는 깃헙을 사용하는 사람이라면 누구나 가장 먼저 접하게 되는 마크다운 문서였다. 마크다운을 통해서 설치방법, 소스코드 설명, 이슈 등을 간단하게 기록하고 가독성을 높일 수 있다는 강점이 부각되면서 점점 여러 곳으로 퍼져가게 된다."
   ]
  },
  {
   "cell_type": "markdown",
   "id": "52bee78f",
   "metadata": {},
   "source": [
    "## 마크다운의 장-단점\n",
    "### 장점\n",
    "\t1. 간결하다.\n",
    "\t2. 별도의 도구없이 작성가능하다.\n",
    "\t3. 다양한 형태로 변환이 가능하다.\n",
    "\t4. 텍스트(Text)로 저장되기 때문에 용량이 적어 보관이 용이하다.\n",
    "\t5. 텍스트파일이기 때문에 버전관리시스템을 이용하여 변경이력을 관리할 수 있다.\n",
    "\t6. 지원하는 프로그램과 플랫폼이 다양하다."
   ]
  },
  {
   "cell_type": "markdown",
   "id": "df062fba",
   "metadata": {},
   "source": [
    "### 단점\n",
    "\t1. 표준이 없다.\n",
    "\t2. 표준이 없기 때문에 도구에 따라서 변환방식이나 생성물이 다르다.\n",
    "\t3. 모든 HTML 마크업을 대신하지 못한다."
   ]
  },
  {
   "cell_type": "markdown",
   "id": "f529052c",
   "metadata": {},
   "source": [
    "****\n",
    "# 마크다운 사용법(문법)"
   ]
  },
  {
   "cell_type": "markdown",
   "id": "0f2a2101",
   "metadata": {},
   "source": [
    "## 헤더Headers\n",
    "* 큰제목: 문서 제목\n",
    "    ```\n",
    "    This is an H1\n",
    "    =============\n",
    "    ```    "
   ]
  },
  {
   "cell_type": "markdown",
   "id": "7408b177",
   "metadata": {},
   "source": [
    "this is an H1"
   ]
  },
  {
   "cell_type": "markdown",
   "id": "e1508f8b",
   "metadata": {},
   "source": [
    "* 작은제목: 문서 부제목\n",
    "    ```\n",
    "    This is an H2\n",
    "    -------------\n",
    "    ```"
   ]
  },
  {
   "cell_type": "markdown",
   "id": "f1d6aabb",
   "metadata": {},
   "source": [
    "This is an H2"
   ]
  },
  {
   "cell_type": "markdown",
   "id": "82ccde72",
   "metadata": {},
   "source": [
    "* 글머리: 1~6까지만 지원\n",
    "```\n",
    "# This is a H1\n",
    "## This is a H2\n",
    "### This is a H3\n",
    "#### This is a H4\n",
    "##### This is a H5\n",
    "###### This is a H6\n",
    "```"
   ]
  },
  {
   "cell_type": "markdown",
   "id": "4e3a9655",
   "metadata": {},
   "source": [
    "# This is a H1\n",
    "## This is a H2\n",
    "### This is a H3\n",
    "#### This is a H4\n",
    "##### This is a H5\n",
    "###### This is a H6"
   ]
  },
  {
   "cell_type": "markdown",
   "id": "32662848",
   "metadata": {},
   "source": [
    "## BlockQuote\n",
    "이메일에서 사용하는 ```>``` 블럭인용문자를 이용한다.\n",
    "```\n",
    "> This is a first blockqute.\n",
    ">\t> This is a second blockqute.\n",
    ">\t>\t> This is a third blockqute.\n",
    "```"
   ]
  },
  {
   "cell_type": "markdown",
   "id": "7c433dfd",
   "metadata": {},
   "source": [
    "> This is a first blockqute.\n",
    ">\t> This is a second blockqute.\n",
    ">\t>\t> This is a third blockqute."
   ]
  },
  {
   "cell_type": "markdown",
   "id": "8ba88720",
   "metadata": {},
   "source": [
    "이 안에서는 다른 마크다운 요소를 포함할 수 있다.\n",
    "> ### This is a H3\n",
    "> * List\n",
    ">\t```\n",
    ">\tcode\n",
    ">\t```"
   ]
  },
  {
   "cell_type": "code",
   "execution_count": null,
   "id": "5b6bdf82",
   "metadata": {},
   "outputs": [],
   "source": []
  },
  {
   "cell_type": "markdown",
   "id": "324b0d35",
   "metadata": {},
   "source": [
    "## 목록\n",
    "### ● 순서있는 목록(번호)\n",
    "순서있는 목록은 숫자와 점을 사용한다.\n",
    "```\n",
    "1. 첫번째\n",
    "2. 두번째\n",
    "3. 세번째\n",
    "```"
   ]
  },
  {
   "cell_type": "markdown",
   "id": "19c3dc1a",
   "metadata": {},
   "source": [
    "1. 첫번째\n",
    "2. 두번째 "
   ]
  },
  {
   "cell_type": "markdown",
   "id": "8aa4ea17",
   "metadata": {},
   "source": [
    "**현재까지는 어떤 번호를 입력해도 순서는 내림차순으로 정의된다.**\n",
    "```\n",
    "1. 첫번째\n",
    "3. 세번째\n",
    "2. 두번째\n",
    "```\n",
    "딱히 개선될 것 같지는 않다. 존 그루버가 신경안쓰고 있다고..."
   ]
  },
  {
   "cell_type": "code",
   "execution_count": null,
   "id": "4df5ea36",
   "metadata": {},
   "outputs": [],
   "source": []
  },
  {
   "cell_type": "markdown",
   "id": "f13ae310",
   "metadata": {},
   "source": [
    "### ● 순서없는 목록(글머리 기호: `*`, `+`, `-` 지원)\n",
    "```\n",
    "* 빨강\n",
    "  * 녹색\n",
    "    * 파랑\n",
    "\n",
    "+ 빨강\n",
    "  + 녹색\n",
    "    + 파랑\n",
    "\n",
    "- 빨강\n",
    "  - 녹색\n",
    "    - 파랑\n",
    "```"
   ]
  },
  {
   "cell_type": "markdown",
   "id": "97db95d0",
   "metadata": {},
   "source": [
    "* 빨강\n",
    "  * 녹색\n",
    "    * 파랑\n",
    "\n",
    "+ 빨강\n",
    "  + 녹색\n",
    "    + 파랑\n",
    "\n",
    "- 빨강\n",
    "  - 녹색\n",
    "    - 파랑"
   ]
  },
  {
   "cell_type": "markdown",
   "id": "4d4d8af3",
   "metadata": {},
   "source": [
    "혼합해서 사용하는 것도 가능하다(내가 선호하는 방식)\n",
    "```\n",
    "* 1단계\n",
    "  - 2단계\n",
    "    + 3단계\n",
    "      + 4단계\n",
    "```"
   ]
  },
  {
   "cell_type": "code",
   "execution_count": null,
   "id": "2d2cce2f",
   "metadata": {},
   "outputs": [],
   "source": []
  },
  {
   "cell_type": "markdown",
   "id": "8b9f2b4c",
   "metadata": {},
   "source": [
    "## 코드\n",
    "4개의 공백 또는 하나의 탭으로 들여쓰기를 만나면 변환되기 시작하여 들여쓰지 않은 행을 만날때까지 변환이 계속된다.\n",
    "\n",
    "### 들여쓰기\n",
    "```\n",
    "This is a normal paragraph:\n",
    "\n",
    "    This is a code block.\n",
    "    \n",
    "end code block.\n",
    "```"
   ]
  },
  {
   "cell_type": "markdown",
   "id": "2c876f2c",
   "metadata": {},
   "source": [
    "실제로 적용해보면,\n",
    "\n",
    "적용예:\n",
    "\n",
    "*****\n",
    "This is a normal paragraph:\n",
    "\n",
    "    This is a code block.\n",
    "\n",
    "end code block.\n",
    "*****"
   ]
  },
  {
   "cell_type": "markdown",
   "id": "057de4b2",
   "metadata": {},
   "source": [
    "This is a normal paragraph:\n",
    "\n",
    "    This is a code block.\n",
    "    \n",
    "end code block."
   ]
  },
  {
   "cell_type": "markdown",
   "id": "89085d5b",
   "metadata": {},
   "source": [
    "> 한줄 띄어쓰지 않으면 인식이 제대로 안되는 문제가 발생합니다.\n",
    "\n",
    "```\n",
    "This is a normal paragraph:\n",
    "    This is a code block.\n",
    "end code block.\n",
    "```\n",
    "\n",
    "적용예:\n",
    "\n",
    "*****\n",
    "This is a normal paragraph:\n",
    "    This is a code block.\n",
    "end code block.\n",
    "*****"
   ]
  },
  {
   "cell_type": "code",
   "execution_count": null,
   "id": "c59b22fe",
   "metadata": {},
   "outputs": [],
   "source": []
  },
  {
   "cell_type": "markdown",
   "id": "a802ec0d",
   "metadata": {},
   "source": [
    "### 코드블럭\n",
    "코드블럭은 다음과 같이 2가지 방식을 사용할 수 있습니다:\n",
    "\n",
    "* `<pre><code>{code}</code></pre>` 이용방식\n",
    "\n",
    "```\n",
    "<pre>\n",
    "<code>\n",
    "public class BootSpringBootApplication {\n",
    "  public static void main(String[] args) {\n",
    "    System.out.println(\"Hello, Honeymon\");\n",
    "  }\n",
    "\n",
    "}\n",
    "</code>\n",
    "</pre>\n",
    "```"
   ]
  },
  {
   "cell_type": "markdown",
   "id": "3d12f478",
   "metadata": {},
   "source": [
    "<pre>\n",
    "<code>\n",
    "public class BootSpringBootApplication {\n",
    "  public static void main(String[] args) {\n",
    "    System.out.println(\"Hello, Honeymon\");\n",
    "  }\n",
    "\n",
    "}\n",
    "</code>\n",
    "</pre>"
   ]
  },
  {
   "cell_type": "markdown",
   "id": "b2335af2",
   "metadata": {},
   "source": [
    "* 코드블럭코드(\"\\```\") 을 이용하는 방법\n",
    "\n",
    "```\n",
    "public class BootSpringBootApplication {\n",
    "  public static void main(String[] args) {\n",
    "    System.out.println(\"Hello, Honeymon\");\n",
    "  }\n",
    "}\n",
    "```\n"
   ]
  },
  {
   "cell_type": "code",
   "execution_count": null,
   "id": "03f7529e",
   "metadata": {},
   "outputs": [],
   "source": []
  },
  {
   "cell_type": "markdown",
   "id": "2b7ac88a",
   "metadata": {},
   "source": [
    "**깃헙**에서는 코드블럭코드(\"\\```\") 시작점에 사용하는 언어를 선언하여 [문법강조(Syntax highlighting)](https://docs.github.com/en/github/writing-on-github/creating-and-highlighting-code-blocks#syntax-highlighting)이 가능하다.\n",
    "```java\n",
    "public class BootSpringBootApplication {\n",
    "  public static void main(String[] args) {\n",
    "    System.out.println(\"Hello, Honeymon\");\n",
    "  }\n",
    "}\n",
    "```"
   ]
  },
  {
   "cell_type": "code",
   "execution_count": null,
   "id": "54b3b026",
   "metadata": {},
   "outputs": [],
   "source": []
  },
  {
   "cell_type": "markdown",
   "id": "383ba082",
   "metadata": {},
   "source": [
    "## 수평선\n",
    "아래 줄은 모두 수평선을 만든다. 마크다운 문서를 미리보기로 출력할 때 *페이지 나누기* 용도로 많이 사용한다.\n",
    "\n",
    "```\n",
    "* * *\n",
    "\n",
    "***\n",
    "\n",
    "*****\n",
    "\n",
    "- - -\n",
    "\n",
    "---------------------------------------\n",
    "```"
   ]
  },
  {
   "cell_type": "markdown",
   "id": "4e4eaf26",
   "metadata": {},
   "source": [
    "***"
   ]
  },
  {
   "cell_type": "markdown",
   "id": "2b68ac1a",
   "metadata": {},
   "source": [
    "## 링크\n",
    "* 참조링크\n",
    "\n",
    "```\n",
    "[link keyword][id]\n",
    "\n",
    "[id]: URL \"Optional Title here\"\n",
    "\n",
    "// code\n",
    "Link: [Google][googlelink]\n",
    "\n",
    "[googlelink]: https://google.com \"Go google\"\n",
    "```"
   ]
  },
  {
   "cell_type": "markdown",
   "id": "000db77a",
   "metadata": {},
   "source": [
    "Link: [Google][googlelink]\n",
    "\n",
    "[googlelink]: https://google.com \"Go google\""
   ]
  },
  {
   "cell_type": "markdown",
   "id": "477f50c0",
   "metadata": {},
   "source": [
    "* 외부링크\n",
    "```\n",
    "사용문법: [Title](link)\n",
    "적용예: [Google](https://google.com \"google link\") # 쉼표를 주소로 인식하는 오류 주의\n",
    "```"
   ]
  },
  {
   "cell_type": "markdown",
   "id": "59f6af17",
   "metadata": {},
   "source": [
    "[Naver](https://www.naver.com/ \"Naver link\")"
   ]
  },
  {
   "cell_type": "markdown",
   "id": "72d3745b",
   "metadata": {},
   "source": [
    "* 자동연결\n",
    "```\n",
    "일반적인 URL 혹은 이메일주소인 경우 적절한 형식으로 링크를 형성한다.\n",
    "\n",
    "* 외부링크: <http://example.com/>\n",
    "* 이메일링크: <address@example.com>\n",
    "```"
   ]
  },
  {
   "cell_type": "code",
   "execution_count": null,
   "id": "c8f9352b",
   "metadata": {},
   "outputs": [],
   "source": []
  },
  {
   "cell_type": "markdown",
   "id": "9c503991",
   "metadata": {},
   "source": [
    "## 2.7. 강조\n",
    "```\n",
    "*single asterisks*\n",
    "_single underscores_\n",
    "**double asterisks**\n",
    "__double underscores__\n",
    "~~cancelline~~\n",
    "```"
   ]
  },
  {
   "cell_type": "markdown",
   "id": "76eaa4b6",
   "metadata": {},
   "source": [
    "*테스트 문장입니다*  \n",
    "**테스트 문장입니다**  \n",
    "~~테스트 문장입니다~~"
   ]
  },
  {
   "cell_type": "markdown",
   "id": "10623985",
   "metadata": {},
   "source": [
    "> ```문장 중간에 사용할 경우에는 **띄어쓰기** 를 사용하는 것이 좋다.```   \n",
    "> 문장 중간에 사용할 경우에는 띄어쓰기를 사용하는 것이 좋다."
   ]
  },
  {
   "cell_type": "code",
   "execution_count": null,
   "id": "aeb219d6",
   "metadata": {},
   "outputs": [],
   "source": []
  },
  {
   "cell_type": "markdown",
   "id": "87ff90be",
   "metadata": {},
   "source": [
    "## 이미지\n",
    "```\n",
    "# 마크다운 안에 삽입\n",
    "![Alt text](/path/to/img.jpg)\n",
    "![Alt text](/path/to/img.jpg \"Optional title\")\n",
    "# 코드블럭에 삽입\n",
    "![image.png](attachment:image.png)\n",
    "```\n",
    "\n",
    "![석촌호수 러버덕](http://cfile6.uf.tistory.com/image/2426E646543C9B4532C7B0)\n",
    "![석촌호수 러버덕](http://cfile6.uf.tistory.com/image/2426E646543C9B4532C7B0 \"RubberDuck\")"
   ]
  },
  {
   "attachments": {
    "image.png": {
     "image/png": "[encoded data removed]"
    }
   },
   "cell_type": "markdown",
   "id": "5b5e3920",
   "metadata": {},
   "source": [
    "![강아지](https://shop.peopet.co.kr/data/goods/388/2022/06/_temp_16557127733930view.jpg)\n",
    "![image.png](attachment:image.png)"
   ]
  },
  {
   "cell_type": "markdown",
   "id": "f9d46842",
   "metadata": {},
   "source": [
    "사이즈 조절 기능은 없기 때문에 ```<img width=\"\" height=\"\"></img>```를 이용한다.\n",
    "\n",
    "예\n",
    "```\n",
    "<img src=\"/path/to/img.jpg\" width=\"450px\" height=\"300px\" title=\"px(픽셀) 크기 설정\" alt=\"RubberDuck\"></img><br/>\n",
    "<img src=\"/path/to/img.jpg\" width=\"40%\" height=\"30%\" title=\"px(픽셀) 크기 설정\" alt=\"RubberDuck\"></img>\n",
    "```\n",
    "\n",
    "<img src=\"http://cfile6.uf.tistory.com/image/2426E646543C9B4532C7B0\" width=\"450px\" height=\"300px\" title=\"px(픽셀) 크기 설정\" alt=\"RubberDuck\"></img><br/>\n",
    "<img src=\"http://cfile6.uf.tistory.com/image/2426E646543C9B4532C7B0\" width=\"40%\" height=\"30%\" title=\"%(비율) 크기 설정\" alt=\"RubberDuck\"></img>"
   ]
  },
  {
   "cell_type": "markdown",
   "id": "4c11514e",
   "metadata": {},
   "source": [
    "<img src=\"https://shop.peopet.co.kr/data/goods/388/2022/06/_temp_16557127733930view.jpg\" width=\"450px\" height=\"300px\" title=\"px(픽셀) 크기 설정\" alt=\"RubberDuck\"></img><br/>\n",
    "<img src=\"https://shop.peopet.co.kr/data/goods/388/2022/06/_temp_16557127733930view.jpg\" width=\"40%\" height=\"30%\" title=\"%(비율) 크기 설정\" alt=\"RubberDuck\"></img>"
   ]
  },
  {
   "cell_type": "markdown",
   "id": "1a929d99",
   "metadata": {},
   "source": [
    "## 줄바꿈\n",
    "```\n",
    "* 줄 바꿈을 하기 위해서는 문장 마지막에서 3칸이상을 띄어쓰기해야 한다.\n",
    "이렇게\n",
    "\n",
    "* 줄 바꿈을 하기 위해서는 문장 마지막에서 3칸이상을 띄어쓰기해야 한다.___\\\\ 띄어쓰기\n",
    "이렇게\n",
    "```"
   ]
  },
  {
   "cell_type": "markdown",
   "id": "70dec86a",
   "metadata": {},
   "source": [
    "EST   \\\\"
   ]
  },
  {
   "cell_type": "markdown",
   "id": "dd6d2afd",
   "metadata": {},
   "source": [
    "## 테이블"
   ]
  },
  {
   "cell_type": "markdown",
   "id": "016a44ca",
   "metadata": {},
   "source": [
    "### 일반적인 표\n",
    "\n",
    "문자와 — 문자로 표를 만들 수 있습니다.\n",
    "```\n",
    "|제목|내용|설명|\n",
    "|------|---|---|\n",
    "|테스트1|테스트2|테스트3|\n",
    "|테스트1|테스트2|테스트3|\n",
    "|테스트1|테스트2|테스트3|\n",
    "```"
   ]
  },
  {
   "cell_type": "markdown",
   "id": "a452fd37",
   "metadata": {},
   "source": [
    "|제목|내용|설명|\n",
    "|------|---|---|\n",
    "|테스트1|테스트2|테스트3|\n",
    "|테스트1|테스트2|테스트3|\n",
    "|테스트1|테스트2|테스트3|"
   ]
  },
  {
   "cell_type": "markdown",
   "id": "08613f3a",
   "metadata": {},
   "source": [
    "### 정렬\n",
    ": 문자로 정렬을 정의할 수 있습니다.\n",
    "```\n",
    "|제목|내용|설명|\n",
    "|:---|---:|:---:|\n",
    "|왼쪽정렬|오른쪽정렬|중앙정렬|\n",
    "|왼쪽정렬|오른쪽정렬|중앙정렬|\n",
    "|왼쪽정렬|오른쪽정렬|중앙정렬|\n",
    "```"
   ]
  },
  {
   "cell_type": "markdown",
   "id": "0cff569b",
   "metadata": {},
   "source": [
    "|제목|내용|설명|\n",
    "|:---|---:|:---:| \n",
    "|:왼쪽정렬|오른쪽정렬:|:중앙정렬:|"
   ]
  },
  {
   "cell_type": "markdown",
   "id": "2420807a",
   "metadata": {},
   "source": [
    "### 셀 확장\n",
    "사이가 비어있으면 자동 확장됩니다.\n",
    "```\n",
    "|제목|내용|설명|\n",
    "|:---|:---:|---:|\n",
    "||중앙에서확장||\n",
    "|||오른쪽에서 확장|\n",
    "|왼쪽에서확장||\n",
    "```"
   ]
  },
  {
   "cell_type": "markdown",
   "id": "ccaa7012",
   "metadata": {},
   "source": [
    "|제목|내용|설명|\n",
    "|:---|:---:|---:|\n",
    "||중앙에서확장||\n",
    "|||오른쪽에서 확장|\n",
    "|왼쪽에서확장||"
   ]
  },
  {
   "cell_type": "markdown",
   "id": "030c56ab",
   "metadata": {},
   "source": [
    "### 셀 강조\n",
    "일반적인 text와 마찬가지로 * 와 ** 를 통해 이탤릭/강조를 표시할 수 있습니다. span tag를 사용하면 컬러도 표시할 수 있습니다.\n",
    "```\n",
    "|제목|내용|설명|\n",
    "|---|---|---|\n",
    "|테스트1|*강조1*|테스트3|\n",
    "|테스트1|**강조2**|테스트3|\n",
    "|테스트1|<span style=\"color:red\">강조3</span>|테스트3|\n",
    "```"
   ]
  },
  {
   "cell_type": "markdown",
   "id": "a22c3c00",
   "metadata": {},
   "source": [
    "|제목|내용|설명|\n",
    "|---|---|---|\n",
    "|테스트1|*강조1*|테스트3|\n",
    "|테스트1|**강조2**|테스트3|\n",
    "|테스트1|<span style=\"color:red\">강조3</span>|테스트3|"
   ]
  },
  {
   "cell_type": "markdown",
   "id": "57d175b2",
   "metadata": {},
   "source": [
    "#  수학 기호 LaTex표기법\n",
    "사칙연산, 분수, 제곱, 루트, 시그마, 로그, 행렬, 극한 등 수학 기호 및 수식 등 을 표현할 수 있다.\n",
    "[블로그 참고](https://velog.io/@d2h10s/LaTex-Markdown-%EC%88%98%EC%8B%9D-%EC%9E%91%EC%84%B1%EB%B2%95)"
   ]
  },
  {
   "cell_type": "code",
   "execution_count": null,
   "id": "5c7beefd",
   "metadata": {},
   "outputs": [],
   "source": []
  }
 ],
 "metadata": {
  "kernelspec": {
   "display_name": "Python 3 (ipykernel)",
   "language": "python",
   "name": "python3"
  },
  "language_info": {
   "codemirror_mode": {
    "name": "ipython",
    "version": 3
   },
   "file_extension": ".py",
   "mimetype": "text/x-python",
   "name": "python",
   "nbconvert_exporter": "python",
   "pygments_lexer": "ipython3",
   "version": "3.11.5"
  },
  "toc": {
   "base_numbering": 1,
   "nav_menu": {},
   "number_sections": true,
   "sideBar": true,
   "skip_h1_title": false,
   "title_cell": "Table of Contents",
   "title_sidebar": "Contents",
   "toc_cell": false,
   "toc_position": {
    "height": "calc(100% - 180px)",
    "left": "10px",
    "top": "150px",
    "width": "307.2px"
   },
   "toc_section_display": true,
   "toc_window_display": false
  },
  "varInspector": {
   "cols": {
    "lenName": 16,
    "lenType": 16,
    "lenVar": 40
   },
   "kernels_config": {
    "python": {
     "delete_cmd_postfix": "",
     "delete_cmd_prefix": "del ",
     "library": "var_list.py",
     "varRefreshCmd": "print(var_dic_list())"
    },
    "r": {
     "delete_cmd_postfix": ") ",
     "delete_cmd_prefix": "rm(",
     "library": "var_list.r",
     "varRefreshCmd": "cat(var_dic_list()) "
    }
   },
   "types_to_exclude": [
    "module",
    "function",
    "builtin_function_or_method",
    "instance",
    "_Feature"
   ],
   "window_display": false
  }
 },
 "nbformat": 4,
 "nbformat_minor": 5
}
