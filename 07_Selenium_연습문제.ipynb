{
 "cells": [
  {
   "cell_type": "markdown",
   "id": "55e4f25a",
   "metadata": {},
   "source": [
    "# 웹 스크래핑 프로그램 만들어보자\n",
    " \n",
    "예제 페이지에서 여행기사를 추출한다.\n",
    "https://korean.visitkorea.or.kr/main/main.do\n",
    " \n",
    "1.검색어와 스크래핑 건수를 입력받는다.\n",
    " \n",
    "2.페이지를 이동한다.\n",
    " \n",
    "3.상세 페이지별로 여행기사 정보를 수집한다.\n",
    " \n",
    "4.이미지와 텍스트를 추출해서 파일로 저장까지\\"
   ]
  },
  {
   "cell_type": "code",
   "execution_count": 7,
   "id": "b0220d52",
   "metadata": {},
   "outputs": [],
   "source": [
    "from selenium import webdriver\n",
    "from selenium.webdriver.common.by import By\n",
    "from selenium.webdriver.chrome.options import Options\n",
    "import math, time \n",
    "\n",
    "options = Options()\n",
    "options.add_argument('--window-size=974,1047')\n",
    "options.add_argument('--window-position=953,0')\n",
    "options.add_experimental_option(\"detach\", True)"
   ]
  },
  {
   "cell_type": "code",
   "execution_count": 8,
   "id": "4a891730",
   "metadata": {},
   "outputs": [
    {
     "name": "stdout",
     "output_type": "stream",
     "text": [
      "검색어를 입력하세요.서울\n"
     ]
    }
   ],
   "source": [
    "search = input('검색어를 입력하세요.') \n",
    "input_cnt = int(input('크롤링 할 건수는 몇건입니까?: '))"
   ]
  },
  {
   "cell_type": "code",
   "execution_count": 9,
   "id": "3a831b1d",
   "metadata": {},
   "outputs": [],
   "source": [
    "URL = 'https://korean.visitkorea.or.kr/search/search_list.do?keyword='+search\n",
    "\n",
    "driver = webdriver.Chrome(options=options)\n",
    "driver.get(URL)\n",
    "time.sleep(3)"
   ]
  },
  {
   "cell_type": "code",
   "execution_count": 10,
   "id": "7ffad2bd",
   "metadata": {},
   "outputs": [],
   "source": [
    "# 여행기사 더보기 클릭\n",
    "driver.find_element(By.CSS_SELECTOR, \"#s_recommend>.more_view\").click()"
   ]
  },
  {
   "cell_type": "code",
   "execution_count": null,
   "id": "f82d5309",
   "metadata": {},
   "outputs": [],
   "source": [
    "title_list=[] \n",
    "contents_list=[] \n",
    " \n",
    "result = driver.find_element(By.XPATH, '//*[@id=\"search_result\"]/ul/li[*]/div[1]/div[1]/a')"
   ]
  },
  {
   "cell_type": "code",
   "execution_count": 17,
   "id": "696dddac",
   "metadata": {},
   "outputs": [
    {
     "name": "stdout",
     "output_type": "stream",
     "text": [
      "크롤링 할 건수는 몇건입니까?: 15\n",
      "========= 1 페이지 작업 =========\n",
      "1 당신을 위로해 줄 한잔, 서울 수제맥줏집\n",
      "2 그리고 그것들은 행복하게 다시 쓰였습니다, 세운상가와 서울새활용플라자\n",
      "3 서울 수제버거 맛집 5선\n",
      "4 한 곳에서 끝내자! 서울 복합문화공간 4\n",
      "5 서울 지하철 타고 도심 속으로 일출 여행 간다\n",
      "6 인생사진 찍기 좋은 서울&경기 가을꽃 컬렉션\n",
      "7 맥주 덕후가 사랑한 서울 수제맥주 브루펍 3\n",
      "8 브라보 마이 잉여 라이프! 집순이도 반할 서울 잉여력 상승 스팟 5\n",
      "9 혼자만의 시간,여유롭게 즐기는 서울의 작은 책방 3\n",
      "10 관광정보 웹툰 「조선손님유람기」28화 서울밤도깨비야시장 편\n"
     ]
    },
    {
     "ename": "ElementClickInterceptedException",
     "evalue": "Message: element click intercepted: Element <a class=\"on\" title=\"선택됨\" href=\"javascript:\" id=\"...\">2</a> is not clickable at point (421, 14). Other element would receive the click: <svg id=\"pathicon1\" version=\"1.1\" xmlns=\"http://www.w3.org/2000/svg\" xmlns:xlink=\"http://www.w3.org/1999/xlink\" x=\"0px\" y=\"0px\" width=\"510px\" height=\"86px\" viewBox=\"0 0 510 86\" style=\"enable-background:new 0 0 510 86;\" xml:space=\"preserve\">...</svg>\n  (Session info: chrome=120.0.6099.71)\nStacktrace:\n\tGetHandleVerifier [0x00007FF6A2244D02+56194]\n\t(No symbol) [0x00007FF6A21B04B2]\n\t(No symbol) [0x00007FF6A20576AA]\n\t(No symbol) [0x00007FF6A20A8763]\n\t(No symbol) [0x00007FF6A20A675D]\n\t(No symbol) [0x00007FF6A20A3F5C]\n\t(No symbol) [0x00007FF6A20A2D15]\n\t(No symbol) [0x00007FF6A209687F]\n\t(No symbol) [0x00007FF6A20C5E7A]\n\t(No symbol) [0x00007FF6A2096226]\n\t(No symbol) [0x00007FF6A20C6320]\n\t(No symbol) [0x00007FF6A20E2786]\n\t(No symbol) [0x00007FF6A20C5C23]\n\t(No symbol) [0x00007FF6A2094A45]\n\t(No symbol) [0x00007FF6A2095AD4]\n\tGetHandleVerifier [0x00007FF6A25BD5BB+3695675]\n\tGetHandleVerifier [0x00007FF6A2616197+4059159]\n\tGetHandleVerifier [0x00007FF6A260DF63+4025827]\n\tGetHandleVerifier [0x00007FF6A22DF029+687785]\n\t(No symbol) [0x00007FF6A21BB508]\n\t(No symbol) [0x00007FF6A21B7564]\n\t(No symbol) [0x00007FF6A21B76E9]\n\t(No symbol) [0x00007FF6A21A8094]\n\tBaseThreadInitThunk [0x00007FF9ACAB7C24+20]\n\tRtlUserThreadStart [0x00007FF9AE92D721+33]\n",
     "output_type": "error",
     "traceback": [
      "\u001b[1;31m---------------------------\u001b[0m",
      "\u001b[1;31mElementClickInterceptedException\u001b[0mTraceback (most recent call last)",
      "Cell \u001b[1;32mIn[17], line 21\u001b[0m\n\u001b[0;32m     19\u001b[0m     \u001b[38;5;28;01mif\u001b[39;00m no \u001b[38;5;241m<\u001b[39m\u001b[38;5;241m=\u001b[39m cnt:\n\u001b[0;32m     20\u001b[0m         a \u001b[38;5;241m=\u001b[39m \u001b[38;5;124mf\u001b[39m\u001b[38;5;124m'\u001b[39m\u001b[38;5;124m/html/body/div[3]/div/div[1]/div[15]/a[\u001b[39m\u001b[38;5;132;01m{\u001b[39;00mx\u001b[38;5;241m+\u001b[39m\u001b[38;5;241m1\u001b[39m\u001b[38;5;132;01m}\u001b[39;00m\u001b[38;5;124m]\u001b[39m\u001b[38;5;124m'\u001b[39m\n\u001b[1;32m---> 21\u001b[0m         driver\u001b[38;5;241m.\u001b[39mfind_element(By\u001b[38;5;241m.\u001b[39mXPATH, a)\u001b[38;5;241m.\u001b[39mclick()\n\u001b[0;32m     22\u001b[0m         time\u001b[38;5;241m.\u001b[39msleep(\u001b[38;5;241m2\u001b[39m)\n\u001b[0;32m     24\u001b[0m \u001b[38;5;28mprint\u001b[39m(\u001b[38;5;124m'\u001b[39m\u001b[38;5;124m========= 작업 완료 =========\u001b[39m\u001b[38;5;124m'\u001b[39m)\n",
      "File \u001b[1;32m~\\anaconda3\\Lib\\site-packages\\selenium\\webdriver\\remote\\webelement.py:94\u001b[0m, in \u001b[0;36mWebElement.click\u001b[1;34m(self)\u001b[0m\n\u001b[0;32m     92\u001b[0m \u001b[38;5;28;01mdef\u001b[39;00m \u001b[38;5;21mclick\u001b[39m(\u001b[38;5;28mself\u001b[39m) \u001b[38;5;241m-\u001b[39m\u001b[38;5;241m>\u001b[39m \u001b[38;5;28;01mNone\u001b[39;00m:\n\u001b[0;32m     93\u001b[0m \u001b[38;5;250m    \u001b[39m\u001b[38;5;124;03m\"\"\"Clicks the element.\"\"\"\u001b[39;00m\n\u001b[1;32m---> 94\u001b[0m     \u001b[38;5;28mself\u001b[39m\u001b[38;5;241m.\u001b[39m_execute(Command\u001b[38;5;241m.\u001b[39mCLICK_ELEMENT)\n",
      "File \u001b[1;32m~\\anaconda3\\Lib\\site-packages\\selenium\\webdriver\\remote\\webelement.py:395\u001b[0m, in \u001b[0;36mWebElement._execute\u001b[1;34m(self, command, params)\u001b[0m\n\u001b[0;32m    393\u001b[0m     params \u001b[38;5;241m=\u001b[39m {}\n\u001b[0;32m    394\u001b[0m params[\u001b[38;5;124m\"\u001b[39m\u001b[38;5;124mid\u001b[39m\u001b[38;5;124m\"\u001b[39m] \u001b[38;5;241m=\u001b[39m \u001b[38;5;28mself\u001b[39m\u001b[38;5;241m.\u001b[39m_id\n\u001b[1;32m--> 395\u001b[0m \u001b[38;5;28;01mreturn\u001b[39;00m \u001b[38;5;28mself\u001b[39m\u001b[38;5;241m.\u001b[39m_parent\u001b[38;5;241m.\u001b[39mexecute(command, params)\n",
      "File \u001b[1;32m~\\anaconda3\\Lib\\site-packages\\selenium\\webdriver\\remote\\webdriver.py:348\u001b[0m, in \u001b[0;36mWebDriver.execute\u001b[1;34m(self, driver_command, params)\u001b[0m\n\u001b[0;32m    346\u001b[0m response \u001b[38;5;241m=\u001b[39m \u001b[38;5;28mself\u001b[39m\u001b[38;5;241m.\u001b[39mcommand_executor\u001b[38;5;241m.\u001b[39mexecute(driver_command, params)\n\u001b[0;32m    347\u001b[0m \u001b[38;5;28;01mif\u001b[39;00m response:\n\u001b[1;32m--> 348\u001b[0m     \u001b[38;5;28mself\u001b[39m\u001b[38;5;241m.\u001b[39merror_handler\u001b[38;5;241m.\u001b[39mcheck_response(response)\n\u001b[0;32m    349\u001b[0m     response[\u001b[38;5;124m\"\u001b[39m\u001b[38;5;124mvalue\u001b[39m\u001b[38;5;124m\"\u001b[39m] \u001b[38;5;241m=\u001b[39m \u001b[38;5;28mself\u001b[39m\u001b[38;5;241m.\u001b[39m_unwrap_value(response\u001b[38;5;241m.\u001b[39mget(\u001b[38;5;124m\"\u001b[39m\u001b[38;5;124mvalue\u001b[39m\u001b[38;5;124m\"\u001b[39m, \u001b[38;5;28;01mNone\u001b[39;00m))\n\u001b[0;32m    350\u001b[0m     \u001b[38;5;28;01mreturn\u001b[39;00m response\n",
      "File \u001b[1;32m~\\anaconda3\\Lib\\site-packages\\selenium\\webdriver\\remote\\errorhandler.py:229\u001b[0m, in \u001b[0;36mErrorHandler.check_response\u001b[1;34m(self, response)\u001b[0m\n\u001b[0;32m    227\u001b[0m         alert_text \u001b[38;5;241m=\u001b[39m value[\u001b[38;5;124m\"\u001b[39m\u001b[38;5;124malert\u001b[39m\u001b[38;5;124m\"\u001b[39m]\u001b[38;5;241m.\u001b[39mget(\u001b[38;5;124m\"\u001b[39m\u001b[38;5;124mtext\u001b[39m\u001b[38;5;124m\"\u001b[39m)\n\u001b[0;32m    228\u001b[0m     \u001b[38;5;28;01mraise\u001b[39;00m exception_class(message, screen, stacktrace, alert_text)  \u001b[38;5;66;03m# type: ignore[call-arg]  # mypy is not smart enough here\u001b[39;00m\n\u001b[1;32m--> 229\u001b[0m \u001b[38;5;28;01mraise\u001b[39;00m exception_class(message, screen, stacktrace)\n",
      "\u001b[1;31mElementClickInterceptedException\u001b[0m: Message: element click intercepted: Element <a class=\"on\" title=\"선택됨\" href=\"javascript:\" id=\"...\">2</a> is not clickable at point (421, 14). Other element would receive the click: <svg id=\"pathicon1\" version=\"1.1\" xmlns=\"http://www.w3.org/2000/svg\" xmlns:xlink=\"http://www.w3.org/1999/xlink\" x=\"0px\" y=\"0px\" width=\"510px\" height=\"86px\" viewBox=\"0 0 510 86\" style=\"enable-background:new 0 0 510 86;\" xml:space=\"preserve\">...</svg>\n  (Session info: chrome=120.0.6099.71)\nStacktrace:\n\tGetHandleVerifier [0x00007FF6A2244D02+56194]\n\t(No symbol) [0x00007FF6A21B04B2]\n\t(No symbol) [0x00007FF6A20576AA]\n\t(No symbol) [0x00007FF6A20A8763]\n\t(No symbol) [0x00007FF6A20A675D]\n\t(No symbol) [0x00007FF6A20A3F5C]\n\t(No symbol) [0x00007FF6A20A2D15]\n\t(No symbol) [0x00007FF6A209687F]\n\t(No symbol) [0x00007FF6A20C5E7A]\n\t(No symbol) [0x00007FF6A2096226]\n\t(No symbol) [0x00007FF6A20C6320]\n\t(No symbol) [0x00007FF6A20E2786]\n\t(No symbol) [0x00007FF6A20C5C23]\n\t(No symbol) [0x00007FF6A2094A45]\n\t(No symbol) [0x00007FF6A2095AD4]\n\tGetHandleVerifier [0x00007FF6A25BD5BB+3695675]\n\tGetHandleVerifier [0x00007FF6A2616197+4059159]\n\tGetHandleVerifier [0x00007FF6A260DF63+4025827]\n\tGetHandleVerifier [0x00007FF6A22DF029+687785]\n\t(No symbol) [0x00007FF6A21BB508]\n\t(No symbol) [0x00007FF6A21B7564]\n\t(No symbol) [0x00007FF6A21B76E9]\n\t(No symbol) [0x00007FF6A21A8094]\n\tBaseThreadInitThunk [0x00007FF9ACAB7C24+20]\n\tRtlUserThreadStart [0x00007FF9AE92D721+33]\n"
     ]
    }
   ],
   "source": [
    "import math\n",
    "\n",
    "\n",
    "page_cnt = math.ceil(input_cnt / 10)\n",
    "\n",
    "#driver.maximize_window()\n",
    "#driver.execute_script(\"window.scrollTo(0, document.body.scrollHeight);\")\n",
    "\n",
    "# 페이지의 버튼이 1~5까지 7개, 6 이상부터 9개 ex) 1 2 3 4 5 > >>, << < 6 5 7 8 9 10 > >>\n",
    "# 6페이지부터는 4번째 버튼부터 순차적으로 눌러야 제대로 가져올 수 있음\n",
    "for i in range(1, page_cnt + 1):\n",
    "    print('='*10,f'{i} 페이지','='*10)\n",
    "\n",
    "    if i == (page_cnt): # i가 마지막 페이지에 도달했을 경우 끝내기\n",
    "        a = driver.find_elements(By.XPATH, '//*[@id=\"search_result\"]/ul/li[*]/div[1]/div[1]/a')\n",
    "        i_2 = input_cnt % 10 # input값의 나머지 ex) 136 -> 6\n",
    "        for x in range(i_2): # 마지막 페이지에서는 끝자리수만큼만 가져오기\n",
    "            print(a[x].text)\n",
    "        break\n",
    "\n",
    "    elif i < 6: # i가 1 ~ 5페이지일경우 기존코드 입력\n",
    "        a = driver.find_elements(By.XPATH, '//*[@id=\"search_result\"]/ul/li[*]/div[1]/div[1]/a')\n",
    "        \n",
    "        for x in range(10):\n",
    "            print(a[x].text)\n",
    "\n",
    "        driver.find_element(By.XPATH, f'/html/body/div[3]/div/div[1]/div[15]/a[{i+1}]').click()\n",
    "        time.sleep(2)\n",
    "\n",
    "    elif i > 5: # i가 6페이지를 넘어갔을경우 4번째버튼부터 click하는 함수로 수정\n",
    "        i_2 = i % 10 # i 의 페이지 숫자범위 조절 ex) 14 -> 4\n",
    "        if i_2 > 5 or i_2 == 0 :\n",
    "            \n",
    "            if i_2 == 0:\n",
    "                i_2 = 10\n",
    "\n",
    "            i_2 = i_2 - 5\n",
    "\n",
    "            a = driver.find_elements(By.XPATH, '//*[@id=\"search_result\"]/ul/li[*]/div[1]/div[1]/a')\n",
    "            \n",
    "            for x in range(10):\n",
    "                print(a[x].text)\n",
    "\n",
    "            driver.find_element(By.XPATH, f'/html/body/div[3]/div/div[1]/div[15]/a[{i_2+3}]').click()\n",
    "            time.sleep(2)\n",
    "\n",
    "        elif i_2 < 5 and i_2 != 0:\n",
    "\n",
    "            a = driver.find_elements(By.XPATH, '//*[@id=\"search_result\"]/ul/li[*]/div[1]/div[1]/a')\n",
    "\n",
    "            for x in range(10):\n",
    "                print(a[x].text)\n",
    "\n",
    "            driver.find_element(By.XPATH, f'/html/body/div[3]/div/div[1]/div[15]/a[{i_2+3}]').click()\n",
    "            time.sleep(3) \n",
    "             \n",
    "            \n",
    "print('========= 작업 완료 =========')\n",
    "driver.close()"
   ]
  },
  {
   "cell_type": "code",
   "execution_count": null,
   "id": "abfcddc7",
   "metadata": {},
   "outputs": [],
   "source": []
  }
 ],
 "metadata": {
  "kernelspec": {
   "display_name": "Python 3 (ipykernel)",
   "language": "python",
   "name": "python3"
  },
  "language_info": {
   "codemirror_mode": {
    "name": "ipython",
    "version": 3
   },
   "file_extension": ".py",
   "mimetype": "text/x-python",
   "name": "python",
   "nbconvert_exporter": "python",
   "pygments_lexer": "ipython3",
   "version": "3.11.5"
  }
 },
 "nbformat": 4,
 "nbformat_minor": 5
}
