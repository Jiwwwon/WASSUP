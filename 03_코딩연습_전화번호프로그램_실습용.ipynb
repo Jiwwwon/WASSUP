{
 "cells": [
  {
   "cell_type": "markdown",
   "metadata": {
    "id": "--4OkJRjoPgo"
   },
   "source": [
    "# 전화번호 프로그램 만들기\n",
    "\n",
    "* 홍길동 010-123-4567\n",
    "* 기능1 : 연락처 추가\n",
    "* 기능2 : 연락처 전체 보기\n",
    "* 기능3 : 검색, 이름을 입력받아서 전화번호 조회\n",
    "* 기능4 : 수정, 이름을 입력받아서 전화번호 입력수정\n",
    "* 기능5 : 삭제, 이름 입력받아서 삭제\n",
    "* 기능6 : 프로그램 종료"
   ]
  },
  {
   "cell_type": "code",
   "execution_count": null,
   "metadata": {},
   "outputs": [],
   "source": [
    "#요구사항 분석 및 설계 \n",
    "- 요구사항 분석 ->구체적인 동작 정의 \n",
    "- 홍길동 010-123-4567 ->딕셔너리 키:밸류 \n",
    "- input을 받아야함 \n",
    "- 프로그램 : while \n",
    "- 기능 :1,2,3,4,5 ->if /숫자 입력시, 해당 기능 수행\n",
    "- 기능1 연락처 추가 : 디셔너리 추가 -> dict[key]=value \n",
    "- 기능2 전화번호 전체 보기: for문 출력\n",
    "- 기능3 조회 : 이름 입력시 전화번호 출력 dict[key] \n",
    "- 기능4 수정 : dict[key]=value 수정가능한 리터러블한 객체 \n",
    "- 기능5 del \n",
    "- 기능6 break \n",
    "+ 예외처리"
   ]
  },
  {
   "cell_type": "code",
   "execution_count": null,
   "metadata": {},
   "outputs": [],
   "source": [
    " 연락처 = [홍길동,'010-123-4567']\n",
    "    연락처 = input()"
   ]
  },
  {
   "cell_type": "code",
   "execution_count": 2,
   "metadata": {},
   "outputs": [
    {
     "ename": "SyntaxError",
     "evalue": "invalid syntax (290471682.py, line 44)",
     "output_type": "error",
     "traceback": [
      "\u001b[1;36m  Cell \u001b[1;32mIn[2], line 44\u001b[1;36m\u001b[0m\n\u001b[1;33m    else :\u001b[0m\n\u001b[1;37m    ^\u001b[0m\n\u001b[1;31mSyntaxError\u001b[0m\u001b[1;31m:\u001b[0m invalid syntax\n"
     ]
    }
   ],
   "source": [
    "contact={} \n",
    "while True:\n",
    "    print('---------------전화번호부 프로그램 실행---------------') \n",
    "    print('1. 추가     2.보기     3.검색     4.수정     5.삭제     5.종료')  \n",
    "     \n",
    "    try: \n",
    "    menu=int(input('메뉴 선택: ')) #input은 기본 문자열\n",
    "     \n",
    "    if menu ==1:  \n",
    "        print('연락처 추가') \n",
    "        new_name=input('이름: ') \n",
    "        new_tel=input('전화번호: ') \n",
    "        contact.setdefault(new_name,new_tel)    \n",
    "        \n",
    "    elif menu ==2:  \n",
    "        print('연락처 보기')  \n",
    "        for name,tel in contact.items(): \n",
    "            print(name,\",\",tel) \n",
    "            \n",
    "    elif menu ==3:  \n",
    "        print('연락처 검색')  \n",
    "        search_name=input('검색 이름: ')  \n",
    "        print(contact.get(search_name,'없는 연락처입니다.')) #인덱스 사용시, 인덱스 없으면 오류발생\n",
    "            \n",
    "    elif menu ==4:  \n",
    "        print('연락처 수정') \n",
    "        mod_name=input('수정 이름: ') \n",
    "        if mod_name in contact: \n",
    "            mod_tel= input('새 전화번호 입력: ' ) \n",
    "            contact[mod_name]=mod_tel\n",
    "        else :\n",
    "            print(\"존재하지 않는 이름입니다.\") \n",
    "            \n",
    "    elif menu ==5:  \n",
    "        print('연락처 삭제')  \n",
    "        del_name =input('삭제 이름: ') \n",
    "        if del_name in contact: \n",
    "            del contact[del_name] \n",
    "        else :\n",
    "            print(\"존재하지 않는 이름입니다.\") \n",
    "            \n",
    "    elif menu ==6:  \n",
    "        print('연락처 종료')\n",
    "    break \n",
    "    else :  \n",
    "        print('잘못된 메뉴 선택')  \n",
    "        \n",
    "except: "
   ]
  }
 ],
 "metadata": {
  "colab": {
   "provenance": []
  },
  "kernelspec": {
   "display_name": "Python 3 (ipykernel)",
   "language": "python",
   "name": "python3"
  },
  "language_info": {
   "codemirror_mode": {
    "name": "ipython",
    "version": 3
   },
   "file_extension": ".py",
   "mimetype": "text/x-python",
   "name": "python",
   "nbconvert_exporter": "python",
   "pygments_lexer": "ipython3",
   "version": "3.11.5"
  },
  "toc": {
   "base_numbering": 1,
   "nav_menu": {},
   "number_sections": true,
   "sideBar": true,
   "skip_h1_title": false,
   "title_cell": "Table of Contents",
   "title_sidebar": "Contents",
   "toc_cell": false,
   "toc_position": {},
   "toc_section_display": true,
   "toc_window_display": false
  },
  "varInspector": {
   "cols": {
    "lenName": 16,
    "lenType": 16,
    "lenVar": 40
   },
   "kernels_config": {
    "python": {
     "delete_cmd_postfix": "",
     "delete_cmd_prefix": "del ",
     "library": "var_list.py",
     "varRefreshCmd": "print(var_dic_list())"
    },
    "r": {
     "delete_cmd_postfix": ") ",
     "delete_cmd_prefix": "rm(",
     "library": "var_list.r",
     "varRefreshCmd": "cat(var_dic_list()) "
    }
   },
   "types_to_exclude": [
    "module",
    "function",
    "builtin_function_or_method",
    "instance",
    "_Feature"
   ],
   "window_display": false
  }
 },
 "nbformat": 4,
 "nbformat_minor": 1
}
