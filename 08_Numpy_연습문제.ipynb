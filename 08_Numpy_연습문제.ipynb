{
 "cells": [
  {
   "cell_type": "markdown",
   "id": "6f17d151",
   "metadata": {},
   "source": [
    "### Quiz"
   ]
  },
  {
   "cell_type": "code",
   "execution_count": 1,
   "id": "57a5c6c5-660c-4f82-99a1-a578a300f8cd",
   "metadata": {},
   "outputs": [
    {
     "data": {
      "text/plain": [
       "'1.24.3'"
      ]
     },
     "execution_count": 1,
     "metadata": {},
     "output_type": "execute_result"
    }
   ],
   "source": [
    "import numpy as np\n",
    "np.__version__"
   ]
  },
  {
   "cell_type": "markdown",
   "id": "822f98fc",
   "metadata": {},
   "source": [
    "#### Q1. 다음과 같은 리스트를 이용하여 넘파이 배열을 만들고\n",
    "전체 갯수, 차원, 데이터형, 구조를 출력하여라\n",
    "```\n",
    "\n",
    "['강아지', '원숭이', '꽃', '45', '100']\n",
    "\n",
    "array(['강아지', '원숭이', '꽃', '45', '100'], dtype='<U3')\n",
    "차원 ? 1\n",
    "전체 갯수 ? 5\n",
    "데이터형 ? <U3\n",
    "전체 구조  ? (5,)\n",
    "```"
   ]
  },
  {
   "cell_type": "code",
   "execution_count": 12,
   "id": "f5e4029e",
   "metadata": {},
   "outputs": [],
   "source": [
    "array = (['강아지', '원숭이', '꽃', '45', '100'])"
   ]
  },
  {
   "cell_type": "code",
   "execution_count": 13,
   "id": "2d9d231f",
   "metadata": {},
   "outputs": [],
   "source": [
    "myArr = np.array(array)"
   ]
  },
  {
   "cell_type": "code",
   "execution_count": 15,
   "id": "2658fb9d",
   "metadata": {},
   "outputs": [
    {
     "name": "stdout",
     "output_type": "stream",
     "text": [
      "차원=1, 전체 갯수=5, 데이터형=<class 'tuple'>, 전체 구조=(5,) \n"
     ]
    }
   ],
   "source": [
    "print(f'차원={myArr.ndim}, 전체 갯수={myArr.size}, 데이터형={type(myArr.shape)}, 전체 구조={myArr.shape} ')"
   ]
  },
  {
   "cell_type": "markdown",
   "id": "e1cef698",
   "metadata": {},
   "source": [
    "#### Q2. np.ones()를 이용하여\n",
    "2행 3열의 넘파이 배열을 생성하여라\n",
    "\n",
    "array([[1., 1., 1.],\n",
    "       [1., 1., 1.]])"
   ]
  },
  {
   "cell_type": "code",
   "execution_count": 17,
   "id": "fc428147-8468-487e-96e3-21141f9dfe88",
   "metadata": {},
   "outputs": [
    {
     "name": "stdout",
     "output_type": "stream",
     "text": [
      "[[1. 1. 1.]\n",
      " [1. 1. 1.]] float64\n"
     ]
    }
   ],
   "source": [
    "print(np.ones((2,3)), np.ones((2,3)).dtype)"
   ]
  },
  {
   "cell_type": "markdown",
   "id": "42c9b79e",
   "metadata": {},
   "source": [
    "#### Q3. np.arange(), np.reshape()를 이용하여\n",
    "다음과 같은 넘파이 배열을 생성하여라\n",
    "```\n",
    "array([[51, 52, 53, 54, 55],\n",
    "       [56, 57, 58, 59, 60],\n",
    "       [61, 62, 63, 64, 65],\n",
    "       [66, 67, 68, 69, 70],\n",
    "       [71, 72, 73, 74, 75],\n",
    "       [76, 77, 78, 79, 80]])\n",
    "```"
   ]
  },
  {
   "cell_type": "code",
   "execution_count": 18,
   "id": "f36d1318-abab-4e6a-8ba3-87e71b36d100",
   "metadata": {},
   "outputs": [
    {
     "name": "stdout",
     "output_type": "stream",
     "text": [
      "[[51 52 53 54 55]\n",
      " [56 57 58 59 60]\n",
      " [61 62 63 64 65]\n",
      " [66 67 68 69 70]\n",
      " [71 72 73 74 75]\n",
      " [76 77 78 79 80]]\n"
     ]
    }
   ],
   "source": [
    "print(np.arange(51,81).reshape(6,5))"
   ]
  },
  {
   "cell_type": "markdown",
   "id": "6b0dd4b5",
   "metadata": {},
   "source": [
    "#### Q4. Q3의 넘파이 배열의 자료형을\n",
    "float로 변경하고 데이터형을 출력하여라\n",
    "```\n",
    "array([[51., 52., 53., 54., 55.],\n",
    "       [56., 57., 58., 59., 60.],\n",
    "       [61., 62., 63., 64., 65.],\n",
    "       [66., 67., 68., 69., 70.],\n",
    "       [71., 72., 73., 74., 75.],\n",
    "       [76., 77., 78., 79., 80.]])\n",
    "```\n",
    "-------------------------------------  \n",
    "\n",
    "dtype('float64')"
   ]
  },
  {
   "cell_type": "code",
   "execution_count": 19,
   "id": "200dc541-ca25-4797-a0e8-cec3aae25b4c",
   "metadata": {},
   "outputs": [
    {
     "data": {
      "text/plain": [
       "(array([[51., 52., 53., 54., 55.],\n",
       "        [56., 57., 58., 59., 60.],\n",
       "        [61., 62., 63., 64., 65.],\n",
       "        [66., 67., 68., 69., 70.],\n",
       "        [71., 72., 73., 74., 75.],\n",
       "        [76., 77., 78., 79., 80.]]),\n",
       " dtype('float64'))"
      ]
     },
     "execution_count": 19,
     "metadata": {},
     "output_type": "execute_result"
    }
   ],
   "source": [
    "matrix = np.arange(51, 81, dtype=float).reshape(6,5)\n",
    "matrix, matrix.dtype"
   ]
  },
  {
   "cell_type": "markdown",
   "id": "906cf1f4",
   "metadata": {},
   "source": [
    "#### Q5. 다음과 같이 넘파이 배열을 생성한 후 1차원 배열로 변경하고 슬라이싱하여라 \n",
    "\n",
    "```\n",
    "array([[ 1,  4,  5,  6],\n",
    "       [56, 23, 45, 67],\n",
    "       [ 8,  4,  6, 10]])\n",
    "       \n",
    "array([ 1,  4,  5,  6, 56, 23, 45, 67,  8,  4,  6, 10])\n",
    "\n",
    "\n",
    "array([23, 45, 67,  8,  4,  6])\n",
    "```       "
   ]
  },
  {
   "cell_type": "code",
   "execution_count": 31,
   "id": "72ce6295",
   "metadata": {},
   "outputs": [
    {
     "data": {
      "text/plain": [
       "array([[ 1,  4,  5,  6],\n",
       "       [56, 23, 45, 67],\n",
       "       [ 8,  4,  6, 10]])"
      ]
     },
     "execution_count": 31,
     "metadata": {},
     "output_type": "execute_result"
    }
   ],
   "source": [
    "arr1= np.array([[ 1,  4,  5,  6],[56, 23, 45, 67],[ 8,  4,  6, 10]])\n",
    "arr1"
   ]
  },
  {
   "cell_type": "code",
   "execution_count": 33,
   "id": "90724111-e79d-4da8-a30f-bfa15e788f7e",
   "metadata": {},
   "outputs": [
    {
     "data": {
      "text/plain": [
       "array([ 1,  4,  5,  6, 56, 23, 45, 67,  8,  4,  6, 10])"
      ]
     },
     "execution_count": 33,
     "metadata": {},
     "output_type": "execute_result"
    }
   ],
   "source": [
    "arr2=arr1.flatten() \n",
    "arr2"
   ]
  },
  {
   "cell_type": "code",
   "execution_count": 35,
   "id": "ca7b1825",
   "metadata": {},
   "outputs": [
    {
     "data": {
      "text/plain": [
       "array([23, 45, 67,  8,  4,  6])"
      ]
     },
     "execution_count": 35,
     "metadata": {},
     "output_type": "execute_result"
    }
   ],
   "source": [
    "arr2[5:-1]"
   ]
  },
  {
   "cell_type": "markdown",
   "id": "46e67feb",
   "metadata": {},
   "source": [
    "#### Q6. 다음과 같은 넘파이 배열을 생성한 후 아이템을 교체하여라 \n",
    "\n",
    "```\n",
    "array([ 1,  2,  3,  4,  5,  6,  7,  8,  9, 10])\n",
    "\n",
    "array([10,  2,  3,  4,  5,  6,  7,  0,  0,  0])\n",
    "\n",
    "```"
   ]
  },
  {
   "cell_type": "code",
   "execution_count": 37,
   "id": "c7cd6fbe-380b-4e29-98f8-902b110a7207",
   "metadata": {},
   "outputs": [
    {
     "data": {
      "text/plain": [
       "array([ 1,  2,  3,  4,  5,  6,  7,  8,  9, 10])"
      ]
     },
     "execution_count": 37,
     "metadata": {},
     "output_type": "execute_result"
    }
   ],
   "source": [
    "m1 = np.arange(1,11) \n",
    "m1"
   ]
  },
  {
   "cell_type": "code",
   "execution_count": 45,
   "id": "51bcac1d",
   "metadata": {},
   "outputs": [
    {
     "data": {
      "text/plain": [
       "array([10,  2,  3,  4,  5,  6,  7,  0,  0,  0])"
      ]
     },
     "execution_count": 45,
     "metadata": {},
     "output_type": "execute_result"
    }
   ],
   "source": [
    "m1[0]=10  \n",
    "m1"
   ]
  },
  {
   "cell_type": "code",
   "execution_count": 43,
   "id": "5c690839",
   "metadata": {},
   "outputs": [
    {
     "data": {
      "text/plain": [
       "array([1, 2, 3, 4, 5, 6, 7, 0, 0, 0])"
      ]
     },
     "execution_count": 43,
     "metadata": {},
     "output_type": "execute_result"
    }
   ],
   "source": [
    "m1[7:]=0 \n",
    "m1 "
   ]
  },
  {
   "cell_type": "markdown",
   "id": "cf265b90",
   "metadata": {},
   "source": [
    "#### Q7. 2자리의 숫자로 구성된 넘파이 배열(5행5열)을 만들어라. 숫자는 난수를 이용한다. \n",
    "\n",
    "```\n",
    "[[63 85 71 67 15]\n",
    " [31 81 69 17 97]\n",
    " [25 41 33 23 39]\n",
    " [39 43 59 33 43]\n",
    " [23 51 65 91 23]]\n",
    "\n",
    "```"
   ]
  },
  {
   "cell_type": "code",
   "execution_count": 46,
   "id": "0520d5ad-2e3a-4aca-acc5-3f08a08845aa",
   "metadata": {},
   "outputs": [
    {
     "data": {
      "text/plain": [
       "array([[76, 65, 28, 95, 68],\n",
       "       [40, 14, 35, 93, 22],\n",
       "       [32, 68, 19, 50, 25],\n",
       "       [78, 73, 48, 56, 46],\n",
       "       [32, 45, 15, 41, 45]])"
      ]
     },
     "execution_count": 46,
     "metadata": {},
     "output_type": "execute_result"
    }
   ],
   "source": [
    "np.random.randint(10,99,25).reshape(5,5) \n",
    "np.random.randint(10,99,(5,5))"
   ]
  },
  {
   "cell_type": "markdown",
   "id": "5c5ccecf",
   "metadata": {},
   "source": [
    "#### Q8. 1~100 사이의 정수중 7개의 숫자를 무작위로 추출한 후 가장 큰값과 가장 작은 값을 출력하여라.\n",
    "[91, 65, 14, 66, 65, 98, 34]\n",
    "\n",
    "max = 98\n",
    "min = 14"
   ]
  },
  {
   "cell_type": "code",
   "execution_count": 50,
   "id": "54209548-9daf-4b72-aec9-c6c8c60c7c13",
   "metadata": {},
   "outputs": [
    {
     "data": {
      "text/plain": [
       "(array([55, 41, 59, 85, 93, 35, 41]), 93, 35)"
      ]
     },
     "execution_count": 50,
     "metadata": {},
     "output_type": "execute_result"
    }
   ],
   "source": [
    "num=np.random.randint(1,100,7) \n",
    "num, max(num), min(num)"
   ]
  },
  {
   "cell_type": "markdown",
   "id": "24dcaa28",
   "metadata": {},
   "source": [
    "#### Q9. 다음과 같은 3개의 넘파이 배열을 생성한 후 다음과 같이 합쳐라\n",
    "```\n",
    "[[1, 2, 3],\n",
    " [4, 5, 6],\n",
    " [7, 8, 9]]\n",
    "\n",
    "\n",
    "[[11, 12, 13],\n",
    " [14, 15, 16],\n",
    " [17, 18, 19]]\n",
    "\n",
    "\n",
    "[[21, 22, 23],\n",
    " [24, 25, 26],\n",
    " [27, 28, 29]]\n",
    "```\n",
    " ----------\n",
    "  Result1 \n",
    "```\n",
    " [[ 1,  2,  3, 11, 12, 13, 21, 22, 23],\n",
    "  [ 4,  5,  6, 14, 15, 16, 24, 25, 26],\n",
    "  [ 7,  8,  9, 17, 18, 19, 27, 28, 29]] \n",
    "```\n",
    "\n",
    "  ----------\n",
    "  Result2\n",
    "```\n",
    " [[ 1,  2,  3],\n",
    "  [ 4,  5,  6],\n",
    "  [ 7,  8,  9],\n",
    "  [11, 12, 13],\n",
    "  [14, 15, 16],\n",
    "  [17, 18, 19],\n",
    "  [21, 22, 23],\n",
    "  [24, 25, 26],\n",
    "  [27, 28, 29]]\n",
    "```"
   ]
  },
  {
   "cell_type": "code",
   "execution_count": 53,
   "id": "a0442d46-bff4-4b28-b7ff-65ddffd05292",
   "metadata": {},
   "outputs": [
    {
     "data": {
      "text/plain": [
       "(array([[ 1,  2,  3, 11, 12, 13, 21, 22, 23],\n",
       "        [ 4,  5,  6, 14, 15, 16, 24, 25, 26],\n",
       "        [ 7,  8,  9, 17, 18, 19, 27, 28, 29]]),\n",
       " array([[ 1,  2,  3],\n",
       "        [ 4,  5,  6],\n",
       "        [ 7,  8,  9],\n",
       "        [11, 12, 13],\n",
       "        [14, 15, 16],\n",
       "        [17, 18, 19],\n",
       "        [21, 22, 23],\n",
       "        [24, 25, 26],\n",
       "        [27, 28, 29]]))"
      ]
     },
     "execution_count": 53,
     "metadata": {},
     "output_type": "execute_result"
    }
   ],
   "source": [
    "arr1= np.array([[1, 2, 3],[4, 5, 6],[7, 8, 9]]) \n",
    "arr2= np.array([[11, 12, 13],[14, 15, 16], [17, 18, 19]]) \n",
    "arr3= np.array([[21, 22, 23],[24, 25, 26],[27, 28, 29]]) \n",
    " \n",
    "result1=np.hstack((arr1,arr2,arr3)) \n",
    "result2=np.vstack((arr1,arr2,arr3)) \n",
    "\n",
    "result1, result2"
   ]
  },
  {
   "cell_type": "markdown",
   "id": "2d8638be",
   "metadata": {},
   "source": [
    "#### Q10. 아래와 같이 넘파이 배열을 생성한 후 50보다 큰 숫자만 필터링하여라. \n",
    "\n",
    "```\n",
    "arr = np.random.choice(100, 40, replace=False)\n",
    "\n",
    "Before => \n",
    "\n",
    "[40, 63,  8,  2, 35, 84, 72, 48, 78, 86, 87, 58,  0, 49, 14, 55, 11,\n",
    "       73, 39, 26, 75, 27, 99, 46, 25, 22, 34, 83, 24, 47, 31, 57, 62, 19,\n",
    "       36, 15, 17, 10, 98, 90]\n",
    "\n",
    "After =>\n",
    "\n",
    "[63, 84, 72, 78, 86, 87, 58, 55, 73, 75, 99, 83, 57, 62, 98, 90]\n",
    "\n",
    "```"
   ]
  },
  {
   "cell_type": "code",
   "execution_count": 58,
   "id": "03c22039-7e21-48fd-9cba-bec220da6ee2",
   "metadata": {},
   "outputs": [
    {
     "data": {
      "text/plain": [
       "(array([17, 44, 43, 42, 55, 81, 33, 24, 96, 48, 67, 50, 89, 16, 46, 66, 88,\n",
       "         5, 54, 60,  7, 73, 69, 95, 79, 94, 61, 90,  8,  3, 65,  4, 80, 22,\n",
       "         6, 28, 45, 31, 41, 62]),\n",
       " array([55, 81, 96, 67, 89, 66, 88, 54, 60, 73, 69, 95, 79, 94, 61, 90, 65,\n",
       "        80, 62]),\n",
       " array([55, 81, 96, 67, 89, 66, 88, 54, 60, 73, 69, 95, 79, 94, 61, 90, 65,\n",
       "        80, 62]))"
      ]
     },
     "execution_count": 58,
     "metadata": {},
     "output_type": "execute_result"
    }
   ],
   "source": [
    "num=np.random.choice(100,40,replace=False) \n",
    "num,num[np.where(num>50)] # 인덱스 반환,num[num>50] # boolean값 반환"
   ]
  },
  {
   "cell_type": "markdown",
   "id": "249ef810",
   "metadata": {},
   "source": [
    "#### Quiz 11\n",
    "```\n",
    "kor = np.array( [60,55,70,30,20,90])\n",
    "1. 국어점수가 가장큰값을 구하여라\n",
    "2. 국어점수가 80점이상인 값을 구하여라\n",
    "3. 국어 점수가 50점이상 80점 이하인 값을 구하여라\n",
    "4. 국어점수의 평균을 구하여라\n",
    "5. 국어점수의 총합을 구하여라.\n",
    "6. 국어점수가 40점이하인 데이터를 삭제하여라\n",
    "7. 국어점수가 50점이상인 데이터에 가산점 10%를 부여하여라\n",
    "8. 국어점수 top 3를 구하여라\n",
    "9. 국어점수가 70점이상이면 '합격' , 아니면 '불합격으로' 아래와 같이 출력하시요\n",
    "\n",
    "60 '불합격'\n",
    "55 '불합격'\n",
    "```"
   ]
  },
  {
   "cell_type": "code",
   "execution_count": 59,
   "id": "306a7066-dc57-4935-bfcb-56c3c1bf3080",
   "metadata": {},
   "outputs": [],
   "source": [
    "kor = np.array( [60,55,70,30,20,90])"
   ]
  },
  {
   "cell_type": "code",
   "execution_count": 60,
   "id": "580becf4",
   "metadata": {},
   "outputs": [
    {
     "data": {
      "text/plain": [
       "90"
      ]
     },
     "execution_count": 60,
     "metadata": {},
     "output_type": "execute_result"
    }
   ],
   "source": [
    "# 1. 국어점수가 가장큰값을 구하여라 \n",
    "max(kor)"
   ]
  },
  {
   "cell_type": "code",
   "execution_count": 61,
   "id": "e5dee131",
   "metadata": {},
   "outputs": [
    {
     "data": {
      "text/plain": [
       "array([90])"
      ]
     },
     "execution_count": 61,
     "metadata": {},
     "output_type": "execute_result"
    }
   ],
   "source": [
    "# 2. 국어점수가 80점이상인 값을 구하여라 \n",
    "kor[(kor>=90)]"
   ]
  },
  {
   "cell_type": "code",
   "execution_count": 62,
   "id": "7b3550ee",
   "metadata": {},
   "outputs": [
    {
     "data": {
      "text/plain": [
       "array([60, 55, 70])"
      ]
     },
     "execution_count": 62,
     "metadata": {},
     "output_type": "execute_result"
    }
   ],
   "source": [
    "# 3. 국어 점수가 50점이상 80점 이하인 값을 구하여라 \n",
    "kor[(kor>=50) & (kor<=80)]"
   ]
  },
  {
   "cell_type": "code",
   "execution_count": 63,
   "id": "9541c1fa",
   "metadata": {},
   "outputs": [],
   "source": [
    "# 4. 국어점수의 평균을 구하여라"
   ]
  },
  {
   "cell_type": "code",
   "execution_count": 64,
   "id": "daf157d8",
   "metadata": {},
   "outputs": [
    {
     "data": {
      "text/plain": [
       "54.166666666666664"
      ]
     },
     "execution_count": 64,
     "metadata": {},
     "output_type": "execute_result"
    }
   ],
   "source": [
    "np.average(kor)"
   ]
  },
  {
   "cell_type": "code",
   "execution_count": 66,
   "id": "5dde5f3d",
   "metadata": {},
   "outputs": [
    {
     "data": {
      "text/plain": [
       "54.167"
      ]
     },
     "execution_count": 66,
     "metadata": {},
     "output_type": "execute_result"
    }
   ],
   "source": [
    "round(kor.mean(),3)"
   ]
  },
  {
   "cell_type": "code",
   "execution_count": 67,
   "id": "879c73db",
   "metadata": {},
   "outputs": [],
   "source": [
    "# 5. 국어점수의 총합을 구하여라."
   ]
  },
  {
   "cell_type": "code",
   "execution_count": 68,
   "id": "cc698cee",
   "metadata": {},
   "outputs": [
    {
     "data": {
      "text/plain": [
       "325"
      ]
     },
     "execution_count": 68,
     "metadata": {},
     "output_type": "execute_result"
    }
   ],
   "source": [
    "np.sum(kor)"
   ]
  },
  {
   "cell_type": "code",
   "execution_count": 69,
   "id": "4077d6c6",
   "metadata": {},
   "outputs": [
    {
     "data": {
      "text/plain": [
       "(array([60, 55, 70, 30, 20, 90]),\n",
       " [array([False, False, False,  True,  True, False])],\n",
       " array([60, 55, 70, 90]))"
      ]
     },
     "execution_count": 69,
     "metadata": {},
     "output_type": "execute_result"
    }
   ],
   "source": [
    "# 6. 국어점수가 40점이하인 데이터를 삭제하여라  \n",
    "kor1=kor\n",
    "num= [kor<=40] \n",
    "kor1,num,np.delete(kor1,np.where(kor<=40))"
   ]
  },
  {
   "cell_type": "code",
   "execution_count": 70,
   "id": "ce2d7d8a",
   "metadata": {},
   "outputs": [
    {
     "data": {
      "text/plain": [
       "array([66. , 60.5, 77. , 30. , 20. , 99. ])"
      ]
     },
     "execution_count": 70,
     "metadata": {},
     "output_type": "execute_result"
    }
   ],
   "source": [
    "# 7. 국어점수가 50점이상인 데이터에 가산점 10%를 부여하여라 \n",
    "np.where(kor>=40,kor*1.1,kor)"
   ]
  },
  {
   "cell_type": "code",
   "execution_count": 71,
   "id": "5e2fde52",
   "metadata": {},
   "outputs": [
    {
     "data": {
      "text/plain": [
       "array([90, 70, 60])"
      ]
     },
     "execution_count": 71,
     "metadata": {},
     "output_type": "execute_result"
    }
   ],
   "source": [
    "# 8. 국어점수 top 3를 구하여라 \n",
    "np.sort(kor)[::-1][:3], # reverse한 후, 3개 추출 \n",
    "kor[np.argsort(kor)[::-1][:3]]"
   ]
  },
  {
   "cell_type": "code",
   "execution_count": 72,
   "id": "3f446ae8",
   "metadata": {},
   "outputs": [
    {
     "data": {
      "text/plain": [
       "(array([60, 55, 70, 30, 20, 90]),\n",
       " array(['불합격', '불합격', '합격', '불합격', '불합격', '합격'], dtype='<U3'))"
      ]
     },
     "execution_count": 72,
     "metadata": {},
     "output_type": "execute_result"
    }
   ],
   "source": [
    "# 9. 국어점수가 70점이상이면 '합격' , 아니면 '불합격으로' 아래와 같이 출력하시요 \n",
    "kor,np.where(kor>=70,\"합격\",\"불합격\")"
   ]
  },
  {
   "cell_type": "code",
   "execution_count": null,
   "id": "b8ac206c",
   "metadata": {},
   "outputs": [],
   "source": []
  }
 ],
 "metadata": {
  "kernelspec": {
   "display_name": "Python 3 (ipykernel)",
   "language": "python",
   "name": "python3"
  },
  "language_info": {
   "codemirror_mode": {
    "name": "ipython",
    "version": 3
   },
   "file_extension": ".py",
   "mimetype": "text/x-python",
   "name": "python",
   "nbconvert_exporter": "python",
   "pygments_lexer": "ipython3",
   "version": "3.11.5"
  },
  "toc": {
   "base_numbering": 1,
   "nav_menu": {},
   "number_sections": true,
   "sideBar": true,
   "skip_h1_title": false,
   "title_cell": "Table of Contents",
   "title_sidebar": "Contents",
   "toc_cell": false,
   "toc_position": {
    "height": "calc(100% - 180px)",
    "left": "10px",
    "top": "150px",
    "width": "232px"
   },
   "toc_section_display": true,
   "toc_window_display": true
  },
  "varInspector": {
   "cols": {
    "lenName": 16,
    "lenType": 16,
    "lenVar": 40
   },
   "kernels_config": {
    "python": {
     "delete_cmd_postfix": "",
     "delete_cmd_prefix": "del ",
     "library": "var_list.py",
     "varRefreshCmd": "print(var_dic_list())"
    },
    "r": {
     "delete_cmd_postfix": ") ",
     "delete_cmd_prefix": "rm(",
     "library": "var_list.r",
     "varRefreshCmd": "cat(var_dic_list()) "
    }
   },
   "types_to_exclude": [
    "module",
    "function",
    "builtin_function_or_method",
    "instance",
    "_Feature"
   ],
   "window_display": false
  }
 },
 "nbformat": 4,
 "nbformat_minor": 5
}
