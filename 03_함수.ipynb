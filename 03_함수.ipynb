{
 "cells": [
  {
   "cell_type": "markdown",
   "id": "103e7b5d",
   "metadata": {},
   "source": [
    "# 함수 구조"
   ]
  },
  {
   "cell_type": "code",
   "execution_count": 2,
   "id": "53f331d0",
   "metadata": {},
   "outputs": [],
   "source": [
    "def add(a, b): \n",
    "    return a + b"
   ]
  },
  {
   "cell_type": "code",
   "execution_count": 4,
   "id": "eeb0854f",
   "metadata": {},
   "outputs": [
    {
     "name": "stdout",
     "output_type": "stream",
     "text": [
      "7\n"
     ]
    }
   ],
   "source": [
    "a = 3\n",
    "b = 4\n",
    "c = add(a, b)  \n",
    "print(c)"
   ]
  },
  {
   "cell_type": "code",
   "execution_count": 6,
   "id": "723b8d57",
   "metadata": {},
   "outputs": [
    {
     "name": "stdout",
     "output_type": "stream",
     "text": [
      "7\n"
     ]
    }
   ],
   "source": [
    "def add(a, b):  # a, b는 매개변수\n",
    "    return a+b\n",
    "\n",
    "print(add(3, 4))  # 3, 4는 인수"
   ]
  },
  {
   "cell_type": "markdown",
   "id": "d12211d9",
   "metadata": {},
   "source": [
    "# 일반적인 함수"
   ]
  },
  {
   "cell_type": "code",
   "execution_count": 9,
   "id": "38f0b03a",
   "metadata": {},
   "outputs": [],
   "source": [
    "def add(a, b): \n",
    "    result = a + b \n",
    "    return result"
   ]
  },
  {
   "cell_type": "code",
   "execution_count": 11,
   "id": "5d951dff",
   "metadata": {},
   "outputs": [
    {
     "name": "stdout",
     "output_type": "stream",
     "text": [
      "7\n"
     ]
    }
   ],
   "source": [
    "a = add(3, 4)\n",
    "print(a)"
   ]
  },
  {
   "cell_type": "markdown",
   "id": "28624183",
   "metadata": {},
   "source": [
    "# 입력값이 없는 함수"
   ]
  },
  {
   "cell_type": "code",
   "execution_count": 13,
   "id": "8e82b409",
   "metadata": {},
   "outputs": [],
   "source": [
    "def say(): \n",
    "     return 'Hi' "
   ]
  },
  {
   "cell_type": "code",
   "execution_count": 15,
   "id": "54f1c619",
   "metadata": {},
   "outputs": [
    {
     "name": "stdout",
     "output_type": "stream",
     "text": [
      "Hi\n"
     ]
    }
   ],
   "source": [
    "a = say()\n",
    "print(a)"
   ]
  },
  {
   "cell_type": "markdown",
   "id": "2098eb5e",
   "metadata": {},
   "source": [
    "# 리턴값이 없는 함수"
   ]
  },
  {
   "cell_type": "code",
   "execution_count": 17,
   "id": "dcc4a321",
   "metadata": {},
   "outputs": [],
   "source": [
    " def add(a, b): \n",
    "     print(\"%d, %d의 합은 %d입니다.\" % (a, b, a+b))"
   ]
  },
  {
   "cell_type": "code",
   "execution_count": 19,
   "id": "00618981",
   "metadata": {},
   "outputs": [
    {
     "name": "stdout",
     "output_type": "stream",
     "text": [
      "3, 4의 합은 7입니다.\n"
     ]
    }
   ],
   "source": [
    "add(3, 4)"
   ]
  },
  {
   "cell_type": "code",
   "execution_count": 22,
   "id": "6a436862",
   "metadata": {},
   "outputs": [
    {
     "name": "stdout",
     "output_type": "stream",
     "text": [
      "3, 4의 합은 7입니다.\n",
      "None\n"
     ]
    }
   ],
   "source": [
    "a = add(3, 4) \n",
    "print(a)"
   ]
  },
  {
   "cell_type": "markdown",
   "id": "7f6c6d29",
   "metadata": {},
   "source": [
    "# 입력값도, 리턴값도 없는 함수"
   ]
  },
  {
   "cell_type": "code",
   "execution_count": 24,
   "id": "fd594efa",
   "metadata": {},
   "outputs": [],
   "source": [
    "def say(): \n",
    "     print('Hi')"
   ]
  },
  {
   "cell_type": "markdown",
   "id": "9a9da2ae",
   "metadata": {},
   "source": [
    "# 매개변수를 지정하여 호출하기"
   ]
  },
  {
   "cell_type": "code",
   "execution_count": 26,
   "id": "fc480f79",
   "metadata": {},
   "outputs": [],
   "source": [
    "def sub(a, b):\n",
    "     return a - b"
   ]
  },
  {
   "cell_type": "code",
   "execution_count": 28,
   "id": "d8035551",
   "metadata": {},
   "outputs": [
    {
     "name": "stdout",
     "output_type": "stream",
     "text": [
      "4\n"
     ]
    }
   ],
   "source": [
    "result = sub(a=7, b=3)  #매개변수 지정시 순서 상관없음\n",
    "print(result)"
   ]
  },
  {
   "cell_type": "code",
   "execution_count": 31,
   "id": "35254b4d",
   "metadata": {},
   "outputs": [
    {
     "name": "stdout",
     "output_type": "stream",
     "text": [
      "-4\n"
     ]
    }
   ],
   "source": [
    "result = sub(b=7, a=3)  \n",
    "print(result)"
   ]
  },
  {
   "cell_type": "code",
   "execution_count": null,
   "id": "f6a885e7",
   "metadata": {},
   "outputs": [],
   "source": []
  },
  {
   "cell_type": "code",
   "execution_count": 44,
   "id": "ffe26279",
   "metadata": {},
   "outputs": [],
   "source": [
    "def fn(*args):\n",
    "    print(args)"
   ]
  },
  {
   "cell_type": "code",
   "execution_count": 45,
   "id": "1feca9f6",
   "metadata": {},
   "outputs": [
    {
     "name": "stdout",
     "output_type": "stream",
     "text": [
      "()\n"
     ]
    }
   ],
   "source": [
    "fn()"
   ]
  },
  {
   "cell_type": "code",
   "execution_count": 39,
   "id": "3e19e3d4",
   "metadata": {},
   "outputs": [],
   "source": [
    ">>> def add_many(*args): #args=인수를 뜻하는 arguments의 약수 \n",
    "...     result = 0 \n",
    "...     for i in args: \n",
    "...         result = result + i   # *args에 입력받은 모든 값을 더한다.\n",
    "...     return result "
   ]
  },
  {
   "cell_type": "code",
   "execution_count": 121,
   "id": "48b4cac9",
   "metadata": {},
   "outputs": [
    {
     "name": "stdout",
     "output_type": "stream",
     "text": [
      "함수 안에서 실행 6\n",
      "함수 밖에서 실행 6\n"
     ]
    }
   ],
   "source": [
    "result = add_many(1,2,3)  ###수정####\\\n",
    "print('함수 안에서 실행',result)\n",
    " \n",
    "result=add_many(1,2,3)  \n",
    "print('함수 밖에서 실행',result)"
   ]
  },
  {
   "cell_type": "code",
   "execution_count": 59,
   "id": "3a260404",
   "metadata": {},
   "outputs": [
    {
     "name": "stdout",
     "output_type": "stream",
     "text": [
      "함수 안에서 실행 55\n"
     ]
    }
   ],
   "source": [
    "result = add_many(1,2,3,4,5,6,7,8,9,10)\n",
    "print('함수 안에서 실행',result)"
   ]
  },
  {
   "cell_type": "code",
   "execution_count": 57,
   "id": "fbfe12e4",
   "metadata": {},
   "outputs": [],
   "source": [
    ">>> def add_mul(choice, *args): #고정인수가 첫번째로 나와야함\n",
    "...     if choice == \"add\":   # 매개변수 choice에 \"add\"를 입력받았을 때\n",
    "...         result = 0 \n",
    "...         for i in args: \n",
    "...             result = result + i \n",
    "...     elif choice == \"mul\":   # 매개변수 choice에 \"mul\"을 입력받았을 때\n",
    "...         result = 1 \n",
    "...         for i in args: \n",
    "...             result = result * i \n",
    "...     return result "
   ]
  },
  {
   "cell_type": "code",
   "execution_count": 61,
   "id": "5d25b181",
   "metadata": {},
   "outputs": [
    {
     "name": "stdout",
     "output_type": "stream",
     "text": [
      "15\n",
      "120\n"
     ]
    }
   ],
   "source": [
    "result = add_mul('add', 1,2,3,4,5)\n",
    "print(result) \n",
    "\n",
    "result = add_mul('mul', 1,2,3,4,5)\n",
    "print(result)"
   ]
  },
  {
   "cell_type": "markdown",
   "id": "239537bd",
   "metadata": {},
   "source": [
    "# 키워드 매개변수"
   ]
  },
  {
   "cell_type": "code",
   "execution_count": 64,
   "id": "97f99794",
   "metadata": {},
   "outputs": [],
   "source": [
    "def print_kwargs(**kwargs): #매개변수 앞 ** 2개를 붙인다\n",
    "     print(kwargs)"
   ]
  },
  {
   "cell_type": "code",
   "execution_count": 65,
   "id": "2bd92743",
   "metadata": {},
   "outputs": [
    {
     "name": "stdout",
     "output_type": "stream",
     "text": [
      "{}\n"
     ]
    }
   ],
   "source": [
    "print_kwargs()"
   ]
  },
  {
   "cell_type": "code",
   "execution_count": 70,
   "id": "fdfeb7ea",
   "metadata": {},
   "outputs": [
    {
     "name": "stdout",
     "output_type": "stream",
     "text": [
      "{'a': 1}\n",
      "{'name': 'foo', 'age': 3}\n"
     ]
    }
   ],
   "source": [
    "print_kwargs(a=1)\n",
    "\n",
    "print_kwargs(name='foo', age=3)"
   ]
  },
  {
   "cell_type": "markdown",
   "id": "73040986",
   "metadata": {},
   "source": [
    "# 함수의 리턴값은 언제나 하나이다."
   ]
  },
  {
   "cell_type": "code",
   "execution_count": 78,
   "id": "3ab2ca7b",
   "metadata": {},
   "outputs": [],
   "source": [
    ">>> def add_and_mul(a,b): \n",
    "...     return a+b, a*b"
   ]
  },
  {
   "cell_type": "code",
   "execution_count": 80,
   "id": "05cc9d81",
   "metadata": {},
   "outputs": [],
   "source": [
    ">>> result = add_and_mul(3,4)"
   ]
  },
  {
   "cell_type": "code",
   "execution_count": 82,
   "id": "2c25a48e",
   "metadata": {},
   "outputs": [
    {
     "data": {
      "text/plain": [
       "(7, 12)"
      ]
     },
     "execution_count": 82,
     "metadata": {},
     "output_type": "execute_result"
    }
   ],
   "source": [
    "result"
   ]
  },
  {
   "cell_type": "code",
   "execution_count": 85,
   "id": "be3462b1",
   "metadata": {},
   "outputs": [
    {
     "name": "stdout",
     "output_type": "stream",
     "text": [
      "7\n",
      "(7, 12)\n"
     ]
    }
   ],
   "source": [
    "result1, result2 = add_and_mul(3,4) #받고싶은 값만 받을 수 있음\n",
    "print(result1) \n",
    "print(_)#실제로 변수를 받는 것, 가독성 목적"
   ]
  },
  {
   "cell_type": "code",
   "execution_count": 6,
   "id": "2a3303b4",
   "metadata": {},
   "outputs": [
    {
     "name": "stdout",
     "output_type": "stream",
     "text": [
      "(5, 6)\n"
     ]
    }
   ],
   "source": [
    ">>> def add_and_mul(a,b): \n",
    "...     return a+b, a*b \n",
    "result = add_and_mul(2,3) #함수는 return 을 만나는 순간 값을 반환하고 함수를 빠져나감(값 출력 X) \n",
    "print(result)"
   ]
  },
  {
   "cell_type": "markdown",
   "id": "14ef162a",
   "metadata": {},
   "source": [
    "# 매개변수에 초깃값 미리 설정하기"
   ]
  },
  {
   "cell_type": "code",
   "execution_count": 90,
   "id": "52ad50cb",
   "metadata": {},
   "outputs": [],
   "source": [
    ">>> def say_nick(nick): \n",
    "...     if nick == \"바보\": \n",
    "...         return \n",
    "...     print(\"나의 별명은 %s 입니다.\" % nick)"
   ]
  },
  {
   "cell_type": "code",
   "execution_count": 93,
   "id": "2229de2b",
   "metadata": {},
   "outputs": [
    {
     "name": "stdout",
     "output_type": "stream",
     "text": [
      "나의 별명은 야호 입니다.\n"
     ]
    }
   ],
   "source": [
    ">>> say_nick('야호')\n",
    ">>> say_nick('바보')"
   ]
  },
  {
   "cell_type": "markdown",
   "id": "93cdb609",
   "metadata": {},
   "source": [
    "# 매개변수에 초깃값 미리 설정하기"
   ]
  },
  {
   "cell_type": "code",
   "execution_count": 97,
   "id": "9b53911c",
   "metadata": {},
   "outputs": [],
   "source": [
    "# default1.py\n",
    "def say_myself(name, age, man=True): \n",
    "    print(\"나의 이름은 %s 입니다.\" % name) \n",
    "    print(\"나이는 %d살입니다.\" % age) \n",
    "    if man: \n",
    "        print(\"남자입니다.\")\n",
    "    else: \n",
    "        print(\"여자입니다.\")"
   ]
  },
  {
   "cell_type": "code",
   "execution_count": 100,
   "id": "6215deb1",
   "metadata": {},
   "outputs": [
    {
     "name": "stdout",
     "output_type": "stream",
     "text": [
      "나의 이름은 박응용 입니다.\n",
      "나이는 27살입니다.\n",
      "남자입니다.\n"
     ]
    }
   ],
   "source": [
    "say_myself(\"박응용\", 27)"
   ]
  },
  {
   "cell_type": "code",
   "execution_count": 103,
   "id": "d3647b09",
   "metadata": {},
   "outputs": [
    {
     "name": "stdout",
     "output_type": "stream",
     "text": [
      "나의 이름은 박응용 입니다.\n",
      "나이는 27살입니다.\n",
      "남자입니다.\n"
     ]
    }
   ],
   "source": [
    "say_myself(\"박응용\", 27, True)"
   ]
  },
  {
   "cell_type": "code",
   "execution_count": 105,
   "id": "c8f6f825",
   "metadata": {},
   "outputs": [
    {
     "name": "stdout",
     "output_type": "stream",
     "text": [
      "나의 이름은 박응선 입니다.\n",
      "나이는 27살입니다.\n",
      "여자입니다.\n"
     ]
    }
   ],
   "source": [
    "say_myself(\"박응선\", 27, False)"
   ]
  },
  {
   "cell_type": "code",
   "execution_count": 107,
   "id": "3e86f4e8",
   "metadata": {},
   "outputs": [
    {
     "ename": "SyntaxError",
     "evalue": "non-default argument follows default argument (1837168573.py, line 2)",
     "output_type": "error",
     "traceback": [
      "\u001b[1;36m  Cell \u001b[1;32mIn[107], line 2\u001b[1;36m\u001b[0m\n\u001b[1;33m    def say_myself(name, man=True, age):\u001b[0m\n\u001b[1;37m                                   ^\u001b[0m\n\u001b[1;31mSyntaxError\u001b[0m\u001b[1;31m:\u001b[0m non-default argument follows default argument\n"
     ]
    }
   ],
   "source": [
    "# default2.py (초기 매개변수는 맨 뒤에)\n",
    "def say_myself(name, man=True, age): \n",
    "    print(\"나의 이름은 %s 입니다.\" % name) \n",
    "    print(\"나이는 %d살입니다.\" % age) \n",
    "    if man: \n",
    "        print(\"남자입니다.\") \n",
    "    else: \n",
    "        print(\"여자입니다.\")"
   ]
  },
  {
   "cell_type": "markdown",
   "id": "83476bd2",
   "metadata": {},
   "source": [
    "# 함수 안에서 선언한 변수의 효력 범위(지역vs전역)"
   ]
  },
  {
   "cell_type": "code",
   "execution_count": 109,
   "id": "5f24312d",
   "metadata": {},
   "outputs": [
    {
     "name": "stdout",
     "output_type": "stream",
     "text": [
      "1\n"
     ]
    }
   ],
   "source": [
    "# vartest.py\n",
    "a = 1 #전역변수\n",
    "def vartest(a):\n",
    "    a = a +1 #지역변수 / 함수 안에서만 사용 /선언만, 리턴 안함\n",
    "\n",
    "vartest(a)\n",
    "print(a)"
   ]
  },
  {
   "cell_type": "code",
   "execution_count": 113,
   "id": "cc7ed60b",
   "metadata": {},
   "outputs": [
    {
     "ename": "NameError",
     "evalue": "name 'aa' is not defined",
     "output_type": "error",
     "traceback": [
      "\u001b[1;31m-----------------------------------------------\u001b[0m",
      "\u001b[1;31mNameError\u001b[0m     Traceback (most recent call last)",
      "Cell \u001b[1;32mIn[113], line 5\u001b[0m\n\u001b[0;32m      2\u001b[0m     aa \u001b[38;5;241m=\u001b[39m aa \u001b[38;5;241m+\u001b[39m\u001b[38;5;241m1\u001b[39m \u001b[38;5;66;03m#지역변수 \u001b[39;00m\n\u001b[0;32m      4\u001b[0m vartest(\u001b[38;5;241m3\u001b[39m)\n\u001b[1;32m----> 5\u001b[0m \u001b[38;5;28mprint\u001b[39m(aa)\n",
      "\u001b[1;31mNameError\u001b[0m: name 'aa' is not defined"
     ]
    }
   ],
   "source": [
    "def vartest(aa): #매개변수 이름\n",
    "    aa = aa +1 #지역변수 \n",
    "\n",
    "vartest(3)\n",
    "print(aa)#전역변수 요청 /에러 발생"
   ]
  },
  {
   "cell_type": "markdown",
   "id": "f57903fa",
   "metadata": {},
   "source": [
    "# 함수 안에서 함수 밖의 변수를 변경하는 방법"
   ]
  },
  {
   "cell_type": "code",
   "execution_count": 115,
   "id": "b6bf0dd3",
   "metadata": {},
   "outputs": [
    {
     "name": "stdout",
     "output_type": "stream",
     "text": [
      "2\n"
     ]
    }
   ],
   "source": [
    "# vartest_return.py /리턴 사용하기\n",
    "a = 1 \n",
    "def vartest(a): \n",
    "    a = a +1 \n",
    "    return a\n",
    "\n",
    "a = vartest(a) #전역변수에 함수 리턴값이 대입\n",
    "print(a)\n"
   ]
  },
  {
   "cell_type": "code",
   "execution_count": 117,
   "id": "4c74dd3e",
   "metadata": {},
   "outputs": [
    {
     "name": "stdout",
     "output_type": "stream",
     "text": [
      "2\n"
     ]
    }
   ],
   "source": [
    "# vartest_global.py/ global 명령어 사용하기\n",
    "a = 1 \n",
    "def vartest(): \n",
    "    global a #함수 안에서 함수 밖에 a변수를 직접 사용(전역함수 선언)\n",
    "    a = a+1\n",
    "\n",
    "vartest() #입력도 없고 출력도 없음\n",
    "print(a)"
   ]
  },
  {
   "cell_type": "markdown",
   "id": "07beb687",
   "metadata": {},
   "source": [
    "# lambda"
   ]
  },
  {
   "cell_type": "code",
   "execution_count": null,
   "id": "aaa50a66",
   "metadata": {},
   "outputs": [],
   "source": [
    "# 함수_이름 = lambda 매개변수1, 매개변수2, ... : 매개변수를_이용한_표현식"
   ]
  },
  {
   "cell_type": "code",
   "execution_count": 119,
   "id": "df3f5150",
   "metadata": {},
   "outputs": [
    {
     "name": "stdout",
     "output_type": "stream",
     "text": [
      "7\n"
     ]
    }
   ],
   "source": [
    "add = lambda a, b: a+b #식형태로 되어있다고 하여 'lamda' /일회성 데이터 정제처리시\n",
    "result = add(3, 4)\n",
    "print(result)"
   ]
  },
  {
   "cell_type": "code",
   "execution_count": 122,
   "id": "6c0a84cd",
   "metadata": {},
   "outputs": [
    {
     "name": "stdout",
     "output_type": "stream",
     "text": [
      "7\n"
     ]
    }
   ],
   "source": [
    "#def 함수와 동일 \n",
    "def add(a, b):\n",
    "     return a+b\n",
    "\n",
    "result = add(3, 4)\n",
    "print(result)"
   ]
  },
  {
   "cell_type": "markdown",
   "id": "90550c91",
   "metadata": {},
   "source": [
    "# 사용자 입출력"
   ]
  },
  {
   "cell_type": "markdown",
   "id": "ab2d0ad4",
   "metadata": {},
   "source": [
    ">>> a = input()\n",
    "\n",
    ">>> a"
   ]
  },
  {
   "cell_type": "markdown",
   "id": "b1aecee7",
   "metadata": {},
   "source": [
    "# print 자세히 알기"
   ]
  },
  {
   "cell_type": "code",
   "execution_count": 129,
   "id": "0ebe92f5",
   "metadata": {},
   "outputs": [
    {
     "name": "stdout",
     "output_type": "stream",
     "text": [
      "123\n",
      "Python\n",
      "[1, 2, 3]\n"
     ]
    }
   ],
   "source": [
    ">>> a = 123\n",
    ">>> print(a)\n",
    "\n",
    ">>> a = \"Python\"\n",
    ">>> print(a)\n",
    "\n",
    ">>> a = [1, 2, 3]\n",
    ">>> print(a)\n"
   ]
  },
  {
   "cell_type": "code",
   "execution_count": 131,
   "id": "4041d33a",
   "metadata": {},
   "outputs": [
    {
     "name": "stdout",
     "output_type": "stream",
     "text": [
      "lifeistoo short\n",
      "lifeistoo short\n"
     ]
    }
   ],
   "source": [
    "# 큰따옴표로 둘러싸인 문자열은 + 연산과 동일하다 \n",
    ">>> print(\"life\" \"is\" \"too short\")  # 1번\n",
    "\n",
    ">>> print(\"life\"+\"is\"+\"too short\")  # 2번"
   ]
  },
  {
   "cell_type": "code",
   "execution_count": 132,
   "id": "466fa88b",
   "metadata": {},
   "outputs": [
    {
     "name": "stdout",
     "output_type": "stream",
     "text": [
      "life is too short\n"
     ]
    }
   ],
   "source": [
    "# 문자열 띄어쓰기는 쉼표로 한다 \n",
    ">>> print(\"life\", \"is\", \"too short\")"
   ]
  },
  {
   "cell_type": "code",
   "execution_count": 133,
   "id": "68f5304a",
   "metadata": {},
   "outputs": [
    {
     "name": "stdout",
     "output_type": "stream",
     "text": [
      "0 1 2 3 4 5 6 7 8 9 "
     ]
    }
   ],
   "source": [
    "# 한 줄에 결괏값 출력하기 \n",
    ">>> for i in range(10):\n",
    "...     print(i, end=' ')\n"
   ]
  }
 ],
 "metadata": {
  "kernelspec": {
   "display_name": "Python 3 (ipykernel)",
   "language": "python",
   "name": "python3"
  },
  "language_info": {
   "codemirror_mode": {
    "name": "ipython",
    "version": 3
   },
   "file_extension": ".py",
   "mimetype": "text/x-python",
   "name": "python",
   "nbconvert_exporter": "python",
   "pygments_lexer": "ipython3",
   "version": "3.11.5"
  }
 },
 "nbformat": 4,
 "nbformat_minor": 5
}
